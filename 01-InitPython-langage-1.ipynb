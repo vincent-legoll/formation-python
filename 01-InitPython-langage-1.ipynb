{
 "cells": [
  {
   "cell_type": "markdown",
   "metadata": {
    "slideshow": {
     "slide_type": "slide"
    }
   },
   "source": [
    "\n",
    " ![](fig/python-logo.png)\n",
    "\n",
    "\n",
    "\n",
    "# Introduction à la Programmation Python\n",
    "***\n",
    "\n",
    "## Le langage [1/2]\n",
    "\n",
    "***\n",
    "\n",
    "Formation permanente du CNRS, Délégation Alsace\n",
    "\n",
    "Novembre 2015\n",
    "\n",
    "***\n",
    "\n",
    "**Auteurs :**\n",
    "- Vincent Legoll ([vincent.legoll@idgrilles.fr](mailto: vincent.legoll@idgrilles.fr))\n",
    "- Matthieu Boileau ([matthieu.boileau@math.unistra.fr](mailto: matthieu.boileau@math.unistra.fr))"
   ]
  },
  {
   "cell_type": "markdown",
   "metadata": {
    "slideshow": {
     "slide_type": "slide"
    }
   },
   "source": [
    "# Langage python et sa syntaxe\n",
    "\n",
    "### variables\n",
    "\n",
    "Pour accéder aux données, on leur donne des noms que l'on appelle \"variables\".\n",
    "\n",
    "Pour donner un nom à une donnée, on utilise l'opérateur d'assignation '='.\n",
    "\n",
    "Exécutez la cellule suivante (SHIFT+ENTER) pour définir trois variables nommées : age, prénom et taille."
   ]
  },
  {
   "cell_type": "code",
   "execution_count": null,
   "metadata": {
    "collapsed": false,
    "slideshow": {
     "slide_type": "fragment"
    }
   },
   "outputs": [],
   "source": [
    "# Par exemple: donnons la valeur 23 à la variable 'age'\n",
    "age = 23\n",
    "# Les variables peuvent se référer à divers types de données: des chaînes de caractères...\n",
    "prenom = \"Julien\"\n",
    "# Des nombres réels, etc...\n",
    "taille = 1.83"
   ]
  },
  {
   "cell_type": "markdown",
   "metadata": {},
   "source": [
    "Pour se servir de la donnée référencée par une variable, il suffit d'utiliser le nom cette variable.\n",
    "\n",
    "La fonction ``print`` affiche à l'écran ce qui lui est passé en paramètre."
   ]
  },
  {
   "cell_type": "code",
   "execution_count": null,
   "metadata": {
    "collapsed": false
   },
   "outputs": [],
   "source": [
    "print \"Julien\", 23, 1.83\n",
    "print prenom, age, \"ans\", taille, \"mètre\""
   ]
  },
  {
   "cell_type": "markdown",
   "metadata": {
    "slideshow": {
     "slide_type": "subslide"
    }
   },
   "source": [
    "Les variables peuvent changer et ainsi se référer à une autre donnée."
   ]
  },
  {
   "cell_type": "code",
   "execution_count": null,
   "metadata": {
    "collapsed": false,
    "slideshow": {
     "slide_type": "fragment"
    }
   },
   "outputs": [],
   "source": [
    "age = 23\n",
    "print age\n",
    "age = 24\n",
    "print age"
   ]
  },
  {
   "cell_type": "markdown",
   "metadata": {
    "slideshow": {
     "slide_type": "subslide"
    }
   },
   "source": [
    "Les variables n'ont pas de type propre: c'est la donnée qui est typée, pas la variable qui la référence.<BR>\n",
    "Elles peuvent donc faire référence à une donnée d'un autre type après une nouvelle assignation.\n",
    "\n",
    "La fonction ``type()`` retourne le type effectif de la donnée passée en paramètre."
   ]
  },
  {
   "cell_type": "code",
   "execution_count": null,
   "metadata": {
    "collapsed": false,
    "slideshow": {
     "slide_type": "fragment"
    }
   },
   "outputs": [],
   "source": [
    "# Des nombres\n",
    "age = 23\n",
    "print type(age)\n",
    "# Les variables peuvent aussi changer de type : chaîne de caractères\n",
    "age = \"vingt quatre ans\"\n",
    "print type(age)\n",
    "# Sans limites...\n",
    "age = 24.5\n",
    "print type(age)\n",
    "# Attention aux pièges...\n",
    "age = \"25\"\n",
    "print type(age)"
   ]
  },
  {
   "cell_type": "markdown",
   "metadata": {
    "slideshow": {
     "slide_type": "fragment"
    }
   },
   "source": [
    "Une variable peut être initialisée avec des valeur constantes, comme vu précédement, mais aussi à partir d'autres variables ou des valeurs de retour de fonctions, etc..."
   ]
  },
  {
   "cell_type": "code",
   "execution_count": null,
   "metadata": {
    "collapsed": false
   },
   "outputs": [],
   "source": [
    "a = 1\n",
    "b = a\n",
    "c = a * 2\n",
    "import math\n",
    "d = math.sin(0.5)\n",
    "print a, b\n",
    "print c, d"
   ]
  },
  {
   "cell_type": "markdown",
   "metadata": {
    "slideshow": {
     "slide_type": "fragment"
    }
   },
   "source": [
    "Deux variables peuvent référencer le même objet, les modifications faites par l'intermédiaire d'une des varibles sont visibles partout."
   ]
  },
  {
   "cell_type": "code",
   "execution_count": null,
   "metadata": {
    "collapsed": false
   },
   "outputs": [],
   "source": [
    "a = []\n",
    "b = a\n",
    "print a, b\n",
    "a.append(1)\n",
    "print a, b"
   ]
  },
  {
   "cell_type": "markdown",
   "metadata": {
    "slideshow": {
     "slide_type": "subslide"
    }
   },
   "source": [
    "Les variables, une fois définies dans une cellule **exécutée**, continuent d'exister dans les suivantes."
   ]
  },
  {
   "cell_type": "code",
   "execution_count": null,
   "metadata": {
    "collapsed": true,
    "slideshow": {
     "slide_type": "fragment"
    }
   },
   "outputs": [],
   "source": [
    "abcd = 1234"
   ]
  },
  {
   "cell_type": "markdown",
   "metadata": {},
   "source": [
    "Ici, la variable nommée \"abcd\" survit..."
   ]
  },
  {
   "cell_type": "code",
   "execution_count": null,
   "metadata": {
    "collapsed": false
   },
   "outputs": [],
   "source": [
    "print abcd"
   ]
  },
  {
   "cell_type": "markdown",
   "metadata": {},
   "source": [
    "Si on veut faire disparaître une variable, on peut utiliser la fonction interne ``del()``."
   ]
  },
  {
   "cell_type": "code",
   "execution_count": null,
   "metadata": {
    "collapsed": false
   },
   "outputs": [],
   "source": [
    "a = 2\n",
    "print a\n",
    "del(a)\n",
    "print a"
   ]
  },
  {
   "cell_type": "markdown",
   "metadata": {},
   "source": [
    "``del()`` est aussi utilisé pour enlever des éléments dans des conteneurs modifiables (listes, dictionnaires). Nous aborderons ce sujet plus tard."
   ]
  },
  {
   "cell_type": "markdown",
   "metadata": {
    "slideshow": {
     "slide_type": "slide"
    }
   },
   "source": [
    "# Types de données\n",
    "\n",
    "#### Types de base\n",
    "- None\n",
    "- Booléens\n",
    "- Numériques\n",
    "    - entiers\n",
    "    - flottants\n",
    "    - complexes\n",
    "\n",
    "#### Séquences\n",
    "- Chaines de caractères\n",
    "- listes\n",
    "- tuples\n",
    "\n",
    "#### Conteneurs\n",
    "- Dictionnaires\n",
    "- Ensembles\n",
    "\n",
    "#### Fichiers\n"
   ]
  },
  {
   "cell_type": "markdown",
   "metadata": {
    "slideshow": {
     "slide_type": "slide"
    }
   },
   "source": [
    "# Types de base\n",
    "\n",
    "### ``None``\n",
    "\n",
    "- Il existe dans python un type de données particulier : ``None``.\n",
    "- ``None`` représente un objet sans valeur. On s'en sert comme valeur de retour en cas d'erreur ou pour représenter un cas particulier.\n",
    "- ``None`` est équivalent à NULL en java, C."
   ]
  },
  {
   "cell_type": "code",
   "execution_count": null,
   "metadata": {
    "collapsed": false
   },
   "outputs": [],
   "source": [
    "a = None\n",
    "print a\n",
    "print type(a)"
   ]
  },
  {
   "cell_type": "markdown",
   "metadata": {
    "slideshow": {
     "slide_type": "subslide"
    }
   },
   "source": [
    "# Types de base\n",
    "\n",
    "### Booléens\n",
    "\n",
    "Les booléens ne peuvent avoir que deux valeurs :\n",
    "\n",
    "    True, False\n",
    "    \n",
    "Dans un contexte booléen, toutes ces valeurs sont équivalentes à ``False`` :\n",
    "- ``None``\n",
    "- le zero des types numériques, par exemple : ``0, 0L, 0.0, 0j``.\n",
    "- les séquences vides, par exemple : ``'', (), []``.\n",
    "- les dictionnaires vides, par exemple, ``{}``.\n",
    "\n",
    "Tout le reste est équivalent a ``True``."
   ]
  },
  {
   "cell_type": "markdown",
   "metadata": {
    "slideshow": {
     "slide_type": "subslide"
    }
   },
   "source": [
    "# Types de base\n",
    "\n",
    "### Booléens"
   ]
  },
  {
   "cell_type": "code",
   "execution_count": null,
   "metadata": {
    "collapsed": false
   },
   "outputs": [],
   "source": [
    "Am_I_OK = True\n",
    "if Am_I_OK:\n",
    "    print \"OK\"\n",
    "else:\n",
    "    print \"KO\"\n",
    "print type(Am_I_OK)"
   ]
  },
  {
   "cell_type": "markdown",
   "metadata": {},
   "source": [
    "> **Exercice :**\n",
    "> 1. Supposons que vous soyez malade, mettez Am_I_OK à la valeur ``False`` puis réexecutez la cellule.\n",
    "> 2. Essayez avec d'autres types : listes, None, nombres, etc..."
   ]
  },
  {
   "cell_type": "markdown",
   "metadata": {
    "slideshow": {
     "slide_type": "subslide"
    }
   },
   "source": [
    "# Types de base\n",
    "\n",
    "\n",
    "### Numériques <!-- MB -->\n",
    "\n",
    "#### entiers"
   ]
  },
  {
   "cell_type": "code",
   "execution_count": null,
   "metadata": {
    "collapsed": false
   },
   "outputs": [],
   "source": [
    "entier = 141592653589\n",
    "print type(entier)"
   ]
  },
  {
   "cell_type": "markdown",
   "metadata": {},
   "source": [
    "#### entiers longs (précision illimitée)"
   ]
  },
  {
   "cell_type": "code",
   "execution_count": null,
   "metadata": {
    "collapsed": false
   },
   "outputs": [],
   "source": [
    "entier = 1415926535897932384626433832795028841971\n",
    "print type(entier)"
   ]
  },
  {
   "cell_type": "code",
   "execution_count": null,
   "metadata": {
    "collapsed": false
   },
   "outputs": [],
   "source": [
    "entier = 1L\n",
    "print type(entier)"
   ]
  },
  {
   "cell_type": "markdown",
   "metadata": {
    "slideshow": {
     "slide_type": "subslide"
    }
   },
   "source": [
    "# Types de base\n",
    "\n",
    "\n",
    "### Numériques\n",
    "\n",
    "#### Conversion automatique des entiers\n",
    "\n",
    "La conversion de ``int`` à ``long`` dépend du système :"
   ]
  },
  {
   "cell_type": "code",
   "execution_count": null,
   "metadata": {
    "collapsed": false
   },
   "outputs": [],
   "source": [
    "import sys\n",
    "print \"Le plus grand entier court vaut\", sys.maxint\n",
    "entier = sys.maxint\n",
    "print entier, \"est\", type(entier)"
   ]
  },
  {
   "cell_type": "markdown",
   "metadata": {},
   "source": [
    "Si on dépasse la valeur de l'entier le plus long, python convertit automatiquement le type :"
   ]
  },
  {
   "cell_type": "code",
   "execution_count": null,
   "metadata": {
    "collapsed": false
   },
   "outputs": [],
   "source": [
    "entier = sys.maxint + 1  \n",
    "print entier, \"est\", type(entier)"
   ]
  },
  {
   "cell_type": "markdown",
   "metadata": {
    "slideshow": {
     "slide_type": "subslide"
    }
   },
   "source": [
    "# Types de base\n",
    "\n",
    "\n",
    "### Numériques\n",
    "\n",
    "#### Flottants (réels 64 bits)\n",
    "\n",
    "La précision est limitée à la 16ème décimale :"
   ]
  },
  {
   "cell_type": "code",
   "execution_count": null,
   "metadata": {
    "collapsed": false
   },
   "outputs": [],
   "source": [
    "pi_approx = 3.1415926535897932\n",
    "print type(pi_approx)\n",
    "print \"{:.16f}\".format(pi_approx)"
   ]
  },
  {
   "cell_type": "markdown",
   "metadata": {},
   "source": [
    "Attention ! Python autorise un affichage plus long que la précision des flottants mais tous les chiffres après le 16ème chiffre significatif sont faux :"
   ]
  },
  {
   "cell_type": "code",
   "execution_count": null,
   "metadata": {
    "collapsed": false
   },
   "outputs": [],
   "source": [
    "print \"{:.20f}\".format(pi_approx)"
   ]
  },
  {
   "cell_type": "markdown",
   "metadata": {
    "slideshow": {
     "slide_type": "subslide"
    }
   },
   "source": [
    "# Types de base\n",
    "\n",
    "\n",
    "### Numériques\n",
    "\n",
    "#### complexes\n",
    "\n"
   ]
  },
  {
   "cell_type": "code",
   "execution_count": null,
   "metadata": {
    "collapsed": false
   },
   "outputs": [],
   "source": [
    "complexe = 1 + 2j\n",
    "print \"représentation :\", complexe\n",
    "print type(complexe)"
   ]
  },
  {
   "cell_type": "markdown",
   "metadata": {
    "slideshow": {
     "slide_type": "slide"
    }
   },
   "source": [
    "# Séquences\n",
    "\n",
    "Les séquences sont des conteneurs où les objets référencés sont ordonnés.\n",
    "\n",
    "Python supporte trois types de séquences :\n",
    "- les chaînes de caractères\n",
    "- les listes\n",
    "- les tuples"
   ]
  },
  {
   "cell_type": "markdown",
   "metadata": {
    "slideshow": {
     "slide_type": "slide"
    }
   },
   "source": [
    "# Séquences\n",
    "\n",
    "## Chaînes de caractères\n",
    "\n",
    "Pour le traitement de données textuelles, python utilise les chaînes de caractères.\n",
    "\n",
    "Il existe plusieurs façons de définir une chaîne de caractères.\n",
    "\n",
    "Pour délimiter le texte on utilise des guillemets (double-quote) ou des apostrophes (single-quote)"
   ]
  },
  {
   "cell_type": "code",
   "execution_count": null,
   "metadata": {
    "collapsed": false
   },
   "outputs": [],
   "source": [
    "mois1 = \"janvier\"\n",
    "mois2 = 'février'\n",
    "print mois1, mois2"
   ]
  },
  {
   "cell_type": "markdown",
   "metadata": {
    "slideshow": {
     "slide_type": "subslide"
    }
   },
   "source": [
    "Les deux formes sont très utiles car elles permettent d'utiliser des guillemets ou des apostrophes dans des chaîne de caractères de manière simple."
   ]
  },
  {
   "cell_type": "code",
   "execution_count": null,
   "metadata": {
    "collapsed": false
   },
   "outputs": [],
   "source": [
    "arbre = \"l'olivier\"\n",
    "print arbre\n",
    "cuisson_pates = \"huit minutes (8')\"\n",
    "print cuisson_pates\n",
    "record_100m = 'neuf secondes et 58 dixièmes (9\"58)'\n",
    "print record_100m"
   ]
  },
  {
   "cell_type": "markdown",
   "metadata": {},
   "source": [
    "Sinon, pour avoir une apostrophe ou un guillemet dans une chaîne de caractères, il faut le faire précéder d'un ``\\`` (backslash)"
   ]
  },
  {
   "cell_type": "code",
   "execution_count": null,
   "metadata": {
    "collapsed": false
   },
   "outputs": [],
   "source": [
    "arbre = 'l\\'alisier'\n",
    "pates = '8\\''\n",
    "record = \"9\\\"58\"\n",
    "print arbre, pates, record"
   ]
  },
  {
   "cell_type": "markdown",
   "metadata": {
    "slideshow": {
     "slide_type": "subslide"
    }
   },
   "source": [
    "## Chaînes de caractères\n",
    "\n",
    "### Caractères spéciaux \n",
    "\n",
    "Il est possible de définir des chaînes de caractères qui contiennent des caractères spéciaux. Ils sont introduits par des séquences de deux caractères dont le premier est un \\ (backslash). On l'appelle le caractère d'échappement.\n",
    "- retour à la ligne : \\n\n",
    "- tabulation : \\t\n",
    "- un caractère unicode avec son code : \\uXXXX (où les XXXX sont le code hexadécimal représentant ce caractère)\n",
    "\n",
    "Plus d'information dans la [documentation officielle](https://docs.python.org/2/tutorial/introduction.html#strings)"
   ]
  },
  {
   "cell_type": "code",
   "execution_count": null,
   "metadata": {
    "collapsed": false
   },
   "outputs": [],
   "source": [
    "print \"Une belle présentation, c'est:\"\n",
    "print \"\\t- bien ordonné\"\n",
    "print \"\\t- complet\"\n",
    "print \"\\t- même s'il y en a encore\\nEt c'est mieux.\""
   ]
  },
  {
   "cell_type": "markdown",
   "metadata": {
    "slideshow": {
     "slide_type": "subslide"
    }
   },
   "source": [
    "## Chaînes de caractères\n",
    "\n",
    "### Chaînes multilignes \n",
    "\n",
    "C'est un peu pénible d'écrire plusieurs lignes comme précédemment, il y a une façon plus lisible, les chaînes multilignes"
   ]
  },
  {
   "cell_type": "code",
   "execution_count": null,
   "metadata": {
    "collapsed": false
   },
   "outputs": [],
   "source": [
    "# L'équivalent est :\n",
    "print \"\"\"\\\n",
    "Une belle présentation, c'est:\n",
    "\\t- bien ordonné\n",
    "\\t- complet\n",
    "\\t- même s'il y en a encore\n",
    "Et c'est mieux.\"\"\""
   ]
  },
  {
   "cell_type": "markdown",
   "metadata": {},
   "source": [
    "Les deux formes de délimiteurs sont aussi utilisables : guillemets triples ou apostrophes triples."
   ]
  },
  {
   "cell_type": "code",
   "execution_count": null,
   "metadata": {
    "collapsed": false
   },
   "outputs": [],
   "source": [
    "multi1 = '''m\n",
    "a\n",
    "r\n",
    "s est un mois \"multiligne\"'''\n",
    "print multi1\n",
    "multi2 = \"\"\"a\n",
    "v\n",
    "r\n",
    "i\n",
    "l l'est aussi\"\"\"\n",
    "print multi2"
   ]
  },
  {
   "cell_type": "markdown",
   "metadata": {
    "slideshow": {
     "slide_type": "subslide"
    }
   },
   "source": [
    "## Chaînes de caractères\n",
    "\n",
    "### Chaînes spéciales\n",
    "\n",
    "Il existe d'autres manières plus spécialisées de définir des chaines de caractères."
   ]
  },
  {
   "cell_type": "code",
   "execution_count": null,
   "metadata": {
    "collapsed": false
   },
   "outputs": [],
   "source": [
    "unicode_str = u\"Les échecs (♔♕♖♗♘♙), c'est \\u263A\"\n",
    "print unicode_str\n",
    "japanese_str = u'Du japonais : ウェブ'\n",
    "print japanese_str\n",
    "raw_str = r\"\\n'est pas un retour à la ligne, car ceci est une chaîne RAW, sans séquences d'échappement...\"\n",
    "print raw_str"
   ]
  },
  {
   "cell_type": "markdown",
   "metadata": {
    "slideshow": {
     "slide_type": "subslide"
    }
   },
   "source": [
    "## Chaînes de caractères\n",
    "\n",
    "### Formatage \n",
    "\n",
    "On peut formater du texte avec l'opérateur ``%``. Il va analyser la chaîne à la recherche de caractères '%' et remplacer les marqueurs par le contenu de variables.\n",
    "\n",
    "Les marqueurs sont donc l'association d'un caractère '%' avec une sequence de caractères décrivant le type de la donnée à intégrer et la manière de formater sa représentation.\n",
    "\n",
    "- %d pour des entiers\n",
    "- %s pour des chaînes de caractères\n",
    "- %f pour des nombres flottants\n",
    "- %x pour un nombre entier affiché en base hexadécimale\n",
    "- %o pour un nombre entier affiché en base octale\n",
    "- %e pour un nombre affiché en notation exponentielle"
   ]
  },
  {
   "cell_type": "code",
   "execution_count": null,
   "metadata": {
    "collapsed": false
   },
   "outputs": [],
   "source": [
    "import math\n",
    "a = 27\n",
    "print \"un nombre : %d, une chaîne : %s, un flottant avec une précision spécifiée : %.02f\" % (a, \"canal+\", math.pi)\n",
    "print \"%x, %x, %x, %x\" % (254, 255, 256, 257)\n",
    "print \"%o, %o, %o, %o\" % (254, 255, 256, 257)\n",
    "import sys\n",
    "print \"%e\" % sys.maxint"
   ]
  },
  {
   "cell_type": "markdown",
   "metadata": {
    "slideshow": {
     "slide_type": "subslide"
    }
   },
   "source": [
    "On peut se servir de cette fonctionnalité pour tabuler du texte de taille variable."
   ]
  },
  {
   "cell_type": "code",
   "execution_count": null,
   "metadata": {
    "collapsed": false
   },
   "outputs": [],
   "source": [
    "ani_mots = ('ane', u'becasse', u'chat', u'dinde', u'elephant')\n",
    "print \"\"\"\\\n",
    "Alignons a droite les animaux:\n",
    "Un animal : %8s.\n",
    "Un animal : %8s.\n",
    "Un animal : %18s, qui se croit plus malin que les autres.\n",
    "Un animal : %8s.\n",
    "Un animal : %8s.\"\"\" % ani_mots"
   ]
  },
  {
   "cell_type": "markdown",
   "metadata": {},
   "source": [
    "Pour plus d'informations sur le formattage de chaînes de caractères, voir [ici](https://docs.python.org/2/library/stdtypes.html#string-formatting-operations)."
   ]
  },
  {
   "cell_type": "markdown",
   "metadata": {
    "slideshow": {
     "slide_type": "slide"
    }
   },
   "source": [
    "# Séquences\n",
    "\n",
    "## Listes\n",
    "\n",
    "Une liste est délimitée par des crochets ``[]`` :"
   ]
  },
  {
   "cell_type": "code",
   "execution_count": null,
   "metadata": {
    "collapsed": false
   },
   "outputs": [],
   "source": [
    "L = ['egg', 'spam', 'spam', 'spam', 'bacon']\n",
    "print L, \"est\", type(L)"
   ]
  },
  {
   "cell_type": "markdown",
   "metadata": {
    "slideshow": {
     "slide_type": "fragment"
    }
   },
   "source": [
    "On accède à ses éléments par un indice. Le premier élément est **indicé 0.**"
   ]
  },
  {
   "cell_type": "code",
   "execution_count": null,
   "metadata": {
    "collapsed": false
   },
   "outputs": [],
   "source": [
    "print L[0]"
   ]
  },
  {
   "cell_type": "markdown",
   "metadata": {
    "slideshow": {
     "slide_type": "fragment"
    }
   },
   "source": [
    "Un dépassement d'indice produit une erreur :"
   ]
  },
  {
   "cell_type": "code",
   "execution_count": null,
   "metadata": {
    "collapsed": false
   },
   "outputs": [],
   "source": [
    "print L[10]"
   ]
  },
  {
   "cell_type": "markdown",
   "metadata": {
    "slideshow": {
     "slide_type": "subslide"
    }
   },
   "source": [
    "# Séquences\n",
    "\n",
    "## Listes\n",
    "\n",
    "Les listes sont dites *mutables* : je peux modifier la séquence de ces éléments."
   ]
  },
  {
   "cell_type": "markdown",
   "metadata": {
    "slideshow": {
     "slide_type": "fragment"
    }
   },
   "source": [
    "Je remplace le deuxième élément :"
   ]
  },
  {
   "cell_type": "code",
   "execution_count": null,
   "metadata": {
    "collapsed": false
   },
   "outputs": [],
   "source": [
    "L[1] = 'tomatoes'\n",
    "print L"
   ]
  },
  {
   "cell_type": "markdown",
   "metadata": {
    "slideshow": {
     "slide_type": "subslide"
    }
   },
   "source": [
    "# Séquences\n",
    "\n",
    "## Méthodes associées aux listes\n",
    "\n",
    "- La longueur d'une liste est donnée par fonction ``len()``\n",
    "- ``L.append()`` : ajouter un élément à la fin\n",
    "- ``L.pop()`` : renvoie le dernier élément et le retire de la liste\n",
    "- ``L.sort()`` : trier\n",
    "- ``L.revert()`` : inverser\n",
    "- ``L.index(elem)``: renvoie l'indice de l'élément ``elem`` (le 1er rencontré)"
   ]
  },
  {
   "cell_type": "code",
   "execution_count": null,
   "metadata": {
    "collapsed": false
   },
   "outputs": [],
   "source": [
    "print \"len() renvoie:\", len(L)\n",
    "L.append('spam')\n",
    "print \"Après append():\", L\n",
    "print \"pop() renvoie:\", L.pop()\n",
    "print \"Après pop():\", L\n",
    "L.reverse()\n",
    "print \"Après reverse():\", L\n",
    "print \"index() renvoie:\", L.index('egg')\n",
    "L.remove('spam')\n",
    "print \"Après remove:\", L"
   ]
  },
  {
   "cell_type": "markdown",
   "metadata": {
    "slideshow": {
     "slide_type": "subslide"
    }
   },
   "source": [
    "# Séquences\n",
    "\n",
    "## Méthodes associées aux listes\n",
    "\n",
    "Pour obtenir la liste des méthodes associées aux listes :"
   ]
  },
  {
   "cell_type": "code",
   "execution_count": null,
   "metadata": {
    "collapsed": false
   },
   "outputs": [],
   "source": [
    "help(list)"
   ]
  },
  {
   "cell_type": "markdown",
   "metadata": {},
   "source": [
    "> **Exercice :** Manipulez la liste ``L`` avec les méthodes associées aux listes."
   ]
  },
  {
   "cell_type": "code",
   "execution_count": null,
   "metadata": {
    "collapsed": false
   },
   "outputs": [],
   "source": [
    "L = ['egg', 'spam', 'spam', 'spam', 'bacon']\n",
    "# Votre code ci-dessous"
   ]
  },
  {
   "cell_type": "markdown",
   "metadata": {
    "slideshow": {
     "slide_type": "slide"
    }
   },
   "source": [
    "# Séquences\n",
    "\n",
    "## Tuples\n",
    "\n",
    "Les Tuples (ou n-uplets en Français) sont des séquences non mutables.\n",
    "\n",
    "On les initialise ainsi :"
   ]
  },
  {
   "cell_type": "code",
   "execution_count": null,
   "metadata": {
    "collapsed": false
   },
   "outputs": [],
   "source": [
    "T = ('a', 'b', 'c')\n",
    "print T, 'est', type(T)\n",
    "T = 'a', 'b', 'c'  # une autre façon, en ommettant les parenthèses\n",
    "print T, 'est', type(T)\n",
    "T = tuple(['a', 'b', 'c'])  # à partir d'une liste\n",
    "print T, 'est', type(T)\n",
    "T = ('a')  # ceci n'est pas un tuple\n",
    "print T, 'est', type(T)\n",
    "T = ('a',)  # Syntaxe pour initialiser un tuple contenant un seul élément\n",
    "print T, 'est', type(T)"
   ]
  },
  {
   "cell_type": "markdown",
   "metadata": {
    "slideshow": {
     "slide_type": "subslide"
    }
   },
   "source": [
    "# Séquences\n",
    "\n",
    "## Tuples\n",
    "\n",
    "Un tuple est dit *non-mutable* : on ne peut pas modifier ses éléments."
   ]
  },
  {
   "cell_type": "code",
   "execution_count": null,
   "metadata": {
    "collapsed": false
   },
   "outputs": [],
   "source": [
    "T = ('a', 'b', 'c')\n",
    "print T[1]  # On peut renvoyer un élément"
   ]
  },
  {
   "cell_type": "code",
   "execution_count": null,
   "metadata": {
    "collapsed": false
   },
   "outputs": [],
   "source": [
    "T[1] = 'z'  # mais pas le modifier"
   ]
  },
  {
   "cell_type": "markdown",
   "metadata": {
    "slideshow": {
     "slide_type": "subslide"
    }
   },
   "source": [
    "# Séquences\n",
    "\n",
    "## Tuples\n",
    "\n",
    "Intérêt des tuples par rapport aux listes :\n",
    "- plus rapide à parcourir que les listes\n",
    "- non mutables donc \"protégés\"\n",
    "- peuvent être utilisés comme clé de dictionnaires (cf. plus loin)"
   ]
  },
  {
   "cell_type": "markdown",
   "metadata": {
    "slideshow": {
     "slide_type": "subslide"
    }
   },
   "source": [
    "# Séquences\n",
    "\n",
    "## Tuples : manipulation\n",
    "\n",
    "Construire d'autres tuples par concaténation et multiplication"
   ]
  },
  {
   "cell_type": "code",
   "execution_count": null,
   "metadata": {
    "collapsed": false
   },
   "outputs": [],
   "source": [
    "T1 = 'a', 'b', 'c'\n",
    "print \"T1:\", T1\n",
    "T2 = 'd', 'e'\n",
    "print \"T2:\", T2\n",
    "print \"T1 + T2:\", T1 + T2\n",
    "print \"T2 * 3:\", T2 * 3"
   ]
  },
  {
   "cell_type": "markdown",
   "metadata": {
    "slideshow": {
     "slide_type": "subslide"
    }
   },
   "source": [
    "# Séquences\n",
    "\n",
    "## Tuples\n",
    "\n",
    "**Note :**\n",
    "\n",
    "Etant *non-mutable* l'objet tuple ne peut pas être modifié. Toutefois, s'il est constitué d'éléments mutables, alors ces éléments-là peuvent être modifiés.\n",
    "\n",
    "Illustration avec un tuple dont un des éléments est une liste :"
   ]
  },
  {
   "cell_type": "code",
   "execution_count": null,
   "metadata": {
    "collapsed": false
   },
   "outputs": [],
   "source": [
    "T = ('a', ['b', 'c']) # le deuxième élément est une liste donc il est mutable\n",
    "print \"T:\", T\n",
    "T[1][0] = 'z' # On ne modifie pas le tuple, mais un des éléménts qui le constituent\n",
    "print \"T après:\", T\n",
    "T[0] = 'A'  # Ici, on essaye de modifier le tuple lui même..."
   ]
  },
  {
   "cell_type": "markdown",
   "metadata": {
    "slideshow": {
     "slide_type": "slide"
    }
   },
   "source": [
    "# Séquences\n",
    "\n",
    "## Le slicing en Python\n",
    "\n",
    "- Cela consiste à extraire une sous-liste à partir d'une liste (ou plus généralement une sous-séquence)\n",
    "- La syntaxe générale est ``L[i:j:k]``, où ``i``, ``j`` et ``k`` sont des indices (éventuellement négatifs).\n",
    "- La sous-liste sera composée de tous les éléments de l’indice ``i`` jusqu’à l’indice ``j-1``, par pas de ``k``.\n",
    "- Si ``i`` est omis alors il vaut ``0``\n",
    "- Si ``j`` est omis alors il vaut ``len(L)``\n",
    "- Si ``k`` est omis alors il vaut ``1``"
   ]
  },
  {
   "cell_type": "markdown",
   "metadata": {
    "slideshow": {
     "slide_type": "subslide"
    }
   },
   "source": [
    "# Séquences\n",
    "\n",
    "## Le slicing en Python\n",
    "\n",
    "Illustrons ça en créant une liste à partir d'une chaîne de caractères :"
   ]
  },
  {
   "cell_type": "code",
   "execution_count": null,
   "metadata": {
    "collapsed": false,
    "scrolled": true
   },
   "outputs": [],
   "source": [
    "L = \"Dans le Python, tout est bon.\".split()\n",
    "print L"
   ]
  },
  {
   "cell_type": "markdown",
   "metadata": {},
   "source": [
    "Pour commencer, on extrait de la liste ``L`` un nouvel objet liste qui contient tous les éléments de ``L`` <=> copie de liste"
   ]
  },
  {
   "cell_type": "code",
   "execution_count": null,
   "metadata": {
    "collapsed": false
   },
   "outputs": [],
   "source": [
    "print L[0:len(L):1] # Cette notation est inutilement lourde car :\n",
    "print L[:]          # i = 0, j=len(L) et k=1 donc i, j et k peuvent être omis"
   ]
  },
  {
   "cell_type": "markdown",
   "metadata": {
    "slideshow": {
     "slide_type": "subslide"
    }
   },
   "source": [
    "# Séquences\n",
    "\n",
    "## Le slicing en Python\n",
    "\n",
    "J'extraie une sous-liste qui ne contient que les 3 premiers éléments :"
   ]
  },
  {
   "cell_type": "code",
   "execution_count": null,
   "metadata": {
    "collapsed": false
   },
   "outputs": [],
   "source": [
    "print L[0:3:1]  # Notation complète\n",
    "print L[:3:1]  # Le premier indice vaut i=0 donc on peut l'omettre\n",
    "print L[:3]  # Le pas de slicing vaut 0 donc on peut l'omettre"
   ]
  },
  {
   "cell_type": "markdown",
   "metadata": {
    "slideshow": {
     "slide_type": "fragment"
    }
   },
   "source": [
    "J'extraie une sous-liste qui exclut le dernier élément :"
   ]
  },
  {
   "cell_type": "code",
   "execution_count": null,
   "metadata": {
    "collapsed": false
   },
   "outputs": [],
   "source": [
    "print L[0:-1:1]  # Notation complète\n",
    "print L[:-1:1]  # Le premier indice vaut i=0 donc on peut l'omettre\n",
    "print L[:-1]  # Le pas de slicing vaut 0 donc on peut l'omettre"
   ]
  },
  {
   "cell_type": "markdown",
   "metadata": {
    "slideshow": {
     "slide_type": "fragment"
    }
   },
   "source": [
    "J'extraie une sous-liste qui exclut les deux premiers éléments :"
   ]
  },
  {
   "cell_type": "code",
   "execution_count": null,
   "metadata": {
    "collapsed": false
   },
   "outputs": [],
   "source": [
    "print L[3:len(L):1]  # Cette notation est inutilement lourde car :\n",
    "print L[3:]          # j et k peuvent être omis"
   ]
  },
  {
   "cell_type": "markdown",
   "metadata": {
    "slideshow": {
     "slide_type": "subslide"
    }
   },
   "source": [
    "# Séquences\n",
    "\n",
    "## Le slicing en Python\n",
    "\n",
    "**Note :**\n",
    "\n",
    "``L[1]`` n'est pas équivalent à ``L[1:2]``.\n",
    "\n",
    "Illustration :"
   ]
  },
  {
   "cell_type": "code",
   "execution_count": null,
   "metadata": {
    "collapsed": false
   },
   "outputs": [],
   "source": [
    "print L[1]  # Je récupère le deuxième élément de la liste\n",
    "print L[1:2]  # Je récupère une liste composé du seul élément L[1]"
   ]
  },
  {
   "cell_type": "markdown",
   "metadata": {
    "slideshow": {
     "slide_type": "fragment"
    }
   },
   "source": [
    "> **Exercice :** Retourner une liste composée des éléments de ``L`` *en ordre inverse.*"
   ]
  },
  {
   "cell_type": "code",
   "execution_count": null,
   "metadata": {
    "collapsed": false
   },
   "outputs": [],
   "source": [
    "print L\n",
    "# <- votre code ici"
   ]
  },
  {
   "cell_type": "markdown",
   "metadata": {},
   "source": [
    "Le slicing peut être utilisé sur des chaînes de caractères."
   ]
  },
  {
   "cell_type": "code",
   "execution_count": null,
   "metadata": {
    "collapsed": false
   },
   "outputs": [],
   "source": [
    "alphabet = \"abcdefghijklmnopqrstuvwxyz\"\n",
    "print alphabet[0:4], alphabet[-4:], alphabet[0:12:3]"
   ]
  },
  {
   "cell_type": "markdown",
   "metadata": {},
   "source": [
    "> **Exercice**:\n",
    "> 1. Découpez l'alphabet en deux parties égales\n",
    "> 2. Prenez une lettre sur deux"
   ]
  },
  {
   "cell_type": "markdown",
   "metadata": {},
   "source": [
    "# Chaînes de caractères, le retour\n",
    "\n",
    "Les chaînes de caractères sont considérées comme des séquences non mutables et l'on peut les manipuler comme telles."
   ]
  },
  {
   "cell_type": "code",
   "execution_count": null,
   "metadata": {
    "collapsed": false
   },
   "outputs": [],
   "source": [
    "non_mutable = 'abcdefgh'\n",
    "non_mutable[3] = 'D'"
   ]
  },
  {
   "cell_type": "markdown",
   "metadata": {},
   "source": [
    "Il faut construire une nouvelle chaîne de caractère."
   ]
  },
  {
   "cell_type": "code",
   "execution_count": null,
   "metadata": {
    "collapsed": false
   },
   "outputs": [],
   "source": [
    "a = list(non_mutable)\n",
    "a[3] = 'D'\n",
    "print ''.join(a)"
   ]
  },
  {
   "cell_type": "markdown",
   "metadata": {},
   "source": [
    "Ou avec des opérations de slicing."
   ]
  },
  {
   "cell_type": "code",
   "execution_count": null,
   "metadata": {
    "collapsed": false
   },
   "outputs": [],
   "source": [
    "print non_mutable[:3] + 'D' + non_mutable[4:]"
   ]
  },
  {
   "cell_type": "markdown",
   "metadata": {},
   "source": [
    "On peut savoir si une chaîne se trouve dans une autre"
   ]
  },
  {
   "cell_type": "code",
   "execution_count": null,
   "metadata": {
    "collapsed": false
   },
   "outputs": [],
   "source": [
    "print \"123\" in \"azerty_123_uiop\""
   ]
  },
  {
   "cell_type": "markdown",
   "metadata": {},
   "source": [
    "La longueur d'une chaîne s'obtient avec ``len()``."
   ]
  },
  {
   "cell_type": "code",
   "execution_count": null,
   "metadata": {
    "collapsed": false
   },
   "outputs": [],
   "source": [
    "print len(non_mutable)"
   ]
  },
  {
   "cell_type": "markdown",
   "metadata": {},
   "source": [
    "> **Exercices**, dans la cellule ci-dessous:\n",
    "> 1. Insérez le caractère ',' au milieu de la chaîne donnée.\n",
    "> 2. Idem mais coupez la chaine en 3 parties, et insérez le caractère ':' entre chacune d'elles.\n",
    "> 3. Insérez le caractère '|' entre chaque caractère de la chaîne."
   ]
  },
  {
   "cell_type": "code",
   "execution_count": null,
   "metadata": {
    "collapsed": true
   },
   "outputs": [],
   "source": [
    "chaine_donnee = \"azertyuioppoiuytreza\""
   ]
  },
  {
   "cell_type": "markdown",
   "metadata": {},
   "source": [
    "# Les dictionnaires\n",
    "\n",
    "Aka listes associatives, sont des conteneurs ou les objets ne sont pas ordonnés et accessibles par un index, mais ils sont associés à une clé d'accès.\n",
    "\n",
    "L'accès aux éléments se fait comme pour les listes ou tuples, avec les ``[]``, mais vous pouvez utiliser (presque) n'importe quel valeur comme clé.\n",
    "\n",
    "    dic = {<clé1>: <valeur1>[, <clé2>: <valeur2>]...}\n",
    "\n",
    "Les clés doivent être des objets non mutables. Les listes ne peuvent pas servir de clés alors que les tuples le peuvent."
   ]
  },
  {
   "cell_type": "code",
   "execution_count": null,
   "metadata": {
    "collapsed": false
   },
   "outputs": [],
   "source": [
    "dic_animaux = {'ane': True, 'arbre': False, 'chat': True, 'lune': False, 'humain': True}\n",
    "tup_mois = ('jan', 'feb', 'mar', 'apr', 'mai', 'jun', 'jul', 'aug', 'sep', 'oct', 'nov', 'dec')\n",
    "dic_mois = {0: 31, 1: [28, 29], 2: 31, 3: 30, 4: 31, 5: 30, 6: 31, 7: 31, 8: 30, 9: 31, 10: 30, 11: 31}\n",
    "mois_naissance = 'jun'\n",
    "print 'Il y a %d jours dans votre mois de naissance' % dic_mois[tup_mois.index(mois_naissance)]"
   ]
  },
  {
   "cell_type": "markdown",
   "metadata": {},
   "source": [
    "> **Exercice**:\n",
    "> 1. Modifiez la cellule précédente pour y mettre votre mois de naissance (les 3 premiers caractères, en anglais). Ré-exécutez la cellule et vérifiez la réponse.\n",
    "> 2. Un problème s'est glissé dans la cellule, lequel ?\n",
    "> 3. Corrigez-le."
   ]
  },
  {
   "cell_type": "markdown",
   "metadata": {},
   "source": [
    "Les dictionnaires sont mutables."
   ]
  },
  {
   "cell_type": "code",
   "execution_count": null,
   "metadata": {
    "collapsed": false
   },
   "outputs": [],
   "source": [
    "ages = {'albert': 62, 'bob': 34, 'charlie': 1, 'daphne': 67}\n",
    "print ages\n",
    "# C'est l'anniversaire de charlie\n",
    "ages['charlie'] += 1\n",
    "print ages\n",
    "print 'Albert a %d ans.' % ages['albert']\n",
    "# Bob est parti, enlevons-le\n",
    "del ages['bob']\n",
    "print ages"
   ]
  },
  {
   "cell_type": "markdown",
   "metadata": {},
   "source": [
    "Les autres manières de créer des dictionnaires:"
   ]
  },
  {
   "cell_type": "code",
   "execution_count": null,
   "metadata": {
    "collapsed": false
   },
   "outputs": [],
   "source": [
    "a = dict(un=1, deux=2, trois=3)\n",
    "b = {'un': 1, 'deux': 2, 'trois': 3}\n",
    "c = dict(zip(['un', 'deux', 'trois'], [1, 2, 3]))\n",
    "d = dict([('deux', 2), ('un', 1), ('trois', 3)])\n",
    "e = dict({'trois': 3, 'un': 1, 'deux': 2})\n",
    "a == b == c == d == e"
   ]
  },
  {
   "cell_type": "markdown",
   "metadata": {},
   "source": [
    "Savoir si une clé est présente dans un dictionnaire est une opération rapide. on utilise comme pour les séquences l'opérateur ``in``.\n",
    "\n",
    "La fonction interne ``len()`` est utilisable pour savoir combien d'objets sont référencés dans le dictionnaire."
   ]
  },
  {
   "cell_type": "code",
   "execution_count": null,
   "metadata": {
    "collapsed": false
   },
   "outputs": [],
   "source": [
    "ages = {'albert': 62, 'bob': 34, 'charlie': 1, 'daphne': 67}\n",
    "print 'Charlie est dedans ?', 'charlie' in ages\n",
    "print 'Zoé est dedans ?', 'zoé' in ages\n",
    "print 'Bob est dedans ?', 'bob' in ages\n",
    "print 'Il y a %d personnes.' % len(ages)\n",
    "# Bob est parti, enlevons-le\n",
    "del ages['bob']\n",
    "print 'Bob est dedans ?', 'bob' in ages\n",
    "print 'Il y a %d personnes.' % len(ages)"
   ]
  },
  {
   "cell_type": "markdown",
   "metadata": {},
   "source": [
    "On peut itérer sur les clés ou les objets référencés, ou vider un dictionnaire, en comparer deux, etc.\n",
    "\n",
    "Pour plus d'informations sur les dictionnaires, voir [ici](https://docs.python.org/2/library/stdtypes.html#mapping-types-dict)."
   ]
  },
  {
   "cell_type": "markdown",
   "metadata": {},
   "source": [
    "> **Exercices** :\n",
    "> 1. Créez un dictionnaire qui va traduire des chiffres (de 0 à 9) écrits en toutes lettres entre deux langues\n",
    ">    Par exemple :\n",
    ">    trad_num['un'] -> 'one'\n",
    "> 2. Modifiez ce dictionnaire, pour qu'il fonctionne dans les deux sens de traduction (Fr -> En et En -> Fr)\n",
    "> 3. Modifiez ce dictionnaire, pour qu'il fonctionne aussi avec les chiffres sous forme d'entiers\n",
    ">    Par exemple :\n",
    ">    trad_num[1] -> 'un'"
   ]
  },
  {
   "cell_type": "markdown",
   "metadata": {},
   "source": [
    "# Les ensembles\n",
    "\n",
    "Les ensembles sont des conteneurs qui n'autorisent pas de duplication d'objets référencés, contrairement aux listes et tuples.\n",
    "\n",
    "Tout comme pour les dictionnaires, l'opérateur ``in`` est efficace."
   ]
  },
  {
   "cell_type": "code",
   "execution_count": null,
   "metadata": {
    "collapsed": false
   },
   "outputs": [],
   "source": [
    "list1 = [1, 1, 2]\n",
    "tupl1 = (\"un\", \"un\", \"deux\", 1, 3)\n",
    "\n",
    "b = set(list1)\n",
    "a = set(tupl1)\n",
    "\n",
    "print '\"un\" est dans l\\'ensemble ?', 'un' in a\n",
    "a.remove('un')\n",
    "print '\"un\" n\\'est plus dans l\\'ensemble :', 'un' in a"
   ]
  },
  {
   "cell_type": "markdown",
   "metadata": {},
   "source": [
    "Des opérations supplémentaires sont possibles sur des ensembles. Elles sont calquées sur les opérations mathématiques :\n",
    "- union\n",
    "- intersection\n",
    "- etc..."
   ]
  },
  {
   "cell_type": "code",
   "execution_count": null,
   "metadata": {
    "collapsed": false
   },
   "outputs": [],
   "source": [
    "print 'intersection :', a & b\n",
    "print 'union :', a | b"
   ]
  },
  {
   "cell_type": "markdown",
   "metadata": {},
   "source": [
    "Pour plus d'informations sur les ensembles, voir [ici](https://docs.python.org/2/library/stdtypes.html#set-types-set-frozenset)"
   ]
  },
  {
   "cell_type": "markdown",
   "metadata": {
    "slideshow": {
     "slide_type": "slide"
    }
   },
   "source": [
    "# Fichiers\n",
    "\n",
    "### Ouverture\n",
    "\n",
    "L'instruction :\n",
    "\n",
    "    f = open('interessant.txt', mode='r')\n",
    "    \n",
    "ouvre le fichier ``interessant.txt`` en mode lecture seule et le renvoie dans l'objet ``f``.\n",
    "\n",
    "Les modes d'ouverture possibles sont :\n",
    "- ``'r'`` : lecture seule\n",
    "- ``'w'`` : écriture\n",
    "- ``'a'`` : ajout à partir de la fin du fichier\n",
    "\n",
    "**Note :** Avec ``'w'`` et ``'a'``, le fichier est créé s'il n'existe pas."
   ]
  },
  {
   "cell_type": "markdown",
   "metadata": {
    "slideshow": {
     "slide_type": "fragment"
    }
   },
   "source": [
    "### Fermeture\n",
    "\n",
    "On ferme le fichier ``f`` avec l'instruction :\n",
    "\n",
    "    f.close()"
   ]
  },
  {
   "cell_type": "markdown",
   "metadata": {
    "slideshow": {
     "slide_type": "subslide"
    }
   },
   "source": [
    "# Fichiers\n",
    "\n",
    "### Méthodes de lecture\n",
    "\n",
    "- ``f.read()`` : retourne tout le contenu de ``f`` sous la forme d’une chaîne"
   ]
  },
  {
   "cell_type": "code",
   "execution_count": null,
   "metadata": {
    "collapsed": false,
    "slideshow": {
     "slide_type": "-"
    }
   },
   "outputs": [],
   "source": [
    "f = open('interessant.txt', mode='r')\n",
    "texte = f.read()\n",
    "print \"texte est un\", type(texte), \"de\", len(texte), \"caractères:\"\n",
    "print texte\n",
    "print \"Contenu en raw string:\"\n",
    "print repr(texte)  \n",
    "f.close()"
   ]
  },
  {
   "cell_type": "markdown",
   "metadata": {
    "slideshow": {
     "slide_type": "subslide"
    }
   },
   "source": [
    "# Fichiers  <!-- MB -->\n",
    "\n",
    "### Méthodes de lecture\n",
    "\n",
    "- ``f.readlines()`` : retourne toutes les lignes de ``f`` sous la forme d’une liste de chaînes"
   ]
  },
  {
   "cell_type": "code",
   "execution_count": null,
   "metadata": {
    "collapsed": false
   },
   "outputs": [],
   "source": [
    "f = open('interessant.txt', mode='r')\n",
    "lignes = f.readlines()\n",
    "print \"lignes est un\", type(lignes), \"de\", len(lignes), \"éléments:\"\n",
    "print lignes\n",
    "f.close()"
   ]
  },
  {
   "cell_type": "markdown",
   "metadata": {
    "slideshow": {
     "slide_type": "subslide"
    }
   },
   "source": [
    "# Fichiers\n",
    "\n",
    "### Méthodes d'écriture\n",
    "\n",
    "- ``f.write('du texte')`` : écrit la chaine ``'du texte'`` dans ``f``"
   ]
  },
  {
   "cell_type": "code",
   "execution_count": null,
   "metadata": {
    "collapsed": false
   },
   "outputs": [],
   "source": [
    "chaine = \"Je sais écrire\\n...\\navec Python !\\n\"\n",
    "f = open('pas_mal.txt', mode='w')  # mode 'w' : on écrase le contenu du fichier s'il existe\n",
    "f.write(chaine)\n",
    "f.close()"
   ]
  },
  {
   "cell_type": "markdown",
   "metadata": {
    "slideshow": {
     "slide_type": "-"
    }
   },
   "source": [
    "**Note :** du point de vue du système, rien n'est écrit dans le fichier avant l’appel de ``f.close()``"
   ]
  },
  {
   "cell_type": "markdown",
   "metadata": {
    "slideshow": {
     "slide_type": "subslide"
    }
   },
   "source": [
    "# Fichiers\n",
    "\n",
    "### Méthodes d'écriture\n",
    "\n",
    "- ``f.writelines(ma_sequence)`` : écrit la séquence ``ma_sequence`` dans ``f`` en mettant bout à bout les éléments"
   ]
  },
  {
   "cell_type": "code",
   "execution_count": null,
   "metadata": {
    "collapsed": false
   },
   "outputs": [],
   "source": [
    "sequence = [\"Je sais ajouter\\n\", \"du texte\\n\", \"avec Python !\\n\"]\n",
    "f = open('pas_mal.txt', mode='a')  # mode 'a' : on ajoute à la fin du fichier\n",
    "f.writelines(sequence)\n",
    "f.close()"
   ]
  },
  {
   "cell_type": "markdown",
   "metadata": {
    "slideshow": {
     "slide_type": "-"
    }
   },
   "source": [
    "**Note :** du point de vue du système, rien n'est écrit dans le fichier avant l’appel de ``f.close()``"
   ]
  },
  {
   "cell_type": "markdown",
   "metadata": {
    "slideshow": {
     "slide_type": "subslide"
    }
   },
   "source": [
    "# Fichiers\n",
    "\n",
    "> **Exercice :**\n",
    ">\n",
    "> 1. écrire le contenu de la liste ``mystere`` dans le fichier ``coded.txt`` puis fermer ce dernier\n",
    "> 2. lire le fichier ``coded.txt`` et le stocker dans une chaine ``coded``\n",
    "> 3. Décoder la chaîne ``coded`` avec l'instruction ``decoded = coded.decode('rot13')``\n",
    "> 4. écrire la chaine decoded le fichier ``decoded.txt`` et fermer ce dernier\n",
    "> 5. visualiser le contenu du fichier ``decoded.txt`` dans un éditeur de texte"
   ]
  },
  {
   "cell_type": "code",
   "execution_count": null,
   "metadata": {
    "collapsed": false
   },
   "outputs": [],
   "source": [
    "mystere = [\"Gur Mra bs Clguba, ol Gvz Crgref\\n\\n\",\n",
    "                \"Ornhgvshy vf orggre guna htyl.\\n\",\n",
    "                \"Rkcyvpvg vf orggre guna vzcyvpvg.\\n\"]\n",
    "# Votre code ci-dessous\n",
    "f = open('coded.txt', mode='w')\n",
    "f.writelines(mystere)\n",
    "f.close()\n",
    "f = open('coded.txt', mode='r')\n",
    "coded = f.read()\n",
    "f.close()\n",
    "f = open('decoded.txt', mode='w')\n",
    "decoded = coded.decode('rot13')\n",
    "f.write(decoded)\n",
    "f.close()\n",
    "#decoded = coded.decode('rot13')  # Décommenter cette ligne à l'endroit approprié"
   ]
  }
 ],
 "metadata": {
  "celltoolbar": "Slideshow",
  "kernelspec": {
   "display_name": "Python 2",
   "language": "python",
   "name": "python2"
  },
  "language_info": {
   "codemirror_mode": {
    "name": "ipython",
    "version": 2
   },
   "file_extension": ".py",
   "mimetype": "text/x-python",
   "name": "python",
   "nbconvert_exporter": "python",
   "pygments_lexer": "ipython2",
   "version": "2.7.10"
  }
 },
 "nbformat": 4,
 "nbformat_minor": 0
}
