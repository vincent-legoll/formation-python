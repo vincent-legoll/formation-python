{
 "cells": [
  {
   "cell_type": "markdown",
   "metadata": {
    "slideshow": {
     "slide_type": "slide"
    }
   },
   "source": [
    "\n",
    " ![](fig/python-logo.png)\n",
    "\n",
    "\n",
    "\n",
    "# Introduction à la Programmation Python\n",
    "***\n",
    "\n",
    "## Le langage [2/2]\n",
    "\n",
    "***\n",
    "\n",
    "Formation permanente du CNRS, Délégation Alsace\n",
    "\n",
    "Novembre 2015\n",
    "\n",
    "***\n",
    "\n",
    "**Auteurs :**\n",
    "- Vincent Legoll ([vincent.legoll@idgrilles.fr](mailto: vincent.legoll@idgrilles.fr))\n",
    "- Matthieu Boileau ([matthieu.boileau@math.unistra.fr](mailto: matthieu.boileau@math.unistra.fr))"
   ]
  },
  {
   "cell_type": "markdown",
   "metadata": {
    "slideshow": {
     "slide_type": "slide"
    }
   },
   "source": [
    "OOP <!-- MB -->\n",
    "---\n",
    "\n",
    "- classes\n",
    "- instances\n",
    "- self\n",
    "- héritage\n",
    "- surcharge\n",
    "- '==' vs id() vs hash()"
   ]
  },
  {
   "cell_type": "markdown",
   "metadata": {
    "slideshow": {
     "slide_type": "slide"
    }
   },
   "source": [
    "# stdlib\n",
    "\n",
    "- string (find, count, split, join, strip, upper, replace) <!-- VL -->"
   ]
  },
  {
   "cell_type": "markdown",
   "metadata": {
    "slideshow": {
     "slide_type": "subslide"
    }
   },
   "source": [
    "- math (log, sqrt, cos, pi, e) <!-- MB -->"
   ]
  },
  {
   "cell_type": "markdown",
   "metadata": {
    "slideshow": {
     "slide_type": "subslide"
    }
   },
   "source": [
    "- os (listdir, getcwd, getenv, chdir, environ) <!-- VL -->"
   ]
  },
  {
   "cell_type": "markdown",
   "metadata": {
    "slideshow": {
     "slide_type": "subslide"
    }
   },
   "source": [
    "- os.path (exists, getsize, isdir, join) <!-- MB -->"
   ]
  },
  {
   "cell_type": "markdown",
   "metadata": {
    "slideshow": {
     "slide_type": "subslide"
    }
   },
   "source": [
    "- sys (sys.argv, sys.exit, sys.path) <!-- VL -->"
   ]
  },
  {
   "cell_type": "markdown",
   "metadata": {
    "slideshow": {
     "slide_type": "slide"
    }
   },
   "source": [
    "stdlib - à creuser, exercices\n",
    "------------------\n",
    "\n",
    "- re\n",
    "- random\n",
    "- pickle\n",
    "- time, datetime\n",
    "- compression: zlib, etc...\n",
    "- crypto: md5\n",
    "- argparse (+ optparse)\n",
    "- subprocess\n",
    "- réseau: email, urllib\n",
    "- xml, json, hdf5\n",
    "- unittest\n",
    "- debugger: pdb (c.f. spyder)\n",
    "- profiler\n",
    "- formatter\n",
    "- distutils / setup.py (c.f. PyPI)"
   ]
  },
  {
   "cell_type": "markdown",
   "metadata": {
    "slideshow": {
     "slide_type": "slide"
    }
   },
   "source": [
    "plus loin encore\n",
    "----------------\n",
    "\n",
    "- [Python Package Index](https://pypi.python.org/pypi): aka PyPI: 66K packages - \"pip install --user\"\n",
    "- [opencv](http://opencv.org): computer vision - traitement d'images en temps réel et le [module python](https://pypi.python.org/pypi/pyopencv)\n",
    "- [pyopencl](https://github.com/pyopencl/pyopencl): calculs GPGPU\n",
    "- [pycuda](https://pypi.python.org/pypi/pycuda): calculs GPGPU sur matériel NVidia\n",
    "- beaucoup de librairies C, C++ ou autres sont accessibles en python"
   ]
  },
  {
   "cell_type": "markdown",
   "metadata": {
    "slideshow": {
     "slide_type": "slide"
    }
   },
   "source": [
    "# Bonnes Pratiques\n",
    "\n",
    "###  Commentez votre code\n",
    "- pour le rendre plus lisible\n",
    "- pour préciser l'utilité des fonctions, méthodes, classes, modules, etc...\n",
    "- pour expliquer les parties complexes"
   ]
  },
  {
   "cell_type": "markdown",
   "metadata": {
    "slideshow": {
     "slide_type": "subslide"
    }
   },
   "source": [
    "###  Organisez vos modules en packages"
   ]
  },
  {
   "cell_type": "markdown",
   "metadata": {
    "slideshow": {
     "slide_type": "subslide"
    }
   },
   "source": [
    "### Conventions d'écriture de code\n",
    "\n",
    "Habituez vous assez tôt aux conventions préconisées dans la communauté des utilisateurs de python.\n",
    "\n",
    "Cela vous aidera a relire plus facilement le code écrit par d'autres, et aidera les autres a relire le votre. Collaborez !\n",
    "\n",
    "Elles sont décrites dans le document [PEP n°8](https://www.python.org/dev/peps/pep-0008/) (Python Enhancement Proposal), et un outil (c.f. plus bas: pep8) permet d'automatiser la vérification du respect de ces règles."
   ]
  },
  {
   "cell_type": "markdown",
   "metadata": {
    "slideshow": {
     "slide_type": "subslide"
    }
   },
   "source": [
    "# Bonnes Pratiques\n",
    "\n",
    "### Autres pistes\n",
    "\n",
    "- Environnements de développement intégrés:\n",
    "  * [pydev](http://pydev.org)\n",
    "  * [spyder](http://pythonhosted.org/spyder)\n",
    "  * [eclipse](http://www.eclipse.org)\n",
    "- Gestionnaires de versions :\n",
    "  * [git](http://www.git-scm.com)\n",
    "  * [github](https://github.com)\n",
    "  * [subversion](https://subversion.apache.org)\n",
    "- Visualisation de différences :\n",
    "  * [meld](http://meldmerge.org)\n",
    "- Vérificateurs de code source\n",
    "  * [pep8](https://pypi.python.org/pypi/pep8)\n",
    "  * [pylint](http://www.pylint.org)\n",
    "- Documentation dans le code\n",
    "  * [docstring](https://www.python.org/dev/peps/pep-0257)\n",
    "- Automatisation de tests, environnements virtuels :\n",
    "  * [unittest](https://docs.python.org/3/library/unittest.html)\n",
    "  * [doctest](https://docs.python.org/2/library/doctest.html)\n",
    "  * [nose](http://readthedocs.org/docs/nose)\n",
    "  * [py.test](http://pytest.org)\n",
    "  * [tox](http://tox.testrun.org)\n",
    "  * [virtualenv](https://virtualenv.pypa.io)"
   ]
  },
  {
   "cell_type": "markdown",
   "metadata": {
    "slideshow": {
     "slide_type": "slide"
    }
   },
   "source": [
    "# Python 3.x\n",
    "\n",
    "C'est le futur, et incidemment aussi le présent voire même le passé...<BR>\n",
    "Quoi: une version qui casse la compatibilité ascendante<BR>\n",
    "Pourquoi: nettoyage de parties bancales du langage accumulées au fil du temps<BR>\n",
    "Python 3.0 est sorti en 2008<BR>\n",
    "Python 2.7 est sorti en 2010: EOL, fin de vie, (mal-)heureusement longue à venir<BR>\n",
    "Un certain nombre de choses n'a pas encore été converti pour fonctionner avec<BR>\n",
    "Les distributions linux majeures proposent encore la 2.X par défaut, mais la 3 est disponible en parallèle<BR>\n",
    "Une partie, la moins disruptive, à quand même été portée vers 2.6 et 2.7 pour aider à la transition<BR>\n",
    "Les tutoriels, et autres documentations disponibles sur internet ne sont pas forcément migrées<BR>\n",
    "Pour un nouveau projet, recherchez un peu avant de vous lancer, pour vérifier les besoins en librairies externes<BR>\n",
    "Les implémentations tierces d'interpréteurs python peuvent avoir des degrés variables de compatibilité avec les versions 3.x<BR>\n",
    "Les modules comportant des extentions en C sont plus compliquées à porter<BR>\n",
    "\n",
    "Différences notables :\n",
    "- Division entière\n",
    "- print()\n",
    "- variable à durée de vie plus stricte (boucles, etc...)\n",
    "- toutes les classes sont du nouveau type\n",
    "- Les chaînes de caractères sont en UTF-8 par défaut & encoding(s) & byte() interface\n",
    "- stdlib changée\n",
    "- range() vs xrange()\n",
    "- outils 2to3.py, 3to2, python-modernize, futurize\n",
    "- pylint --py3k\n",
    "- module de compatibilité: six \n",
    "\n",
    "Plus d'informations sur le [wiki officiel](https://wiki.python.org/moin/Python2orPython3)."
   ]
  },
  {
   "cell_type": "markdown",
   "metadata": {
    "slideshow": {
     "slide_type": "slide"
    }
   },
   "source": [
    "![](fig/python-logo.png)\n",
    "\n",
    "# Philosophie du langage : le zen de Python\n",
    "\n",
    "[PEP 20](https://www.python.org/dev/peps/pep-0020)"
   ]
  },
  {
   "cell_type": "code",
   "execution_count": null,
   "metadata": {
    "collapsed": false,
    "scrolled": true
   },
   "outputs": [],
   "source": [
    "import this"
   ]
  },
  {
   "cell_type": "markdown",
   "metadata": {
    "slideshow": {
     "slide_type": "slide"
    }
   },
   "source": [
    "# Exercices\n"
   ]
  },
  {
   "cell_type": "markdown",
   "metadata": {
    "slideshow": {
     "slide_type": "subslide"
    }
   },
   "source": [
    "> **Exercice**\n",
    "> 1. Ecrire une fonction qui prend en paramètre une liste de prix hors taxes (HT) et qui retourne le total toutes taxes comprises (TTC)"
   ]
  },
  {
   "cell_type": "code",
   "execution_count": null,
   "metadata": {
    "collapsed": false,
    "slideshow": {
     "slide_type": "fragment"
    }
   },
   "outputs": [],
   "source": [
    "def ttc(liste):\n",
    "    return sum(liste) * 1.186\n",
    "\n",
    "liste_prix_ht = [12, 56.20, 19.99, 0.40, 100]\n",
    "print \"%.02f\" % ttc(liste_prix_ht)"
   ]
  },
  {
   "cell_type": "markdown",
   "metadata": {},
   "source": [
    "chaines de caractères\n",
    "---------------------\n",
    "<!-- VL -->\n",
    "- majuscules / minuscules: toupper(), tolower(), inverse_maj(), capitalize()\n",
    "- remplace()\n"
   ]
  },
  {
   "cell_type": "markdown",
   "metadata": {},
   "source": [
    "listes <!-- MB -->\n",
    "------\n",
    "\n",
    "- reverse() <!-- VL -->\n",
    "- odd_indices([1,2,3,4,5]) => [2,4] <!-- VL -->\n",
    "- odds([1,2,3,4,5]) => [1,3,5] <!-- VL -->\n"
   ]
  },
  {
   "cell_type": "markdown",
   "metadata": {},
   "source": [
    "maps\n",
    "----\n",
    "\n",
    "- animal_count(['coq', 'chien', 'coq', 'chat', 'chat', 'vache', 'coq', 'chien']) =>\n",
    "  {'coq': 3, 'chien': 2, 'chat': 2, 'vache': 1}\n",
    "\n",
    "ferme = ['vache'] * 3 + ['poulet'] * 8 + ['coq', 'chien', 'chat'] + ['chaton'] * 2\n",
    "import random\n",
    "random.shuffle(ferme)\n",
    "print ferme"
   ]
  },
  {
   "cell_type": "markdown",
   "metadata": {},
   "source": [
    "sys.argv\n",
    "--------\n"
   ]
  },
  {
   "cell_type": "markdown",
   "metadata": {},
   "source": [
    "fichiers\n",
    "--------\n",
    "\n",
    "- animal_count_from_file(fn) => {'dodo': 1, 'dragon': 1}\n"
   ]
  },
  {
   "cell_type": "markdown",
   "metadata": {},
   "source": [
    "dates\n",
    "-----\n",
    "\n",
    "- le jour J du mois M est le combientième jour de l'année A\n",
    "- le premier samedi du mois M de l'année A\n",
    "- quel jour J est l'avant-dernier jeudi du mois M\n",
    "- combien de jours reste-t-il jusqu'à mon prochain anniversaire\n",
    "\n"
   ]
  },
  {
   "cell_type": "markdown",
   "metadata": {},
   "source": [
    "algorithmes\n",
    "-----------\n",
    "\n",
    "- sorting"
   ]
  },
  {
   "cell_type": "markdown",
   "metadata": {},
   "source": [
    "# Questions pièges\n",
    "\n",
    "- id(1) != id('1') != id(1.0)\n",
    "- [] += 1 vs .append()\n",
    "- http://docs.python-guide.org/en/latest/writing/gotchas"
   ]
  },
  {
   "cell_type": "markdown",
   "metadata": {},
   "source": [
    "# References\n",
    "\n",
    "- pydev\n",
    "- docs.python.org\n",
    "- wikipedia\n",
    "- http://stackoverflow.com\n",
    "- https://fr.wikipedia.org/wiki/Python_(langage)\n",
    "- https://wiki.python.org/moin/Python2orPython3\n",
    "- scipy.org"
   ]
  }
 ],
 "metadata": {
  "celltoolbar": "Slideshow",
  "kernelspec": {
   "display_name": "Python 2",
   "language": "python",
   "name": "python2"
  },
  "language_info": {
   "codemirror_mode": {
    "name": "ipython",
    "version": 2
   },
   "file_extension": ".py",
   "mimetype": "text/x-python",
   "name": "python",
   "nbconvert_exporter": "python",
   "pygments_lexer": "ipython2",
   "version": "2.7.10"
  }
 },
 "nbformat": 4,
 "nbformat_minor": 0
}
