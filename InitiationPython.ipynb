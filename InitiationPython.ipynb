{
 "cells": [
  {
   "cell_type": "markdown",
   "metadata": {
    "slideshow": {
     "slide_type": "slide"
    }
   },
   "source": [
    "# Introduction à la Programmation Python"
   ]
  },
  {
   "cell_type": "markdown",
   "metadata": {},
   "source": [
    "1. La programmation, qu'est-ce que c'est ?\n",
    "==========================================\n",
    "\n",
    "- maths, formules, logique, algorithmes => recettes de cuisine !\n",
    "\n",
    "- on \"parle\" à l'ordinateur pour lui \"demander\" de faire quelque chose\n",
    "\n",
    "- un (des) langage(s), au sens linguistique: syntaxe et orthographe, vocabulaire, dialectes\n",
    "\n",
    "- texte structuré : suites logiques de phrases organisées pour exprimmer la recette"
   ]
  },
  {
   "cell_type": "markdown",
   "metadata": {},
   "source": [
    "2. Historique\n",
    "=============\n",
    "\n",
    "La genèse du langage date de la fin des années 80. Guido van Rossum, alors a l'institut de recherche en mathématique et informatique hollandais ([CWI](http://www.cwi.nl)) à Amsterdam a publié la version 0.9.0 de l'interpréteur en Février 1991. Il travaille maintenant pour dropbox après 7 ans chez google.\n",
    "\n",
    "Plus d'histoire sur [wikipedia](https://en.wikipedia.org/wiki/History_of_Python)."
   ]
  },
  {
   "cell_type": "markdown",
   "metadata": {},
   "source": [
    "## Philosophie du langage : le zen de Python\n",
    "\n",
    "[PEP 20](https://www.python.org/dev/peps/pep-0020)"
   ]
  },
  {
   "cell_type": "code",
   "execution_count": 5,
   "metadata": {
    "collapsed": false,
    "scrolled": true
   },
   "outputs": [],
   "source": [
    "import this"
   ]
  },
  {
   "cell_type": "markdown",
   "metadata": {
    "slideshow": {
     "slide_type": "slide"
    }
   },
   "source": [
    "interpréteurs\n",
    "-------------\n",
    "\n",
    "- [CPython](https://www.python.org) => Implémentation de référence\n",
    "- [Jython](http://www.jython.org) => Java byte code, accès aux classes java\n",
    "- [IronPython](http://ironpython.net) => CLR byte code, accès aux classes .NET\n",
    "- [Pyjamas](http://pyjs.org) => JavaScript, Ajax, [GWT](http://www.gwtproject.org)\n",
    "- [Stackless Python](http://www.stackless.com) => pas de pile, microthreads, coroutines\n",
    "- [Shed Skin](http://shedskin.github.io) => C++, typage statique\n",
    "- [Cython](http://cython.org) => C, créer des modules python\n",
    "- [Pyrex](http://www.cosc.canterbury.ac.nz/~greg/python/Pyrex) => langage proche de python, C\n",
    "- [Unladen Swallow](https://code.google.com/p/unladen-swallow) => JIT, [LLVM](http://llvm.org)\n",
    "- [Pypy](http://pypy.org) => JIT,RTTS RPython -> C, Java byte code, CLR byte code\n",
    "- [Psyco](http://psyco.sourceforge.net) => JIT, RTTS, x86\n",
    "\n",
    "JIT: compilation à la volée<BR>\n",
    "RTTS: spécialisation de type au moment de l'exécution"
   ]
  },
  {
   "cell_type": "markdown",
   "metadata": {},
   "source": [
    "science\n",
    "-------\n",
    "\n",
    "- [NumPy](http://www.numpy.org): calcul numérique, opérations mathématiques sur tableaux et matrices de grandes dimensions\n",
    "- [SciPy](https://www.scipy.org): ensemble de logiciels pour scientifiques: traitement de signal, d'images, algèbre lineaire, etc...\n",
    "- [Sympy](http://sympy.org): mathématiques symboliques\n",
    "- [Matplotlib](http://matplotlib.org): tracer et visualiser des données sous forme graphique, à la matlab ou mathematica\n",
    "- [BioPython](http://biopython.org): problèmes de biologie: génomique, modélisation moléculaire, etc...\n"
   ]
  },
  {
   "cell_type": "markdown",
   "metadata": {
    "slideshow": {
     "slide_type": "slide"
    }
   },
   "source": [
    "3. Contexte\n",
    "===========\n",
    "\n",
    "Python est un langage complet, utilisable dans un grand nombre de domaines:\n",
    "- bittorrent - téléchargement\n",
    "- dropbox - partage de fichiers\n",
    "- openstack - gestionnaire de cloud\n",
    "- yum - installeur de paquets redhat, centos\n",
    "- moinmoin - wiki\n",
    "- trac - gestion de versions, bugs, wiki\n",
    "- civilization IV - jeu de stratégie\n",
    "- django - framework web\n",
    "- zope - CMS, serveur d'applications web\n",
    "- softimage - modelage et rendu 3D\n",
    "- maya - modelage et rendu 3D\n",
    "- paint shop pro - éditeur d'images\n",
    "- gimp - éditeur d'images\n",
    "- inkscape - éditeur de graphiques vectoriels\n",
    "- reddit - réseau social, communauté\n",
    "- yahoo groups - forums\n",
    "- youtube - streaming vidéo\n",
    "\n",
    "Plus d'exemples sur [wikipedia](https://en.wikipedia.org/wiki/List_of_Python_software)\n"
   ]
  },
  {
   "cell_type": "markdown",
   "metadata": {
    "slideshow": {
     "slide_type": "slide"
    }
   },
   "source": [
    "4. Documentation\n",
    "================\n",
    "\n",
    "- python.org (doc, faq, stdlib, tuto, etc...)\n",
    "- stackoverflow"
   ]
  },
  {
   "cell_type": "markdown",
   "metadata": {
    "slideshow": {
     "slide_type": "slide"
    }
   },
   "source": [
    "5. Langage Python et sa Syntaxe\n",
    "===============================\n",
    "\n",
    "variables\n",
    "---------\n",
    "\n",
    "- assignation: '='\n",
    "- pas de type: c'est la donnée qui est typée, pas la variable qui la référence\n",
    "\n",
    "- copie ou référence\n",
    "- modifiable ou non\n",
    "- del()"
   ]
  },
  {
   "cell_type": "markdown",
   "metadata": {
    "slideshow": {
     "slide_type": "subslide"
    }
   },
   "source": [
    "Python 3.x\n",
    "----------\n",
    "\n",
    "C'est le futur, et incidemment aussi le présent voire même le passé...<BR>\n",
    "Quoi: une version qui casse la compatibilité ascendante<BR>\n",
    "Pourquoi: nettoyage de parties bancales du langage accumulées au fil du temps<BR>\n",
    "Python 3.0 est sorti en 2008<BR>\n",
    "Python 2.7 est sorti en 2010: EOL, fin de vie, (mal-)heureusement longue à venir<BR>\n",
    "Un certain nombre de choses n'a pas encore été converti pour fonctionner avec<BR>\n",
    "Les distributions linux majeures proposent encore la 2.X par défaut, mais la 3 est disponible en parallèle<BR>\n",
    "Une partie, la moins disruptive, à quand même été portée vers 2.6 et 2.7 pour aider à la transition<BR>\n",
    "Les tutoriels, et autres documentations disponibles sur internet ne sont pas forcément migrées<BR>\n",
    "Pour un nouveau projet, recherchez un peu avant de vous lancer, pour vértifier les besoins en librairies externes<BR>\n",
    "Les implémentations tierces d'interpréteurs python peuvent avoir des degrés variables de compatibilité avec les versions 3.x<BR>\n",
    "Les modules comportant des extentions en C sont plus compliquées à porter<BR>\n",
    "\n",
    "Différences notables :\n",
    "- Division entière\n",
    "- print()\n",
    "- toutes les classes sont du nouveau type\n",
    "- Les chaînes de caractères sont en UTF-8 par défaut & encoding(s) & byte() interface\n",
    "- stdlib changée\n",
    "- range() vs xrange()\n",
    "- outils 2to3.py, 3to2, python-modernize, futurize\n",
    "- pylint --py3k\n",
    "- module de compatibilité: six \n"
   ]
  },
  {
   "cell_type": "markdown",
   "metadata": {
    "slideshow": {
     "slide_type": "subslide"
    }
   },
   "source": [
    "types de données\n",
    "----------------\n",
    "\n",
    "- None <!-- VL -->\n",
    "- booléens: logique vrai/faux <!-- MB -->\n",
    "- numériques: entiers, flottants (précision, flou, arrondis, approximations), complexes <!-- MB -->\n",
    "  * limites en info != maths, les nombres ne sont pas infinis (sys.maxint)\n",
    "- chaines de caractères: str() <!-- VL -->\n",
    "- séquences: <!-- MB -->\n",
    "  * list()\n",
    "  * tuple()\n",
    "  * mutabilité, chaines\n",
    "  * indexing, negative indexes, slicing\n",
    "- dict() <!-- VL -->\n",
    "- ensembles: set() <!-- VL -->\n",
    "- littéraux {}, methodes dict(), etc...\n",
    "- fichiers: open(), close() <!-- MB -->\n"
   ]
  },
  {
   "cell_type": "markdown",
   "metadata": {
    "slideshow": {
     "slide_type": "subslide"
    }
   },
   "source": [
    "chaines <!-- VL -->\n",
    "-------\n",
    "\n",
    "- multiligne, \"'\" vs '\"'\n",
    "- formattage : %\n"
   ]
  },
  {
   "cell_type": "markdown",
   "metadata": {
    "slideshow": {
     "slide_type": "subslide"
    }
   },
   "source": [
    "opérateurs <!-- MB -->\n",
    "----------\n",
    "\n",
    "- binaires |^&\n",
    "- logiques and or not cmp() > < ==\n",
    "- arithmétiques +, -, *, /, **, and %\n",
    "- assignation += -= /=\n",
    "- compatibilité de type, coercission de type\n",
    "  1 + '1' => TypeError: unsupported operand type(s) for +: 'int' and 'str'\n",
    "  str(1) + '1' => '11'\n",
    "  1 + int('1') => 2\n",
    "  int(str(1) + '1') => 11\n"
   ]
  },
  {
   "cell_type": "markdown",
   "metadata": {},
   "source": [
    "structures de contrôle\n",
    "----------------------\n",
    "\n",
    "- pass <!-- VL/MB -->\n",
    "- tests: if / elif / else <!-- MB -->\n",
    "- boucles <!-- VL -->\n",
    "  * for elt in liste\n",
    "  * for idx in range(len(liste))\n",
    "  * while\n",
    "  * break\n",
    "  * continue\n",
    "- fonctions <!-- MB -->\n",
    "  * arguments (*args, **kwargs)\n",
    "  * valeurs par defaut\n",
    "  * namespace (global(), local())\n",
    "- with <!-- VL -->\n",
    "- exceptions, try / catch <!-- VL -->\n",
    "- lambda <!-- VL -->\n",
    "- comprehensions <!-- MB -->\n",
    "- surcharge d'opérateurs"
   ]
  },
  {
   "cell_type": "markdown",
   "metadata": {},
   "source": [
    "mise en page <!-- VL -->\n",
    "------------\n",
    "\n",
    "- indentation\n",
    "- blocs de code\n",
    "- caractères blancs (tabs vs spaces)\n",
    "- \":\"\n"
   ]
  },
  {
   "cell_type": "markdown",
   "metadata": {},
   "source": [
    "commentaires <!-- VL -->\n",
    "------------\n",
    "\n",
    "- rendre le code plus compréhensible\n",
    "- lisibilité (avec les espaces entre les expressions)\n"
   ]
  },
  {
   "cell_type": "markdown",
   "metadata": {},
   "source": [
    "builtins <!-- MB -->\n",
    "--------\n",
    "\n",
    "- print()\n",
    "- str().format()\n",
    "- range()\n",
    "- input()\n",
    "- min(), max()\n",
    "- sorted(), reversed()\n",
    "- zip(), map()\n"
   ]
  },
  {
   "cell_type": "markdown",
   "metadata": {},
   "source": [
    "modules <!-- VL -->\n",
    "-------\n",
    "\n",
    "- import\n",
    "- packages\n"
   ]
  },
  {
   "cell_type": "markdown",
   "metadata": {},
   "source": [
    "OOP <!-- MB -->\n",
    "---\n",
    "\n",
    "- classes\n",
    "- instances\n",
    "- self\n",
    "- héritage\n",
    "- surcharge\n",
    "- '==' vs id() vs hash()"
   ]
  },
  {
   "cell_type": "markdown",
   "metadata": {},
   "source": [
    "stdlib - details\n",
    "----------------\n",
    "\n",
    "- string (find, count, split, join, strip, upper, replace) <!-- VL -->\n",
    "- math (log, sqrt, cos, pi, e) <!-- MB -->\n",
    "- os (listdir, getcwd, getenv, chdir, environ) <!-- VL -->\n",
    "- os.path (exists, getsize, isdir, join) <!-- MB -->\n",
    "- sys (sys.argv, sys.exit, sys.path) <!-- VL -->"
   ]
  },
  {
   "cell_type": "markdown",
   "metadata": {},
   "source": [
    "stdlib - à creuser, exercices\n",
    "------------------\n",
    "\n",
    "- re\n",
    "- random\n",
    "- pickle\n",
    "- time, datetime\n",
    "- compression: zlib, etc...\n",
    "- crypto: md5\n",
    "- argparse (+ optparse)\n",
    "- subprocess\n",
    "- réseau: email, urllib\n",
    "- xml, json, hdf5\n",
    "- unittest\n",
    "- debugger: pdb (c.f. spyder)\n",
    "- profiler\n",
    "- formatter\n",
    "- distutils / setup.py (c.f. PyPI)"
   ]
  },
  {
   "cell_type": "markdown",
   "metadata": {},
   "source": [
    "plus loin encore\n",
    "----------------\n",
    "\n",
    "- [Python Package Index](https://pypi.python.org/pypi): aka PyPI: 66K packages - \"pip install --user\"\n",
    "- [opencv](http://opencv.org): computer vision - traitement d'images en temps réel et le [module python](https://pypi.python.org/pypi/pyopencv)\n",
    "- [pyopencl](https://github.com/pyopencl/pyopencl): calculs GPGPU\n",
    "- [pycuda](https://pypi.python.org/pypi/pycuda): calculs GPGPU sur matériel NVidia\n",
    "- beaucoup de librairies C, C++ ou autres sont accessibles en python\n",
    "\n"
   ]
  },
  {
   "cell_type": "markdown",
   "metadata": {},
   "source": [
    "6. Bonnes Pratiques\n",
    "===================\n",
    "\n",
    "- IDE: pydev, spyder, eclipse\n",
    "- Source control / version control (svn, git)\n",
    "- meld\n",
    "- pep8\n",
    "- pylint\n",
    "- tox\n",
    "- virtualenv\n",
    "- docstring"
   ]
  },
  {
   "cell_type": "markdown",
   "metadata": {},
   "source": [
    "8. Exercices\n",
    "============\n"
   ]
  },
  {
   "cell_type": "markdown",
   "metadata": {},
   "source": [
    "numeric\n",
    "-------\n",
    "\n",
    "def ttc(liste):\n",
    "    return sum(liste) * 1.186\n",
    "\n"
   ]
  },
  {
   "cell_type": "markdown",
   "metadata": {},
   "source": [
    "chaines de caractères\n",
    "---------------------\n",
    "\n",
    "- majuscules / minuscules: toupper(), tolower(), inverse_maj(), capitalize()\n",
    "- remplace()\n"
   ]
  },
  {
   "cell_type": "markdown",
   "metadata": {},
   "source": [
    "listes\n",
    "------\n",
    "\n",
    "- reverse()\n",
    "- odd_indices([1,2,3,4,5]) => [2,4]\n",
    "- odds([1,2,3,4,5]) => [1,3,5]\n"
   ]
  },
  {
   "cell_type": "markdown",
   "metadata": {},
   "source": [
    "maps\n",
    "----\n",
    "\n",
    "- animal_count(['coq', 'chien', 'coq', 'chat', 'chat', 'vache', 'coq', 'chien']) =>\n",
    "  {'coq': 3, 'chien': 2, 'chat': 2, 'vache': 1}"
   ]
  },
  {
   "cell_type": "markdown",
   "metadata": {},
   "source": [
    "sys.argv\n",
    "--------\n"
   ]
  },
  {
   "cell_type": "markdown",
   "metadata": {},
   "source": [
    "fichiers\n",
    "--------\n",
    "\n",
    "- animal_count_from_file(fn) => {'dodo': 1, 'dragon': 1}\n"
   ]
  },
  {
   "cell_type": "markdown",
   "metadata": {},
   "source": [
    "dates\n",
    "-----\n",
    "\n",
    "- le jour J du mois M est le combientième jour de l'année A\n",
    "- le premier samedi du mois M de l'année A\n",
    "- quel jour J est l'avant-dernier jeudi du mois M\n",
    "- combien de jours reste-t-il jusqu'à mon prochain anniversaire\n",
    "\n"
   ]
  },
  {
   "cell_type": "markdown",
   "metadata": {},
   "source": [
    "algorithmes\n",
    "-----------\n",
    "\n",
    "- sorting"
   ]
  },
  {
   "cell_type": "markdown",
   "metadata": {},
   "source": [
    "9. Questions pièges\n",
    "===================\n",
    "\n",
    "- id(1) != id('1') != id(1.0)\n",
    "- [] += 1 vs .append()\n",
    "- http://docs.python-guide.org/en/latest/writing/gotchas"
   ]
  },
  {
   "cell_type": "markdown",
   "metadata": {},
   "source": [
    "10. References\n",
    "=============\n",
    "\n",
    "- pydev\n",
    "- docs.python.org\n",
    "- wikipedia\n",
    "- http://stackoverflow.com\n",
    "- https://fr.wikipedia.org/wiki/Python_(langage)\n",
    "- https://wiki.python.org/moin/Python2orPython3\n",
    "- scipy.org"
   ]
  }
 ],
 "metadata": {
  "celltoolbar": "Slideshow",
  "kernelspec": {
   "display_name": "Python 2",
   "language": "python",
   "name": "python2"
  },
  "language_info": {
   "codemirror_mode": {
    "name": "ipython",
    "version": 2
   },
   "file_extension": ".py",
   "mimetype": "text/x-python",
   "name": "python",
   "nbconvert_exporter": "python",
   "pygments_lexer": "ipython2",
   "version": "2.7.6"
  }
 },
 "nbformat": 4,
 "nbformat_minor": 0
}
