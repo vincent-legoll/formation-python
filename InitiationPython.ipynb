{
 "cells": [
  {
   "cell_type": "markdown",
   "metadata": {
    "slideshow": {
     "slide_type": "slide"
    }
   },
   "source": [
    "# Introduction à la Programmation Python"
   ]
  },
  {
   "cell_type": "markdown",
   "metadata": {},
   "source": [
    "1. Programmation\n",
    "================\n",
    "\n",
    "Qu'est-ce que c'est ?\n",
    "\n",
    "- maths, formules, logique, algorithmes => recettes de cuisine !\n",
    "\n",
    "- on parle à l'ordinateur pour lui demander de faire quelque chose\n",
    "  langage: au sens linguistique: syntaxe et orthographe, vocabulaire\n",
    "  texte structuré : suites logiques de phrases organisées pour exprimmer\n",
    "  la recette"
   ]
  },
  {
   "cell_type": "markdown",
   "metadata": {},
   "source": [
    "2. Historique\n",
    "=============\n",
    "\n",
    "Guido van Rossum (hollandais), a créé ce langage en 1991\n",
    "qui travaille maintenant chez dropbox après 7 ans chez google."
   ]
  },
  {
   "cell_type": "markdown",
   "metadata": {},
   "source": [
    "## Philosophie du langage : le zen de Python\n",
    "\n",
    "[PEP 20](http://stackoverflow.com) (The Zen of Python)"
   ]
  },
  {
   "cell_type": "code",
   "execution_count": 5,
   "metadata": {
    "collapsed": false,
    "scrolled": true
   },
   "outputs": [],
   "source": [
    "import this"
   ]
  },
  {
   "cell_type": "markdown",
   "metadata": {
    "slideshow": {
     "slide_type": "slide"
    }
   },
   "source": [
    "interpréteurs\n",
    "-------------\n",
    "\n",
    "- CPython\n",
    "- Jython => Java byte code\n",
    "- IronPython => .NET\n",
    "- Pyjamas => JavaScript\n",
    "- Shed Skin => C++\n",
    "- Cython and Pyrex => C\n",
    "- Pypy / RPython => C, Java bytecode CLR"
   ]
  },
  {
   "cell_type": "markdown",
   "metadata": {},
   "source": [
    "science\n",
    "-------\n",
    "\n",
    "- NumPy\n",
    "- SciPy\n",
    "- Matplotlib\n",
    "- BioPython"
   ]
  },
  {
   "cell_type": "markdown",
   "metadata": {
    "slideshow": {
     "slide_type": "slide"
    }
   },
   "source": [
    "3. Contexte\n",
    "===========",
    "Python est un langage complet utilisable dans un grand nombre de domaines, c.f.:\n",
    "https://en.wikipedia.org/wiki/List_of_Python_software\n"
   ]
  },
  {
   "cell_type": "markdown",
   "metadata": {
    "slideshow": {
     "slide_type": "slide"
    }
   },
   "source": [
    "4. Documentation\n",
    "================\n",
    "\n",
    "- python.org (doc, faq, stdlib, tuto, etc...)\n",
    "- stackoverflow"
   ]
  },
  {
   "cell_type": "markdown",
   "metadata": {
    "slideshow": {
     "slide_type": "slide"
    }
   },
   "source": [
    "5. Langage Python et sa Syntaxe\n",
    "===============================\n",
    "\n",
    "variables\n",
    "---------\n",
    "\n",
    "- assignation: '='\n",
    "- pas de type: c'est la donnée qui est typée, pas la variable qui la référence\n",
    "\n",
    "- copie ou référence\n",
    "- modifiable ou non\n",
    "- del()"
   ]
  },
  {
   "cell_type": "markdown",
   "metadata": {
    "slideshow": {
     "slide_type": "subslide"
    }
   },
   "source": [
    "Python3.x\n",
    "---------\n",
    "C'est le futur, et incidemment aussi le présent voire même le passé...\n",
    "Quoi: une version qui casse la compatibilité ascendante\n",
    "Pourquoi: nettoyage de parties bancales du langage accumulées au fil du temps\n",
    "Python 3.0 est sorti en 2008\n",
    "Python 2.7 est sorti en 2010: EOL, fin de vie, (mal-)heureusement longue à venir\n",
    "Un certain nombre de choses n'a pas encore été converti pour fonctionner avec\n",
    "Les distributions linux majeures proposent encore la 2.X par défaut, mais la 3 est disponible en parallèle\n",
    "Une partie, la moins disruptive, à quand même été portée vers 2.6 et 2.7 pour aider à la transition\n",
    "Les tutoriels, et autres documentations disponibles sur internet ne sont pas forcément migrées\n",
    "Pour un nouveau projet, recherchez un peu avant de vous lancer, pour vértifier les besoins en librairies externes\n",
    "Les implémentations tierces d'interpréteurs python peuvent avoir des degrés variables de compatibilité avec les versions 3.x\n",
    "Les modules comportant des extentions en C sont plus compliquées à porter\n",
    "Différences notables :\n",
    "- Division entière\n",
    "- print()\n",
    "- toutes les classes sont du nouveau type\n",
    "- Les chaînes de caractères sont en UTF-8 par défaut & encoding(s) & byte() interface\n",
    "- stdlib changée\n",
    "- range() vs xrange()\n",
    "- outils 2to3.py, 3to2, python-modernize, futurize\n",
    "- pylint --py3k\n",
    "- module de compatibilité: six \n"
   ]
  },
  {
   "cell_type": "markdown",
   "metadata": {
    "slideshow": {
     "slide_type": "subslide"
    }
   },
   "source": [
    "types de données\n",
    "----------------\n",
    "\n",
    "- None\n",
    "- booléens: logique vrai/faux\n",
    "- numériques: entiers, flottants (précision, flou, arrondis, approximations), complexes\n",
    "  * limites en info != maths, les nombres ne sont pas infinis (sys.maxint)\n",
    "  * id(1) != id(1.0)\n",
    "- séquences:\n",
    "  * list()\n",
    "  * tuple()\n",
    "  * chaines de caractères: str()\n",
    "  * indexing, negative indexes, slicing\n",
    "- dict()\n",
    "- ensembles: set()\n",
    "- littéraux {}, methodes dict(), etc...\n",
    "- fichiers: open(), close()\n"
   ]
  },
  {
   "cell_type": "markdown",
   "metadata": {
    "slideshow": {
     "slide_type": "subslide"
    }
   },
   "source": [
    "chaines\n",
    "-------\n",
    "\n",
    "- multiligne, \"'\" vs '\"'\n",
    "- formattage : %\n"
   ]
  },
  {
   "cell_type": "markdown",
   "metadata": {
    "slideshow": {
     "slide_type": "subslide"
    }
   },
   "source": [
    "opérateurs\n",
    "----------\n",
    "\n",
    "- binaires |^&\n",
    "- logiques and or not cmp() > < ==\n",
    "- arithmétiques +, -, *, /, **, and %\n",
    "- assignation += -= /=\n",
    "- compatibilité de type, coercission de type\n",
    "  1 + '1' => TypeError: unsupported operand type(s) for +: 'int' and 'str'\n",
    "  str(1) + '1' => '11'\n",
    "  1 + int('1') => 2\n",
    "  int(str(1) + '1') => 11\n"
   ]
  },
  {
   "cell_type": "markdown",
   "metadata": {},
   "source": [
    "structures de contrôle\n",
    "----------------------\n",
    "\n",
    "- pass\n",
    "- tests: if / elif / else\n",
    "- boucles\n",
    "  * for elt in liste\n",
    "  * for idx in range(len(liste))\n",
    "  * while\n",
    "  * break\n",
    "  * continue\n",
    "- fonctions\n",
    "  * arguments\n",
    "  * valeurs par defaut\n",
    "- with\n",
    "- exceptions, try /catch"
   ]
  },
  {
   "cell_type": "markdown",
   "metadata": {},
   "source": [
    "mise en page\n",
    "------------\n",
    "\n",
    "- indentation\n",
    "- blocs de code\n",
    "- caractères blancs (tabs vs spaces)\n",
    "- \":\"\n"
   ]
  },
  {
   "cell_type": "markdown",
   "metadata": {},
   "source": [
    "commentaires\n",
    "------------\n",
    "\n",
    "- rendre le code plus compréhensible\n",
    "- lisibilité (avec les espaces entre les expressions)\n"
   ]
  },
  {
   "cell_type": "markdown",
   "metadata": {},
   "source": [
    "builtins\n",
    "--------\n",
    "\n",
    "- print()\n",
    "- range()\n",
    "- input()\n",
    "- min(), max()\n",
    "- sorted(), reversed()"
   ]
  },
  {
   "cell_type": "markdown",
   "metadata": {},
   "source": [
    "modules\n",
    "-------\n",
    "\n",
    "- import\n",
    "- packages\n"
   ]
  },
  {
   "cell_type": "markdown",
   "metadata": {},
   "source": [
    "OOP\n",
    "---\n",
    "\n",
    "- classes\n",
    "- instances\n",
    "- self\n",
    "- '==' vs id() vs hash()"
   ]
  },
  {
   "cell_type": "markdown",
   "metadata": {},
   "source": [
    "stdlib - details\n",
    "----------------\n",
    "\n",
    "- string (find, count, split, join, strip, upper, replace)\n",
    "- math (log, sqrt, cos, pi, e)\n",
    "- os (listdir, getcwd, getenv, chdir, environ)\n",
    "- os.path (exists, getsize, isdir, join)\n",
    "- sys (sys.argv, sys.exit)"
   ]
  },
  {
   "cell_type": "markdown",
   "metadata": {},
   "source": [
    "stdlib - à creuser\n",
    "------------------\n",
    "\n",
    "- re\n",
    "- random\n",
    "- pickle\n",
    "- time, datetime\n",
    "- compression: zlib, etc...\n",
    "- crypto: md5\n",
    "- argparse\n",
    "- subprocess\n",
    "- réseau: email, urllib\n",
    "- xml\n",
    "- unittest\n",
    "- debugger: pdb\n",
    "- profiler\n",
    "- formatter"
   ]
  },
  {
   "cell_type": "markdown",
   "metadata": {},
   "source": [
    "plus loin encore\n",
    "----------------\n",
    "\n",
    "- pypi: 66K packages - \"pip install --user\"\n",
    "- numpy: calcul numérique\n",
    "- matplotlib: graphiques à la matlab ou mathematica\n",
    "- sympy: mathématiques symboliques\n",
    "- scipy: ensemble de logiciels pour scientifiques (numpy, matplotlib, etc...)\n",
    "- opencv: computer vision - traitement d'images en temlps réel\n",
    "- pyopencl, pycuda, etc...: calculs GPGPU\n",
    "- beaucoup de librairies C, C++ ou autres sont accessibles en python\n",
    "\n"
   ]
  },
  {
   "cell_type": "markdown",
   "metadata": {},
   "source": [
    "6. Bonnes Pratiques\n",
    "===================\n",
    "\n",
    "- IDE: pydev\n",
    "- Source control / version control\n",
    "- meld\n",
    "- pep8\n",
    "- pylint\n",
    "- tox\n",
    "- virtualenv"
   ]
  },
  {
   "cell_type": "markdown",
   "metadata": {},
   "source": [
    "7. Monty Python\n",
    "===============\n",
    "\n",
    "Et maintenant quelque chose de complètement différent\n",
    "Le sens de la vie\n",
    "Wanda\n",
    "Brazil\n",
    "Perroquet mort\n",
    "Chevalier qui dit \"Ni\""
   ]
  },
  {
   "cell_type": "markdown",
   "metadata": {},
   "source": [
    "8. Exercices\n",
    "============\n"
   ]
  },
  {
   "cell_type": "markdown",
   "metadata": {},
   "source": [
    "numeric\n",
    "-------\n",
    "\n",
    "def ttc(liste):\n",
    "    return sum(liste) * 1.186\n",
    "\n"
   ]
  },
  {
   "cell_type": "markdown",
   "metadata": {},
   "source": [
    "chaines de caractères\n",
    "---------------------\n",
    "\n",
    "- majuscules / minuscules: toupper(), tolower(), inverse_maj(), capitalize()\n",
    "- remplace()\n"
   ]
  },
  {
   "cell_type": "markdown",
   "metadata": {},
   "source": [
    "listes\n",
    "------\n",
    "\n",
    "- reverse()\n",
    "- odd_indices([1,2,3,4,5]) => [2,4]\n",
    "- odds([1,2,3,4,5]) => [1,3,5]\n"
   ]
  },
  {
   "cell_type": "markdown",
   "metadata": {},
   "source": [
    "maps\n",
    "----\n",
    "\n",
    "- animal_count(['coq', 'chien', 'coq', 'chat', 'chat', 'vache', 'coq', 'chien']) =>\n",
    "  {'coq': 3, 'chien': 2, 'chat': 2, 'vache': 1}"
   ]
  },
  {
   "cell_type": "markdown",
   "metadata": {},
   "source": [
    "sys.argv\n",
    "--------\n"
   ]
  },
  {
   "cell_type": "markdown",
   "metadata": {},
   "source": [
    "fichiers\n",
    "--------\n",
    "\n",
    "- animal_count_from_file(fn) => {'dodo': 1, 'dragon': 1}\n"
   ]
  },
  {
   "cell_type": "markdown",
   "metadata": {},
   "source": [
    "dates\n",
    "-----\n",
    "\n",
    "- le jour J du mois M est le combientième jour de l'année A\n",
    "- le premier samedi du mois M de l'année A\n",
    "- quel jour J est l'avant-dernier jeudi du mois M\n",
    "- combien de jours reste-t-il jusqu'à mon prochain anniversaire\n",
    "\n"
   ]
  },
  {
   "cell_type": "markdown",
   "metadata": {},
   "source": [
    "algorithmes\n",
    "-----------\n",
    "\n",
    "- sorting"
   ]
  },
  {
   "cell_type": "markdown",
   "metadata": {},
   "source": [
    "9. Questions pièges\n",
    "===================\n",
    "\n",
    "- id(1) != id('1')\n",
    "- [] += 1 vs .append()\n",
    "- http://docs.python-guide.org/en/latest/writing/gotchas"
   ]
  },
  {
   "cell_type": "markdown",
   "metadata": {},
   "source": [
    "10. References\n",
    "=============\n",
    "\n",
    "- pydev\n",
    "- docs.python.org\n",
    "- wikipedia\n",
    "- http://stackoverflow.com\n",
    "- https://fr.wikipedia.org/wiki/Python_(langage)\n",
    "- https://wiki.python.org/moin/Python2orPython3\n",
    "- scipy.org"
   ]
  }
 ],
 "metadata": {
  "celltoolbar": "Slideshow",
  "kernelspec": {
   "display_name": "Python 2",
   "language": "python",
   "name": "python2"
  },
  "language_info": {
   "codemirror_mode": {
    "name": "ipython",
    "version": 2
   },
   "file_extension": ".py",
   "mimetype": "text/x-python",
   "name": "python",
   "nbconvert_exporter": "python",
   "pygments_lexer": "ipython2",
   "version": "2.7.10"
  }
 },
 "nbformat": 4,
 "nbformat_minor": 0
}
