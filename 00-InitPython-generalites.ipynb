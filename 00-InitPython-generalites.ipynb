{
 "cells": [
  {
   "cell_type": "markdown",
   "metadata": {
    "slideshow": {
     "slide_type": "slide"
    }
   },
   "source": [
    "\n",
    " ![](fig/python-logo.png)\n",
    "\n",
    "# Introduction à la Programmation Python\n",
    "***\n",
    "\n",
    "## Présentation\n",
    "\n",
    "***\n",
    "\n",
    "Formation permanente du CNRS, Délégation Alsace\n",
    "\n",
    "Novembre 2015\n",
    "\n",
    "***\n",
    "\n",
    "**Auteurs :**\n",
    "- Vincent Legoll ([vincent.legoll@idgrilles.fr](mailto: vincent.legoll@idgrilles.fr))\n",
    "- Matthieu Boileau ([matthieu.boileau@math.unistra.fr](mailto: matthieu.boileau@math.unistra.fr))"
   ]
  },
  {
   "cell_type": "markdown",
   "metadata": {
    "slideshow": {
     "slide_type": "slide"
    }
   },
   "source": [
    "## Prise en main des notebooks\n",
    "\n",
    "Le document que vous lisez est un notebook Python. Il est constitué de cellules comportant :\n",
    "- soit du code Python (les crochets [ ] à gauche indiquent le nombre d'exécutions de la cellule):"
   ]
  },
  {
   "cell_type": "code",
   "execution_count": null,
   "metadata": {
    "collapsed": false,
    "slideshow": {
     "slide_type": "fragment"
    }
   },
   "outputs": [],
   "source": [
    "print \"Hello world!\""
   ]
  },
  {
   "cell_type": "markdown",
   "metadata": {
    "slideshow": {
     "slide_type": "fragment"
    }
   },
   "source": [
    "- soit du texte en [**Markdown**](https://daringfireball.net/projects/markdown/) comme ici."
   ]
  },
  {
   "cell_type": "markdown",
   "metadata": {
    "slideshow": {
     "slide_type": "subslide"
    }
   },
   "source": [
    "## Prise en main des notebooks\n",
    "\n",
    "#### Les deux modes du notebook :\n",
    "\n",
    "- *Commande* : permet de se déplacer d'une cellule à l'autre et d'exécuter les cellules\n",
    "- *Edition* : permet de modifier le contenu d'une cellule."
   ]
  },
  {
   "cell_type": "markdown",
   "metadata": {
    "slideshow": {
     "slide_type": "fragment"
    }
   },
   "source": [
    "#### Changement de mode:\n",
    "- Mode *Commande* vers mode *Edition* : touche \"Enter\" ou double-click dans la cellule.\n",
    "- Mode *Edition* vers mode *Commande* :\n",
    "    - Touche \"Esc\" pour basculer sans exécuter\n",
    "    - Touche \"Shift + Enter\" pour exécuter la cellule et passer à la suivante"
   ]
  },
  {
   "cell_type": "markdown",
   "metadata": {
    "slideshow": {
     "slide_type": "fragment"
    }
   },
   "source": [
    "> **Exercice**\n",
    "> 1. Revenez en arrière, et exécutez la cellule **\"Hello world\"**"
   ]
  },
  {
   "cell_type": "markdown",
   "metadata": {
    "slideshow": {
     "slide_type": "subslide"
    }
   },
   "source": [
    "## Prise en main des notebooks\n",
    "\n",
    "#### Mode Commande\n",
    "\n",
    "- On se déplace à l'aide des flèches haut/bas ou en cliquant avec la souris.\n",
    "- On peut ajouter, effacer, déplacer, créer ou modifier le contenu des cellules à l'aide des menus déroulants en haut de la page \n",
    "\n",
    "\n",
    "#### Mode Edition\n",
    "- signalé par la petite icône \"crayon\" en haut à droite\n",
    "\n",
    "#### Note :\n",
    "\n",
    "La plupart des actions à la souris peuvent se faire à l'aide des raccourcis du menu *Help > Keyboard Shortcuts* (touche H)"
   ]
  },
  {
   "cell_type": "markdown",
   "metadata": {
    "collapsed": true,
    "slideshow": {
     "slide_type": "subslide"
    }
   },
   "source": [
    "## Prise en main des notebooks\n",
    "\n",
    "#### Autres commande utiles\n",
    "\n",
    "- Redémarrer le kernel Python : Bouton correspondant ou touche \"0,0\" en mode *Commande*\n",
    "- Transformer une cellule *Code* en cellule *Markdown* : touche \"M\" en mode *Commande*\n",
    "- Transformer une cellule *Markdown* en cellule *Code* : touche \"Y\" en mode *Commande*"
   ]
  },
  {
   "cell_type": "markdown",
   "metadata": {
    "slideshow": {
     "slide_type": "fragment"
    }
   },
   "source": [
    "> **Exercice**\n",
    "> 1. Suivre le tour guidé de l'interface : *Help > User Interface Tour*\n",
    "> 2. Avancer dans le notebook avec \"Shift + Enter\"\n",
    "> 3. Passer du mode **Commande** au mode **Edition** de différentes façons\n",
    "> 4. Ouvrez la rubrique **Keyboard Shortcuts** de l'aide et tenter de reproduire les actions uniquement avec les touches du clavier"
   ]
  },
  {
   "cell_type": "markdown",
   "metadata": {
    "collapsed": true,
    "slideshow": {
     "slide_type": "slide"
    }
   },
   "source": [
    "# La programmation, qu'est-ce que c'est ?\n",
    "\n",
    "\n",
    "- maths, formules, logique, algorithmes => recettes de cuisine !\n",
    "\n",
    "- on \"parle\" à l'ordinateur pour lui \"demander\" de faire quelque chose\n",
    "\n",
    "- un (des) langage(s), au sens linguistique: syntaxe et orthographe, vocabulaire, dialectes\n",
    "\n",
    "- texte structuré : suites logiques de phrases organisées pour exprimmer la recette"
   ]
  },
  {
   "cell_type": "markdown",
   "metadata": {
    "slideshow": {
     "slide_type": "slide"
    }
   },
   "source": [
    "![](fig/python-logo.png)\n",
    "\n",
    "# Le langage Python\n",
    "\n",
    "- Langage interprété, originellement écrit en C\n",
    "- Open-source, portable et disponible sur Unix, Windows, Mac OSX, etc.\n",
    "- Syntaxe claire et simple\n",
    "- Orienté objet\n",
    "- Types nombreux et puissants\n",
    "- Interfaces avec de nombreux autres langages et librairies\n",
    "- Large spectre d'applications\n",
    "\n",
    "Plus d'informations sur [wikipedia](https://fr.wikipedia.org/wiki/Python_%28langage%29)."
   ]
  },
  {
   "cell_type": "markdown",
   "metadata": {
    "slideshow": {
     "slide_type": "slide"
    }
   },
   "source": [
    "![](fig/python-logo.png)\n",
    "\n",
    "# Historique\n",
    "\n",
    "La genèse du langage date de la fin des années 80. Guido van Rossum, alors à l'Institut de Recherche en Mathématiques et Informatique hollandais ([CWI](http://www.cwi.nl)) à Amsterdam a publié la version 0.9.0 de l'interpréteur en Février 1991. Il travaille maintenant pour dropbox après 7 ans chez google.\n",
    "\n",
    "Plus d'histoire sur [wikipedia](https://en.wikipedia.org/wiki/History_of_Python)."
   ]
  },
  {
   "cell_type": "markdown",
   "metadata": {
    "slideshow": {
     "slide_type": "slide"
    }
   },
   "source": [
    "![](fig/python-logo.png)\n",
    "\n",
    "# Philosophie du langage : le zen de Python\n",
    "\n",
    "[PEP 20](https://www.python.org/dev/peps/pep-0020)"
   ]
  },
  {
   "cell_type": "code",
   "execution_count": null,
   "metadata": {
    "collapsed": false,
    "scrolled": true
   },
   "outputs": [],
   "source": [
    "import this"
   ]
  },
  {
   "cell_type": "markdown",
   "metadata": {
    "slideshow": {
     "slide_type": "slide"
    }
   },
   "source": [
    "# Qu'est-ce qu'un langage interprété ?\n",
    "\n",
    "- Ordinateur => CPU => jeu d'instructions (ISA) => langage binaire\n",
    "- Un langage de programmation permet d'écrire des programmes dans des langages plus humains, mais nécessite une étape de traduction.\n",
    "- Comme pour une langue étrangère, il nous faut un traducteur ou un interprète...\n",
    "    - Le traducteur va lire le texte et en produire une version dans la langue étrangère.\n",
    "    - L'interprète va lire le texte, et pendant sa lecture, effectuer la traduction en direct.\n",
    "- Pour un langage informatique, c'est quasiment pareil, nous avons des compilateurs et des interpréteurs.\n",
    "    - Les compilateurs, traduisent tout le code source en langage binaire utilisable directement par le CPU.\n",
    "    - L'interpréteur lit une partie du code source et exécute directement des instructions qui correspondent et passe à la suite.\n",
    "\n",
    "Un langage interprété sera souvent moins rapide qu'un compilé, car les optimisations sont plus faciles a réaliser lors d'une compilation. Cette différence a tendance a s'estomper avec l'apparition des techniques de JIT et RTTS."
   ]
  },
  {
   "cell_type": "markdown",
   "metadata": {
    "slideshow": {
     "slide_type": "subslide"
    }
   },
   "source": [
    "# Qu'est-ce qu'un langage interprété ?\n",
    "\n",
    "![](fig/compile_interprete.png)\n",
    "\n",
    "<span style=\"font-size:0.7em;\">Figure inspirée du livre [Apprendre à programmer en Python](http://framasoft.net/IMG/pdf/python_notes-2.pdf) de G. Swinnen.</span>"
   ]
  },
  {
   "cell_type": "markdown",
   "metadata": {
    "slideshow": {
     "slide_type": "slide"
    }
   },
   "source": [
    "# Quelques interpréteurs Python\n",
    "\n",
    "- [CPython](https://www.python.org) => Implémentation de référence\n",
    "- [Jython](http://www.jython.org) => Java byte code, accès aux classes java\n",
    "- [IronPython](http://ironpython.net) => CLR byte code, accès aux classes .NET\n",
    "- [Pyjamas](http://pyjs.org) => JavaScript, Ajax, [GWT](http://www.gwtproject.org)\n",
    "- [Stackless Python](http://www.stackless.com) => pas de pile, microthreads, coroutines\n",
    "- [Shed Skin](http://shedskin.github.io) => C++, typage statique\n",
    "- [Cython](http://cython.org) => C, créer des modules python\n",
    "- [Pyrex](http://www.cosc.canterbury.ac.nz/~greg/python/Pyrex) => langage proche de python, C\n",
    "- [Unladen Swallow](https://code.google.com/p/unladen-swallow) => origine google, JIT, [LLVM](http://llvm.org)\n",
    "- [Pypy](http://pypy.org) => JIT, RTTS, RPython -> C, Java byte code, CLR byte code\n",
    "- [Psyco](http://psyco.sourceforge.net) => JIT, RTTS, x86\n",
    "\n",
    "[JIT](https://fr.wikipedia.org/wiki/Compilation_%C3%A0_la_vol%C3%A9e): compilation à la volée<BR>\n",
    "[RTTS](https://en.wikipedia.org/wiki/Run-time_algorithm_specialisation): spécialisation de types au moment de l'exécution"
   ]
  },
  {
   "cell_type": "markdown",
   "metadata": {},
   "source": [
    "### Script mode \n",
    "<!-- VL -->"
   ]
  },
  {
   "cell_type": "markdown",
   "metadata": {},
   "source": [
    "# Science\n",
    "\n",
    "- [NumPy](http://www.numpy.org): calcul numérique, opérations mathématiques sur tableaux et matrices de grandes dimensions\n",
    "- [SciPy](https://www.scipy.org): ensemble de logiciels pour scientifiques: traitement de signal, d'images, algèbre lineaire, etc...\n",
    "- [Sympy](http://sympy.org): mathématiques symboliques\n",
    "- [Matplotlib](http://matplotlib.org): tracer et visualiser des données sous forme graphique, à la matlab ou mathematica\n",
    "- [BioPython](http://biopython.org): problèmes de biologie: génomique, modélisation moléculaire, etc...\n",
    "- [SAGE](http://www.sagemath.org): suite de librairies et logiciels de mathématiques\n"
   ]
  },
  {
   "cell_type": "markdown",
   "metadata": {
    "slideshow": {
     "slide_type": "slide"
    }
   },
   "source": [
    "# Exemples d'applications\n",
    "\n",
    "Python est un langage complet, utilisable dans un grand nombre de domaines:\n",
    "- bittorrent - téléchargement\n",
    "- dropbox - partage de fichiers\n",
    "- openstack - gestionnaire de cloud\n",
    "- yum - installeur de paquets redhat, centos\n",
    "- moinmoin - wiki\n",
    "- trac - gestion de versions, bugs, wiki\n",
    "- civilization IV - jeu de stratégie\n",
    "- django - framework web\n",
    "- zope - CMS, serveur d'applications web\n",
    "- softimage - modelage et rendu 3D\n",
    "- maya - modelage et rendu 3D\n",
    "- paint shop pro - éditeur d'images\n",
    "- gimp - éditeur d'images\n",
    "- inkscape - éditeur de graphiques vectoriels\n",
    "- reddit - réseau social, communauté\n",
    "- yahoo groups - forums\n",
    "- youtube - streaming vidéo\n",
    "\n",
    "Plus d'exemples sur [wikipedia](https://en.wikipedia.org/wiki/List_of_Python_software)\n"
   ]
  },
  {
   "cell_type": "markdown",
   "metadata": {
    "slideshow": {
     "slide_type": "slide"
    }
   },
   "source": [
    "# Documentation\n",
    "\n",
    "- Officielle :\n",
    "  * [L'index](https://www.python.org/doc/)\n",
    "  * [La FAQ](https://docs.python.org/faq/)\n",
    "  * [La librairie standard](https://docs.python.org/2/library/index.html)\n",
    "  * [Des tutoriels](https://docs.python.org/2/tutorial/index.html)\n",
    "- [Stackoverflow](https://stackoverflow.com/) : questions / réponses"
   ]
  }
 ],
 "metadata": {
  "celltoolbar": "Slideshow",
  "kernelspec": {
   "display_name": "Python 2",
   "language": "python",
   "name": "python2"
  },
  "language_info": {
   "codemirror_mode": {
    "name": "ipython",
    "version": 2
   },
   "file_extension": ".py",
   "mimetype": "text/x-python",
   "name": "python",
   "nbconvert_exporter": "python",
   "pygments_lexer": "ipython2",
   "version": "2.7.6"
  }
 },
 "nbformat": 4,
 "nbformat_minor": 0
}
