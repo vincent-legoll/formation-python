{
 "cells": [
  {
   "cell_type": "markdown",
   "metadata": {
    "slideshow": {
     "slide_type": "slide"
    }
   },
   "source": [
    "\n",
    " ![](fig/python-logo.png)\n",
    "\n",
    "# Introduction à la Programmation Python\n",
    "***\n",
    "\n",
    "## Généralités\n",
    "\n",
    "***\n",
    "\n",
    "Formation permanente du CNRS, Délégation Alsace\n",
    "\n",
    "Novembre 2015\n",
    "\n",
    "***\n",
    "\n",
    "**Auteurs :**\n",
    "\n",
    "- Vincent Legoll ([vincent.legoll@idgrilles.fr](mailto: vincent.legoll@idgrilles.fr))\n",
    "- Matthieu Boileau ([matthieu.boileau@math.unistra.fr](mailto: matthieu.boileau@math.unistra.fr))"
   ]
  },
  {
   "cell_type": "markdown",
   "metadata": {
    "slideshow": {
     "slide_type": "slide"
    }
   },
   "source": [
    "# Programme de la formation\n",
    "\n",
    "### Généralités\n",
    "\n",
    "- Prise en main des notebooks\n",
    "- Généralités sur le langage Python\n",
    "\n",
    "> Notebook : [00-InitPython-generalites.ipynb] (Vous y êtes !)\n",
    "\n",
    "### Le langage [1/2]\n",
    "\n",
    "- Variables\n",
    "- Types de données\n",
    "\n",
    "> Notebook : [[01-InitPython-langage.ipynb]](http://localhost:8888/notebooks/01-InitPython-langage.ipynb)\n",
    "\n",
    "### Le langage [2/2]\n",
    "\n",
    "- Opérateurs\n",
    "- Structures de contrôle\n",
    "- Fonctions\n",
    "- Exceptions et gestionnaires de contexte\n",
    "- Modules\n",
    "- Bonnes pratiques\n",
    "- Python 3\n",
    "- Le Zen de Python\n",
    "\n",
    "> Notebook : [[02-InitPython-langage.ipynb]](http://localhost:8888/notebooks/02-InitPython-langage.ipynb)\n",
    "\n",
    "### Micro-projet\n",
    "\n",
    "> Notebook : [[03-InitPython-microprojet.ipynb]](http://localhost:8888/notebooks/03-InitPython-microprojet.ipynb)"
   ]
  },
  {
   "cell_type": "markdown",
   "metadata": {
    "slideshow": {
     "slide_type": "slide"
    }
   },
   "source": [
    "# Prise en main des notebooks\n",
    "\n",
    "Le document que vous lisez est un notebook Python. Il est constitué de cellules comportant :\n",
    "- soit du code Python (les crochets [ ] à gauche indiquent le nombre d'exécutions de la cellule):"
   ]
  },
  {
   "cell_type": "code",
   "execution_count": null,
   "metadata": {
    "collapsed": false,
    "slideshow": {
     "slide_type": "-"
    }
   },
   "outputs": [],
   "source": [
    "print 'Hello world!'"
   ]
  },
  {
   "cell_type": "markdown",
   "metadata": {},
   "source": [
    "### Note\n",
    "\n",
    "``print`` est une fonction fournie par python pour afficher du texte à destination de l'utilisateur."
   ]
  },
  {
   "cell_type": "markdown",
   "metadata": {
    "slideshow": {
     "slide_type": "fragment"
    }
   },
   "source": [
    "- soit du texte en [**Markdown**](https://daringfireball.net/projects/markdown/) comme ici."
   ]
  },
  {
   "cell_type": "markdown",
   "metadata": {
    "slideshow": {
     "slide_type": "subslide"
    }
   },
   "source": [
    "### Les deux modes du notebook :\n",
    "\n",
    "- *Commande* : permet de se déplacer d'une cellule à l'autre et d'exécuter les cellules\n",
    "- *Edition* : permet de modifier le contenu d'une cellule."
   ]
  },
  {
   "cell_type": "markdown",
   "metadata": {
    "slideshow": {
     "slide_type": "fragment"
    }
   },
   "source": [
    "### Changement de mode:\n",
    "- *Commande* -> *Edition* : touche \"Enter\" ou double-click dans la cellule.\n",
    "- *Edition* -> *Commande* :\n",
    "    - Touche \"Esc\" pour basculer sans exécuter\n",
    "    - Touche \"Shift + Enter\" pour exécuter la cellule et passer à la suivante"
   ]
  },
  {
   "cell_type": "markdown",
   "metadata": {
    "slideshow": {
     "slide_type": "fragment"
    }
   },
   "source": [
    "> **Exercice** : Revenez en arrière, sélectionnez et exécutez (SHIFT+ENTER) la cellule de code qui contient **print 'Hello world!'**"
   ]
  },
  {
   "cell_type": "markdown",
   "metadata": {
    "slideshow": {
     "slide_type": "subslide"
    }
   },
   "source": [
    "### Mode Commande\n",
    "\n",
    "- On se déplace à l'aide des flèches haut/bas ou en cliquant avec la souris.\n",
    "- On peut ajouter, effacer, déplacer, créer ou modifier le contenu des cellules à l'aide des menus déroulants en haut de la page \n",
    "\n",
    "\n",
    "### Mode Edition\n",
    "- signalé par la petite icône \"crayon\" en haut à droite\n",
    "\n",
    "### Note :\n",
    "\n",
    "La plupart des actions à la souris peuvent se faire à l'aide des raccourcis du menu *Help > Keyboard Shortcuts* (touche H)"
   ]
  },
  {
   "cell_type": "markdown",
   "metadata": {
    "slideshow": {
     "slide_type": "fragment"
    }
   },
   "source": [
    "> **Exercice** : Revenez en arrière, sélectionnez la cellule **\"Hello world\"**. Modifiez son contenu, par exemple  traduisez le message en français, réexécutez-la et observez le nouveau résultat."
   ]
  },
  {
   "cell_type": "markdown",
   "metadata": {
    "collapsed": true,
    "slideshow": {
     "slide_type": "subslide"
    }
   },
   "source": [
    "### Autres commande utiles\n",
    "\n",
    "- Redémarrer le kernel Python : Bouton correspondant ou touche \"0,0\" en mode *Commande*\n",
    "- Cellule *Code* -> cellule *Markdown* : touche \"M\" en mode *Commande*\n",
    "- Cellule *Markdown* -> cellule *Code* : touche \"Y\" en mode *Commande*"
   ]
  },
  {
   "cell_type": "markdown",
   "metadata": {
    "slideshow": {
     "slide_type": "-"
    }
   },
   "source": [
    "> **Exercice**\n",
    "> 1. Suivre le tour guidé de l'interface : *Help > User Interface Tour*\n",
    "> 2. Avancer dans le notebook avec \"Shift + Enter\"\n",
    "> 3. Passer du mode **Commande** au mode **Edition** de différentes façons\n",
    "> 4. Ouvrez la rubrique **Keyboard Shortcuts** de l'aide et tenter de reproduire les actions uniquement avec les touches du clavier"
   ]
  },
  {
   "cell_type": "markdown",
   "metadata": {
    "slideshow": {
     "slide_type": "subslide"
    }
   },
   "source": [
    "### Notes :\n",
    "\n",
    "- Vous pouvez vous servir de votre copie d'un notebook pour faire office de bloc-notes : vous pouvez rajouter des cellules de texte pour vos commentaires et des cellules de code pour vos essais de résolution d'exercices.\n",
    "- \"CTRL + S\" pour sauver vos modifications\n",
    "- Pensez à emporter le fichier \".ipynb\" avec vous à la fin de la session."
   ]
  },
  {
   "cell_type": "markdown",
   "metadata": {},
   "source": [
    "> **Exercice** :\n",
    "> 1. Ajoutez une cellule de texte ci-dessous (touches 'b' puis 'm'), et mettez-y une note.\n",
    "> 2. Ajoutez une cellule de code ci-dessous (touche 'b'), et mettez-y un exemple de code."
   ]
  },
  {
   "cell_type": "markdown",
   "metadata": {
    "collapsed": true,
    "slideshow": {
     "slide_type": "slide"
    }
   },
   "source": [
    "# La programmation, qu'est-ce que c'est ?\n",
    "\n",
    "\n",
    "- On \"parle\" à l'ordinateur pour lui \"demander\" de faire quelque chose\n",
    "\n",
    "- Un programme : algorithme, formules mathématiques, logique, recette de cuisine\n",
    "\n",
    "- Les ingrédients pour la recette => les données : fichiers, mouvements de la souris, des touches entreés au clavier, des données en provenance du réseau...\n",
    "\n",
    "- On utilise un (des) langage(s) de programmation. Langage dans le sens linguistique: vocabulaire, orthographe, syntaxe et dialectes...\n",
    "\n",
    "- Un programme est écrit sous forme de texte structuré : ensemble de phrases ordonnées qui exprimment la recette"
   ]
  },
  {
   "cell_type": "markdown",
   "metadata": {
    "slideshow": {
     "slide_type": "slide"
    }
   },
   "source": [
    "![](fig/python-logo.png)\n",
    "\n",
    "# Le langage Python\n",
    "\n",
    "- Langage interprété, originellement écrit en C\n",
    "- Open-source, portable et disponible sur Unix, Windows, Mac OSX, etc.\n",
    "- Syntaxe claire et simple\n",
    "- Orienté objet\n",
    "- Types nombreux et puissants\n",
    "- Interfaces avec de nombreux autres langages et librairies\n",
    "- Large spectre d'applications\n",
    "\n",
    "Plus d'informations sur [wikipedia](https://fr.wikipedia.org/wiki/Python_%28langage%29) ou sur le site officiel de [python](https://www.python.org)."
   ]
  },
  {
   "cell_type": "markdown",
   "metadata": {
    "slideshow": {
     "slide_type": "slide"
    }
   },
   "source": [
    "![](fig/python-logo.png)\n",
    "\n",
    "# Historique\n",
    "\n",
    "La genèse du langage date de la fin des années 80. Guido van Rossum, alors à l'Institut de Recherche en Mathématiques et Informatique hollandais ([CWI](http://www.cwi.nl)) à Amsterdam a publié la version 0.9.0 de l'interpréteur en Février 1991. Il travaille maintenant pour dropbox après 7 ans chez google.\n",
    "\n",
    "Plus d'histoire sur [wikipedia](https://en.wikipedia.org/wiki/History_of_Python)."
   ]
  },
  {
   "cell_type": "markdown",
   "metadata": {
    "slideshow": {
     "slide_type": "slide"
    }
   },
   "source": [
    "# Qu'est-ce qu'un langage interprété ?\n",
    "\n",
    "- Ordinateur => CPU => jeu d'instructions (ISA) => langage binaire\n",
    "- Un langage de programmation permet d'écrire des programmes dans des langages plus humains, mais nécessite une étape de traduction.\n",
    "- Comme pour une langue étrangère, il nous faut un traducteur ou un interprète...\n",
    "    - Le traducteur va lire le texte et en produire une version dans la langue étrangère.\n",
    "    - L'interprète va lire le texte, et pendant sa lecture, effectuer la traduction en direct.\n",
    "- Pour un langage informatique, c'est quasiment pareil, nous avons des compilateurs et des interpréteurs.\n",
    "    - Les compilateurs, traduisent tout le code source en langage binaire utilisable directement par le CPU.\n",
    "    - L'interpréteur lit une partie du code source et exécute directement des instructions qui correspondent et passe à la suite.\n",
    "\n",
    "Un langage interprété sera souvent moins rapide qu'un compilé, car les optimisations sont plus faciles a réaliser lors d'une compilation. Cette différence a tendance a s'estomper avec l'apparition des techniques de JIT et RTTS.\n",
    "\n",
    "Une autre possibilité pour contourner la lenteur d'exécution est de faire appel a des librairies externes programmées dans un langage compilé et optimisées. Cela est très efficace pour les parties du code qui sont utilisées de manière répétitive."
   ]
  },
  {
   "cell_type": "markdown",
   "metadata": {
    "slideshow": {
     "slide_type": "subslide"
    }
   },
   "source": [
    "![](fig/compile_interprete.png)\n",
    "\n",
    "<span style=\"font-size:0.7em;\">Figure inspirée du livre [Apprendre à programmer en Python](http://framasoft.net/IMG/pdf/python_notes-2.pdf) de G. Swinnen.</span>"
   ]
  },
  {
   "cell_type": "markdown",
   "metadata": {
    "slideshow": {
     "slide_type": "subslide"
    }
   },
   "source": [
    "# Quelques interpréteurs Python\n",
    "\n",
    "- [CPython](https://www.python.org) => Implémentation de référence\n",
    "- [Jython](http://www.jython.org) => Java byte code, accès aux classes java\n",
    "- [IronPython](http://ironpython.net) => CLR byte code, accès aux classes .NET\n",
    "- [Pyjamas](http://pyjs.org) => JavaScript, Ajax, [GWT](http://www.gwtproject.org)\n",
    "- [Stackless Python](http://www.stackless.com) => pas de pile, microthreads, coroutines\n",
    "- [Shed Skin](http://shedskin.github.io) => C++, typage statique\n",
    "- [Cython](http://cython.org) => C, créer des modules python\n",
    "- [Pyrex](http://www.cosc.canterbury.ac.nz/~greg/python/Pyrex) => langage proche de python, C\n",
    "- [Unladen Swallow](https://code.google.com/p/unladen-swallow) => origine google, JIT, [LLVM](http://llvm.org)\n",
    "- [Pypy](http://pypy.org) => JIT, RTTS, RPython -> C, Java byte code, CLR byte code\n",
    "- [Psyco](http://psyco.sourceforge.net) => JIT, RTTS, x86\n",
    "\n",
    "[JIT](https://fr.wikipedia.org/wiki/Compilation_%C3%A0_la_vol%C3%A9e): compilation à la volée<BR>\n",
    "[RTTS](https://en.wikipedia.org/wiki/Run-time_algorithm_specialisation): spécialisation de types au moment de l'exécution"
   ]
  },
  {
   "cell_type": "markdown",
   "metadata": {
    "slideshow": {
     "slide_type": "slide"
    }
   },
   "source": [
    "# Exécution d'un programme Python\n",
    "\n",
    "## Dans la console Python interactive\n",
    "\n",
    "On peut exécuter le code directement à l'invite de l'interpréteur.\n",
    "   \n",
    "    $ python\n",
    "    Python 2.7.6 (default, Jun 22 2015, 17:58:13) \n",
    "    [GCC 4.8.2] on linux2\n",
    "    Type \"help\", \"copyright\", \"credits\" or \"license\" for more information.\n",
    "    >>> a = 2\n",
    "    >>> print a \n",
    "    2\n",
    "    >>> \n",
    "\n",
    "### Note\n",
    "\n",
    "Le caractère '$' est l'invite de commande typique d'un système d'exploitation linux, si vous utilisez une versions de windows, l'invite de commande de cmd.exe sera plutot 'C:\\> '."
   ]
  },
  {
   "cell_type": "markdown",
   "metadata": {
    "slideshow": {
     "slide_type": "subslide"
    }
   },
   "source": [
    "## Depuis la console système\n",
    "\n",
    "On peut l'exécuter en paramètre de la ligne de commande\n",
    "\n",
    "    $ python -c 'a=3;print a'\n",
    "\n",
    "On peut exécuter un fichier (test.py) contenant notre code\n",
    "\n",
    "    $ python test.py"
   ]
  },
  {
   "cell_type": "markdown",
   "metadata": {
    "slideshow": {
     "slide_type": "subslide"
    }
   },
   "source": [
    "## Dans la console iPython\n",
    "\n",
    "Le terminal interactif iPython peut s'utiliser comme alternative à la console Python classique pour ses fonctionnalités :\n",
    "- syntaxe additionnelle\n",
    "- complétion\n",
    "- commandes système\n",
    "- historique enrichi\n",
    "\n",
    "Aperçu du terminal ipython :\n",
    "\n",
    "    $ ipython\n",
    "    Python 2.7.10 |Anaconda 2.4.0 (x86_64)| (default, Oct 19 2015, 18:31:17) \n",
    "    Type \"copyright\", \"credits\" or \"license\" for more information.\n",
    "\n",
    "    IPython 4.0.0 -- An enhanced Interactive Python.\n",
    "    ?         -> Introduction and overview of IPython's features.\n",
    "    %quickref -> Quick reference.\n",
    "    help      -> Python's own help system.\n",
    "    object?   -> Details about 'object', use 'object??' for extra details.\n",
    "\n",
    "    In [1]: "
   ]
  },
  {
   "cell_type": "markdown",
   "metadata": {
    "slideshow": {
     "slide_type": "subslide"
    }
   },
   "source": [
    "### Un exemple d'utilisation\n",
    "\n",
    "Sauvegarde de l'historique des commandes avec la *magic function* ``%save``\n",
    "\n",
    "    $ ipython\n",
    "    Python 2.7.10 |Anaconda 2.4.0 (x86_64)| (default, Oct 19 2015, 18:31:17) \n",
    "    Type \"copyright\", \"credits\" or \"license\" for more information.\n",
    "\n",
    "    IPython 4.0.0 -- An enhanced Interactive Python.\n",
    "    ?         -> Introduction and overview of IPython's features.\n",
    "    %quickref -> Quick reference.\n",
    "    help      -> Python's own help system.\n",
    "    object?   -> Details about 'object', use 'object??' for extra details.\n",
    "\n",
    "    In [1]: print \"- Hello world!\"\n",
    "    - Hello world!\n",
    "\n",
    "    In [2]: R = \"Hello you! \"\n",
    "\n",
    "    In [3]: print R*6\n",
    "    Hello you! Hello you! Hello you! Hello you! Hello you! Hello you! \n",
    "\n",
    "    In [4]: %save hello.py 1-3\n",
    "    The following commands were written to file `hello.py`:\n",
    "    print \"- Hello world!\"\n",
    "    R = \"Hello you! \"\n",
    "    print R*6\n",
    "\n",
    "    In [5]: quit\n",
    "\n"
   ]
  },
  {
   "cell_type": "markdown",
   "metadata": {
    "slideshow": {
     "slide_type": "subslide"
    }
   },
   "source": [
    "## Au sein d'un notebook iPython\n",
    "\n",
    "Les cellules de type *code* vous donnent accès à une console qui inclut la plupart des fonctionnalités de la console iPython.\n",
    "\n",
    "> **Exercice :**\n",
    "> 1. Exécuter la cellule de code ci-dessous et observez le résultat\n",
    "> 2. Exécuter cette cellule une deuxième fois, observez la différence"
   ]
  },
  {
   "cell_type": "code",
   "execution_count": null,
   "metadata": {
    "collapsed": false
   },
   "outputs": [],
   "source": [
    "print \"- Hello world!\"\n",
    "R = \"- Hello you!\\n\"\n",
    "print R*6\n",
    "%history"
   ]
  },
  {
   "cell_type": "markdown",
   "metadata": {
    "slideshow": {
     "slide_type": "subslide"
    }
   },
   "source": [
    "## Utilisation d'un IDE (Environnement de développement intégré)\n",
    "\n",
    "Un grand nombre d'IDE sont disponibles pour Python (cf. [la revue wikipedia](https://en.wikipedia.org/wiki/Comparison_of_integrated_development_environments#Python) et la [la revue wiki.python.org](https://wiki.python.org/moin/IntegratedDevelopmentEnvironments)).\n",
    "\n",
    "Citons simplement :\n",
    "- [**IDLE**](https://docs.python.org/2/library/idle.html) : l'IDE par défaut de Python.\n",
    "- [**Spyder**](https://github.com/spyder-ide/spyder) : l'IDE qui sera utilisé pour certains exercices de ce cours."
   ]
  },
  {
   "cell_type": "markdown",
   "metadata": {
    "slideshow": {
     "slide_type": "slide"
    }
   },
   "source": [
    "# Application du langage Python\n",
    "\n",
    "## Exemples d'applications courantes\n",
    "\n",
    "Python est un langage complet, utilisable dans un grand nombre de domaines:\n",
    "\n",
    "- bittorrent - téléchargement\n",
    "- dropbox - partage de fichiers\n",
    "- openstack - gestionnaire de cloud\n",
    "- yum - installeur de paquets redhat, centos\n",
    "- moinmoin - wiki\n",
    "- trac - gestion de versions, bugs, wiki\n",
    "- civilization IV - jeu de stratégie\n",
    "- django - framework web\n",
    "- zope - CMS, serveur d'applications web\n",
    "- softimage - modelage et rendu 3D\n",
    "- maya - modelage et rendu 3D\n",
    "- paint shop pro - éditeur d'images\n",
    "- gimp - éditeur d'images\n",
    "- inkscape - éditeur de graphiques vectoriels\n",
    "- reddit - réseau social, communauté\n",
    "- yahoo groups - forums\n",
    "- youtube - streaming vidéo\n",
    "\n",
    "Plus d'exemples sur [wikipedia](https://en.wikipedia.org/wiki/List_of_Python_software)\n"
   ]
  },
  {
   "cell_type": "markdown",
   "metadata": {
    "slideshow": {
     "slide_type": "subslide"
    }
   },
   "source": [
    "## Intérêt pour les sciences\n",
    "\n",
    "Pour un usage scientifique, Python est intéressant à plusieurs titres. En effet, il est capable de réaliser de manière automatique et efficace un certain nombre de tâches qui sont le quotidien des scientifiques :\n",
    "- Manipuler et traiter des données de simulations ou d'expériences\n",
    "- Visualiser des résultats\n",
    "- Communiquer ses résultats sous la forme de données numériques formatées, de figures ou d'animations\n",
    "\n",
    "Dans le domaine du **calcul scientifique**, Python est particulièrement riche en fonctionnalités grâce à la contribution importante de la communauté des mathématiques et du calcul à travers le projet [SciPy](http://www.scipy.org/)."
   ]
  },
  {
   "cell_type": "markdown",
   "metadata": {
    "slideshow": {
     "slide_type": "subslide"
    }
   },
   "source": [
    "## Le Python scientifique\n",
    "\n",
    "#### 1. Développement de code de simulation\n",
    "\n",
    "Bien que généralement moins performant que les langages compilés (C, C++ ou Fortran), Python est particulièrement intéressant et agréable à programmer dans les phases de développement pour tester rapidement de nouvelles méthodes."
   ]
  },
  {
   "cell_type": "markdown",
   "metadata": {
    "slideshow": {
     "slide_type": "fragment"
    }
   },
   "source": [
    "#### 2. Traitement de données\n",
    "\n",
    "- langage de haut niveau produisant du code agréable à lire (par opposition à excel, par exemple...)\n",
    "- nombreux modules spécialisés (algèbre, statistique, traitement d'images, etc.)\n",
    "- le concept assez novateur des **notebooks iPython** qui combinent de l'exécution de code, du texte formaté, des formules mathématiques (via LaTeX), des tracés et du contenu média"
   ]
  },
  {
   "cell_type": "markdown",
   "metadata": {
    "slideshow": {
     "slide_type": "fragment"
    }
   },
   "source": [
    "#### 3. Tracés graphiques (avec Matplotlib) :\n",
    "- tracés 1D, 2D voire 3D\n",
    "- animations"
   ]
  },
  {
   "cell_type": "markdown",
   "metadata": {
    "slideshow": {
     "slide_type": "subslide"
    }
   },
   "source": [
    "- On dispose ainsi d'un outil très complet et performant qui représente une alternative sérieuse aux outils commerciaux tels que Matlab, Maple, Mathematica, etc.\n",
    "- SciPy fournit une excellente référence pour les applications scientifiques de Python dans [ce document](http://www.scipy-lectures.org/index.html)."
   ]
  },
  {
   "cell_type": "markdown",
   "metadata": {
    "slideshow": {
     "slide_type": "fragment"
    }
   },
   "source": [
    "### Les principaux paquets dédiés au Python scientifique :\n",
    "\n",
    "- [NumPy](http://www.numpy.org): calcul numérique, opérations mathématiques sur tableaux et matrices de grandes dimensions\n",
    "- [SciPy](https://www.scipy.org): ensemble de logiciels pour scientifiques: traitement de signal, d'images, algèbre lineaire, etc...\n",
    "- [Sympy](http://sympy.org): mathématiques symboliques\n",
    "- [Matplotlib](http://matplotlib.org): tracer et visualiser des données sous forme graphique, à la matlab ou mathematica\n",
    "- [BioPython](http://biopython.org): problèmes de biologie: génomique, modélisation moléculaire, etc...\n",
    "- [SAGE](http://www.sagemath.org): suite de librairies et logiciels de mathématiques\n"
   ]
  },
  {
   "cell_type": "markdown",
   "metadata": {
    "slideshow": {
     "slide_type": "fragment"
    }
   },
   "source": [
    "### Migrer de MATLAB vers Python ?\n",
    "\n",
    "- Une discussion intéressante : [Python vs Matlab](http://www.pyzo.org/python_vs_matlab.html)\n",
    "- Un guide de migration : [Numpy for Matlab users: guide](https://docs.scipy.org/doc/numpy-dev/user/numpy-for-matlab-users.html)\n",
    "- Une table de conversion de la syntaxe : [NumPy for MATLAB users: syntax](http://mathesaurus.sourceforge.net/matlab-numpy.html)"
   ]
  },
  {
   "cell_type": "markdown",
   "metadata": {
    "slideshow": {
     "slide_type": "slide"
    }
   },
   "source": [
    "# Documentation\n",
    "\n",
    "- Officielle :\n",
    "  - [L'index](https://www.python.org/doc/)\n",
    "  - [La FAQ](https://docs.python.org/faq/)\n",
    "  - [La librairie standard](https://docs.python.org/2/library/index.html)\n",
    "  - [Des tutoriels](https://docs.python.org/2/tutorial/index.html)\n",
    "- [Stackoverflow](https://stackoverflow.com/) : questions / réponses"
   ]
  }
 ],
 "metadata": {
  "celltoolbar": "Slideshow",
  "kernelspec": {
   "display_name": "Python 2",
   "language": "python",
   "name": "python2"
  },
  "language_info": {
   "codemirror_mode": {
    "name": "ipython",
    "version": 2
   },
   "file_extension": ".py",
   "mimetype": "text/x-python",
   "name": "python",
   "nbconvert_exporter": "python",
   "pygments_lexer": "ipython2",
   "version": "2.7.10"
  }
 },
 "nbformat": 4,
 "nbformat_minor": 0
}
