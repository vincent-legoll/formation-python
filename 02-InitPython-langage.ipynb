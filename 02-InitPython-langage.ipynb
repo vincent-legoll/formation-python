{
 "cells": [
  {
   "cell_type": "markdown",
   "metadata": {
    "slideshow": {
     "slide_type": "slide"
    }
   },
   "source": [
    "\n",
    " ![](fig/python-logo.png)\n",
    "\n",
    "\n",
    "\n",
    "# Introduction à la Programmation Python\n",
    "***\n",
    "\n",
    "## Le langage [2/2]\n",
    "- Opérateurs\n",
    "- Structures de contrôle\n",
    "- Fonctions\n",
    "- Exceptions\n",
    "- Modules\n",
    "- Bonnes pratiques\n",
    "\n",
    "***\n",
    "\n",
    "Formation permanente du CNRS, Délégation Alsace\n",
    "\n",
    "Novembre 2015\n",
    "\n",
    "***\n",
    "\n",
    "**Auteurs :**\n",
    "- Vincent Legoll ([vincent.legoll@idgrilles.fr](mailto: vincent.legoll@idgrilles.fr))\n",
    "- Matthieu Boileau ([matthieu.boileau@math.unistra.fr](mailto: matthieu.boileau@math.unistra.fr))"
   ]
  },
  {
   "cell_type": "markdown",
   "metadata": {
    "slideshow": {
     "slide_type": "slide"
    }
   },
   "source": [
    "# Opérateurs\n",
    "\n",
    "## Arithmétiques\n",
    "\n",
    "    +, -, *, /, //, %, **\n",
    "    "
   ]
  },
  {
   "cell_type": "markdown",
   "metadata": {
    "slideshow": {
     "slide_type": "fragment"
    }
   },
   "source": [
    "### Particularités de la division :"
   ]
  },
  {
   "cell_type": "code",
   "execution_count": null,
   "metadata": {
    "collapsed": false
   },
   "outputs": [],
   "source": [
    "print 16/3  # Quotien de la division euclidienne (produit un entier)\n",
    "print 16%3  # Reste de la division euclidienne (produit un entier)\n",
    "print 16./3  # Division (produit un réel)\n",
    "print 16.//3  # Quotien de la division (produit un réel)\n",
    "print 16.%3   # Reste de la division ou modulo (produit un réél)"
   ]
  },
  {
   "cell_type": "markdown",
   "metadata": {
    "slideshow": {
     "slide_type": "fragment"
    }
   },
   "source": [
    "### Puissance :"
   ]
  },
  {
   "cell_type": "code",
   "execution_count": null,
   "metadata": {
    "collapsed": false
   },
   "outputs": [],
   "source": [
    "print 2**10"
   ]
  },
  {
   "cell_type": "markdown",
   "metadata": {
    "slideshow": {
     "slide_type": "subslide"
    }
   },
   "source": [
    "## Logiques (retournent une valeur booléenne)\n",
    "\n",
    "    and, or, not\n"
   ]
  },
  {
   "cell_type": "code",
   "execution_count": null,
   "metadata": {
    "collapsed": false
   },
   "outputs": [],
   "source": [
    "print True or False\n",
    "print True and False\n",
    "print not True\n",
    "print not False\n",
    "print not []\n",
    "print not (1, 2, 3)"
   ]
  },
  {
   "cell_type": "markdown",
   "metadata": {},
   "source": [
    "Attention, ce sont des opérateurs \"court-circuit\" :"
   ]
  },
  {
   "cell_type": "code",
   "execution_count": null,
   "metadata": {
    "collapsed": true
   },
   "outputs": [],
   "source": [
    "a = True\n",
    "b = False and a  # b vaut False sans que a soit évalué\n",
    "c = True or a    # c vaut True, sans que a soit évalué"
   ]
  },
  {
   "cell_type": "markdown",
   "metadata": {
    "slideshow": {
     "slide_type": "subslide"
    }
   },
   "source": [
    "## Comparaison\n",
    "\n",
    "    ==, is, !=, is not, >, >=, <, <=\n",
    "    \n",
    "L'exécution de ces opérateurs retourne une valeur booléenne."
   ]
  },
  {
   "cell_type": "code",
   "execution_count": null,
   "metadata": {
    "collapsed": false
   },
   "outputs": [],
   "source": [
    "print 2 == 2\n",
    "print 2 != 2\n",
    "print type(2) is int"
   ]
  },
  {
   "cell_type": "markdown",
   "metadata": {
    "slideshow": {
     "slide_type": "fragment"
    }
   },
   "source": [
    "Attention, l'égalité de valeur n'implique pas forcément que l'identité des objets comparés est la même."
   ]
  },
  {
   "cell_type": "code",
   "execution_count": null,
   "metadata": {
    "collapsed": false
   },
   "outputs": [],
   "source": [
    "a = []\n",
    "b = []\n",
    "c = a\n",
    "\n",
    "print a == b # comparaison de valeur\n",
    "print a is b # test d'identité"
   ]
  },
  {
   "cell_type": "markdown",
   "metadata": {
    "slideshow": {
     "slide_type": "fragment"
    }
   },
   "source": [
    "Mais des variables différentes peuvent se référer au même objet."
   ]
  },
  {
   "cell_type": "code",
   "execution_count": null,
   "metadata": {
    "collapsed": false
   },
   "outputs": [],
   "source": [
    "print a == c # comparaison de valeur\n",
    "print a is c # test d'identité"
   ]
  },
  {
   "cell_type": "markdown",
   "metadata": {
    "slideshow": {
     "slide_type": "subslide"
    }
   },
   "source": [
    "## bits à bits *(bitwise)*\n",
    "\n",
    "    |, ^, &, <<, >>, ~\n",
    "\n",
    "Ces opérateurs permettent de manipuler individuellement les bits d'un entier.\n",
    "\n",
    "Ce sont des opérations bas-niveau, souvent utilisées pour piloter directement du matériel, pour implémenter des protocoles de communication binaires (par exemple réseau ou disque).\n",
    "\n",
    "L'utilisation d'entiers comme ensemble de bits permet des encodages de données très compacts, un booléen (True, False) ne prendrait qu'un bit en mémoire, c'est a dire que l'on peut encoder 64 booléens dans un entier.\n",
    "\n",
    "Description sur https://wiki.python.org/moin/BitwiseOperators"
   ]
  },
  {
   "cell_type": "code",
   "execution_count": null,
   "metadata": {
    "collapsed": false
   },
   "outputs": [],
   "source": [
    "val = 67 # = 1 + 2 + 64 = 2**0 + 2**1 + 2**6\n",
    "\n",
    "mask = 1 << 0 # On veut récupérer le 1er bit\n",
    "print 'le 1er  bit vaut', (val & mask) >> 0\n",
    "\n",
    "mask = 1 << 1 # On veut récupérer le 2ème bit\n",
    "print 'le 2ème bit vaut', (val & mask) >> 1\n",
    "\n",
    "mask = 1 << 2 # On veut récupérer le 3ème bit\n",
    "print 'le 3ème bit vaut', (val & mask) >> 2\n",
    "\n",
    "mask = 1 << 6 # On veut récupérer le 7ème bit\n",
    "print 'le 7ème bit vaut', (val & mask) >> 6\n",
    "\n",
    "# Si on positionne le 4ème bit a 1 (on rajoute 2**3 = 8)\n",
    "newval = val | (1 << 3)\n",
    "print newval\n",
    "\n",
    "# Si on positionne le 6ème bit a 0 (on soustrait 2**7 = 64)\n",
    "print newval & ~(1 << 6)\n"
   ]
  },
  {
   "cell_type": "markdown",
   "metadata": {},
   "source": [
    "> **Exercice :** Retournez une chaîne de caractères représentant le nombre contenu dans ``var`` écrit en notation binaire.\n",
    "> Par exemple:\n",
    ">\n",
    ">    5 -> '101'<BR>\n",
    ">    6 -> '110'<BR>\n",
    ">    7 -> '111'<BR>"
   ]
  },
  {
   "cell_type": "code",
   "execution_count": null,
   "metadata": {
    "collapsed": false
   },
   "outputs": [],
   "source": [
    "var = 7\n",
    "# votre code ici"
   ]
  },
  {
   "cell_type": "markdown",
   "metadata": {
    "slideshow": {
     "slide_type": "subslide"
    }
   },
   "source": [
    "## Assignation\n",
    "\n",
    "    += -= /="
   ]
  },
  {
   "cell_type": "code",
   "execution_count": null,
   "metadata": {
    "collapsed": false
   },
   "outputs": [],
   "source": [
    "a = 4\n",
    "a += 1  # <=> a = a + 1\n",
    "print a"
   ]
  },
  {
   "cell_type": "markdown",
   "metadata": {
    "slideshow": {
     "slide_type": "subslide"
    }
   },
   "source": [
    "## Compatibilité de type, coercition de type\n",
    "\n",
    "Python effectue certaines conversions implicites, quand cela ne perd pas d'information (par ex. de entier court vers entier long)."
   ]
  },
  {
   "cell_type": "code",
   "execution_count": null,
   "metadata": {
    "collapsed": false
   },
   "outputs": [],
   "source": [
    "print 1 + 1L\n",
    "print 1.0 + 2 + 3L + 4j"
   ]
  },
  {
   "cell_type": "markdown",
   "metadata": {},
   "source": [
    "Mais dans d'autres cas, la conversion doit être explicite."
   ]
  },
  {
   "cell_type": "code",
   "execution_count": null,
   "metadata": {
    "collapsed": false
   },
   "outputs": [],
   "source": [
    "print 1 + '1'"
   ]
  },
  {
   "cell_type": "markdown",
   "metadata": {},
   "source": [
    "> **Exercice**:\n",
    "> 1. Corrigez le code de la cellule ci dessus, afin d'afficher la chaine '11'\n",
    "> 2. Corrigez le code de la cellule ci dessus, afin d'afficher le nombre 2\n",
    "> 3. Corrigez le code de la cellule ci dessus, afin d'afficher le nombre 11"
   ]
  },
  {
   "cell_type": "markdown",
   "metadata": {
    "slideshow": {
     "slide_type": "subslide"
    }
   },
   "source": [
    "## Priorité des opérateurs\n",
    "\n",
    "Les opérateurs ont en python des priorités classiques.\n",
    "\n",
    "Par exemple, dans l'ordre:\n",
    "- puissance : **\n",
    "- multiplication, division : * et /\n",
    "- addition, soustraction : + et -\n",
    "\n",
    "etc...\n",
    "\n",
    "Utilisez des parenthèses quand cela aide a la lisibilité et à la clarté.\n",
    "\n",
    "Une priorité explicitée avec des parenthèses est souvent plus facile à relire que s'il n'y en a pas et qu'il faut se remémorer les règles.\n",
    "\n",
    "Pour plus d'informations, voir [ici](https://docs.python.org/2/reference/expressions.html)"
   ]
  },
  {
   "cell_type": "markdown",
   "metadata": {
    "slideshow": {
     "slide_type": "slide"
    }
   },
   "source": [
    "# Structures de contrôle\n",
    "\n",
    "- La mise en page comme syntaxe\n",
    "- ``pass``\n",
    "- tests conditionels : ``if/elif/else``\n",
    "- boucles\n",
    "\t* ``for elt in liste``\n",
    "    * ``for idx in range(len(liste))``\n",
    "\t* ``while``\n",
    "\t* ``break``\n",
    "\t* ``continue``"
   ]
  },
  {
   "cell_type": "markdown",
   "metadata": {
    "slideshow": {
     "slide_type": "slide"
    }
   },
   "source": [
    "## La mise en page comme syntaxe\n",
    "\n",
    "- La mise en page est importante en python, c'est une différence majeure avec les autres langages (Java, C++, etc.)\n",
    "- Python utilise l'indentation du code avec des caractères blancs (TAB ou ESPACE) plutôt que des mots clés (begin/end en pascal) ou des symboles ({} en java et C++). Cela permet de rendre le code plus compact.\n",
    "- Elle va servir a délimiter des blocs de code sur lesquels les structures de contrôle comme les boucles ou les tests de conditions vont s'appliquer.\n",
    "- De toute façon, dans les autres langages, on indente aussi le code pour l'aspect visuel et la lisibilité.\n",
    "- L'indentation faisant partie de la syntaxe du langage, il faut y préter une grande attention, et être rigoureux quant au mélange de caractères blancs TAB et ESPACE. Car cela peut conduire à des erreurs à l'exécution voire des comportements erratiques.\n",
    "- Dans un programme python, la durée de vie d'une variable est celle du bloc qui contient sa première assignation."
   ]
  },
  {
   "cell_type": "markdown",
   "metadata": {
    "slideshow": {
     "slide_type": "slide"
    }
   },
   "source": [
    "# ``Pass``\n",
    "\n",
    "En cas de besoin d'un bloc de code qui ne fait rien, on utilise le mot clé ``pass`` (équivalent à NOP ou NO-OP)"
   ]
  },
  {
   "cell_type": "code",
   "execution_count": null,
   "metadata": {
    "collapsed": false
   },
   "outputs": [],
   "source": [
    "# Par exemple : une boucle infinie\n",
    "condition = True\n",
    "while condition:\n",
    "    pass"
   ]
  },
  {
   "cell_type": "markdown",
   "metadata": {
    "slideshow": {
     "slide_type": "slide"
    }
   },
   "source": [
    "## Tests conditionnels\n",
    "\n",
    "Les instructions ``if/elif/else`` permettent d'exécuter des blocs d'instructions en fonction de conditions : \n",
    "\n",
    "    if <test1>:\n",
    "        <bloc d'instructions 1>\n",
    "    elif <test2>:\n",
    "        <bloc d'instructions 2>\n",
    "    else:\n",
    "        <bloc d'instructions 3>\n",
    "  \n",
    "  Pour les connaisseurs ``elif`` est similaire au ``switch`` en C et C++..."
   ]
  },
  {
   "cell_type": "code",
   "execution_count": null,
   "metadata": {
    "collapsed": false
   },
   "outputs": [],
   "source": [
    "# Pour cet exemple, on itère sur les éléments d'un tuple (cf. boucle for plus loin)\n",
    "for position in 2, 9, 3, 1, 8:\n",
    "    if position == 1:\n",
    "        print position, \"Or\"\n",
    "    elif position == 2:\n",
    "        print position, \"Argent\"\n",
    "    elif position == 3:\n",
    "        print position, \"Bronze\"\n",
    "    else:\n",
    "        print position, \"Vestiaires\""
   ]
  },
  {
   "cell_type": "code",
   "execution_count": null,
   "metadata": {
    "collapsed": false,
    "slideshow": {
     "slide_type": "subslide"
    }
   },
   "outputs": [],
   "source": [
    "taille = 1.90\n",
    "if taille >= 1.70: # La taille moyenne en France\n",
    "    print 'grand'\n",
    "else:\n",
    "    print 'petit'"
   ]
  },
  {
   "cell_type": "markdown",
   "metadata": {},
   "source": [
    "> **Exercice** : éditez la cellule pour y mettre votre taille et exécutez-la pour savoir si vous êtes grand ou petit."
   ]
  },
  {
   "cell_type": "markdown",
   "metadata": {
    "slideshow": {
     "slide_type": "slide"
    }
   },
   "source": [
    "# Boucles\n",
    "\n",
    "Les boucles sont les structures de contrôle permettant de répéter l'exécution d'un bloc de code plusieurs fois."
   ]
  },
  {
   "cell_type": "markdown",
   "metadata": {},
   "source": [
    "La plus simple est la boucle de type ``while`` :\n",
    "\n",
    "    while <condition>:\n",
    "        <bloc d'instructions 1>\n",
    "    <bloc d'instructions 2>"
   ]
  },
  {
   "cell_type": "code",
   "execution_count": null,
   "metadata": {
    "collapsed": false
   },
   "outputs": [],
   "source": [
    "compteur = 3\n",
    "while compteur > 0:\n",
    "    print 'le compteur vaut :', compteur\n",
    "    compteur = compteur - 1\n",
    "print 'le compteur a été décrémenté 3 fois et vaut maintenant', compteur"
   ]
  },
  {
   "cell_type": "markdown",
   "metadata": {},
   "source": [
    "Un boucle plus complexe : ``for/in``\n",
    "\n",
    "    for <variable> in <iterable>:\n",
    "        <bloc d'instructions 1>\n",
    "    <bloc d'instructions 2>\n",
    "\n",
    "A chaque tour de boucle, la variable va référencer un des éléménts de l'<iterable>."
   ]
  },
  {
   "cell_type": "code",
   "execution_count": null,
   "metadata": {
    "collapsed": false
   },
   "outputs": [],
   "source": [
    "invites = ('Aline', 'Bernard', 'Céline', 'Dédé')\n",
    "for personne in invites:\n",
    "    print 'Bonjour %s, bienvenue à la soirée de gala !' % personne\n",
    "print 'Maintenant tout le monde à été bien acceuilli...'"
   ]
  },
  {
   "cell_type": "code",
   "execution_count": null,
   "metadata": {
    "collapsed": false
   },
   "outputs": [],
   "source": [
    "# Maintenant, si nous avons reçu des réponses à notre invitation et stocké ceux qui ne peuvent pas venir\n",
    "invites = {'Aline': True, 'Bernard': False, 'Céline': True, 'Dédé': True}\n",
    "for (personne, presence) in invites.iteritems():\n",
    "    if presence:\n",
    "        print 'Bonjour %s, bienvenue à la soirée de gala !' % personne\n",
    "    else:\n",
    "        print 'Malheureusement, %s ne sera pas avec nous ce soir.' % personne\n",
    "print 'Maintenant tout le monde à été bien acceuilli ou excusé...'"
   ]
  },
  {
   "cell_type": "markdown",
   "metadata": {},
   "source": [
    "Si nous voulons itérer sur une liste mais avons besoin des indexes liés a chaque élément, nous utilisons une combinaison de ``range()`` et ``len()``."
   ]
  },
  {
   "cell_type": "code",
   "execution_count": null,
   "metadata": {
    "collapsed": false
   },
   "outputs": [],
   "source": [
    "nombres = [2, 4, 8, 6, 8, 1, 0]\n",
    "for idx in range(len(nombres)):\n",
    "    nombres[idx] **= 2\n",
    "# les carrés\n",
    "print nombres"
   ]
  },
  {
   "cell_type": "markdown",
   "metadata": {},
   "source": [
    "Il existe une forme raccourcie pour faire ce genre de choses, la fonction interne ``enumerate()``"
   ]
  },
  {
   "cell_type": "code",
   "execution_count": null,
   "metadata": {
    "collapsed": false
   },
   "outputs": [],
   "source": [
    "nombres = [2, 4, 8, 6, 8, 1, 0]\n",
    "for (idx, item) in enumerate(nombres):\n",
    "    nombres[idx] = item % 2\n",
    "# Les impairs\n",
    "print nombres"
   ]
  },
  {
   "cell_type": "markdown",
   "metadata": {},
   "source": [
    "Il est possible d'arrêter prématurément une boucle grâce a l'instruction ``break``."
   ]
  },
  {
   "cell_type": "code",
   "execution_count": null,
   "metadata": {
    "collapsed": false
   },
   "outputs": [],
   "source": [
    "compteur = 3\n",
    "while True: # Notre boucle infinie\n",
    "    compteur -= 1\n",
    "    print 'Dans la boucle infinie!'\n",
    "    if compteur > 0:\n",
    "        print 'on contine'\n",
    "    else:\n",
    "        break # On sort\n",
    "print \"c'était pas vraiment infini...\""
   ]
  },
  {
   "cell_type": "markdown",
   "metadata": {},
   "source": [
    "En cas d'imbrication de plusieurs boucles ``break`` sort de la plus imbriquée."
   ]
  },
  {
   "cell_type": "markdown",
   "metadata": {},
   "source": [
    "Si, dans une boucle, on veut passer immédiatement à l'itération suivante, on utilise l'instruction ``continue``."
   ]
  },
  {
   "cell_type": "code",
   "execution_count": null,
   "metadata": {
    "collapsed": false
   },
   "outputs": [],
   "source": [
    "compteur = 9\n",
    "while compteur > 0:\n",
    "    compteur -= 1\n",
    "    if compteur % 2:\n",
    "        compteur /= 2\n",
    "        print 'impair, on divise :', compteur\n",
    "        continue\n",
    "    print \"pair, RAS\"\n",
    "print \"c'est fini...\""
   ]
  },
  {
   "cell_type": "markdown",
   "metadata": {
    "slideshow": {
     "slide_type": "slide"
    }
   },
   "source": [
    "# Fonctions\n",
    "\n",
    "En python, il n'y a pas de notion de sous-routine. Les procédures sont gérées par les objets de type fonctions, avec ou sans valeur de retour.\n",
    "\n",
    "    def <nom fonction>(arg1, arg2, ...):\n",
    "        <bloc d'instructions>\n",
    "        return <valeur>  # Instruction optionnelle\n",
    "        \n",
    "On distingue :\n",
    "- les fonctions avec ``return`` des fonctions sans ``return``\n",
    "- les fonctions sans arguments (``()`` est vide) des fonctions avec arguments ``(arg1, arg2, ...)``"
   ]
  },
  {
   "cell_type": "markdown",
   "metadata": {
    "slideshow": {
     "slide_type": "slide"
    }
   },
   "source": [
    "## Fonctions sans arguments\n",
    "\n",
    "### Fonction sans ``return``"
   ]
  },
  {
   "cell_type": "code",
   "execution_count": null,
   "metadata": {
    "collapsed": false
   },
   "outputs": [],
   "source": [
    "def func():  # Definition de la fonction\n",
    "    print \"You know what?\"\n",
    "    \n",
    "func()  # 1er Appel de la fonction\n",
    "retour = func()  # 2eme appel\n",
    "print \"retour:\", retour  # Le retour est None"
   ]
  },
  {
   "cell_type": "markdown",
   "metadata": {
    "slideshow": {
     "slide_type": "subslide"
    }
   },
   "source": [
    "### Fonction avec ``return``"
   ]
  },
  {
   "cell_type": "code",
   "execution_count": null,
   "metadata": {
    "collapsed": false
   },
   "outputs": [],
   "source": [
    "def func():  # Definition de la fonction\n",
    "    return \"I'm happy\"  # La fonction retourne une chaine de caractère\n",
    "\n",
    "print \"1er appel:\"\n",
    "func()  # 1er Appel de la fonction : ne produit rien\n",
    "print \"2eme appel:\"\n",
    "retour = func()  # Le retour du 2eme appel est stocké\n",
    "print \"retour:\", retour"
   ]
  },
  {
   "cell_type": "markdown",
   "metadata": {
    "slideshow": {
     "slide_type": "slide"
    }
   },
   "source": [
    "## Fonctions avec arguments"
   ]
  },
  {
   "cell_type": "code",
   "execution_count": null,
   "metadata": {
    "collapsed": false
   },
   "outputs": [],
   "source": [
    "def somme(x, y):\n",
    "    return x + y\n",
    "\n",
    "somme(4, 7)"
   ]
  },
  {
   "cell_type": "markdown",
   "metadata": {
    "slideshow": {
     "slide_type": "subslide"
    }
   },
   "source": [
    "### Utilisation de valeurs par défaut"
   ]
  },
  {
   "cell_type": "code",
   "execution_count": null,
   "metadata": {
    "collapsed": false
   },
   "outputs": [],
   "source": [
    "def somme(x, y=1):\n",
    "    return x + y\n",
    "\n",
    "print somme(4)  # Si la valeur de y n'est pas spécifiée, y prend la valeur par défaut (1 ici)"
   ]
  },
  {
   "cell_type": "markdown",
   "metadata": {},
   "source": [
    "**Note :** Les arguments ayant une valeur par défaut doivent être placés en dernier."
   ]
  },
  {
   "cell_type": "markdown",
   "metadata": {
    "slideshow": {
     "slide_type": "fragment"
    }
   },
   "source": [
    "- Utilisation des arguments par leur nom"
   ]
  },
  {
   "cell_type": "code",
   "execution_count": null,
   "metadata": {
    "collapsed": false
   },
   "outputs": [],
   "source": [
    "print somme(y=7, x=4) # L'ordre peut être changé lors de l'appel si les arguments sont nommés"
   ]
  },
  {
   "cell_type": "markdown",
   "metadata": {
    "slideshow": {
     "slide_type": "subslide"
    }
   },
   "source": [
    "### Capture d'arguments non définis"
   ]
  },
  {
   "cell_type": "code",
   "execution_count": null,
   "metadata": {
    "collapsed": false,
    "scrolled": true
   },
   "outputs": [],
   "source": [
    "def func(*args):\n",
    "    print args  # args est un tuple dont les éléments sont les arguments passés lors de l'appel \n",
    "    \n",
    "func(\"n'importe\", \"quelle\", \"sequence\")  "
   ]
  },
  {
   "cell_type": "code",
   "execution_count": null,
   "metadata": {
    "collapsed": false,
    "slideshow": {
     "slide_type": "-"
    }
   },
   "outputs": [],
   "source": [
    "def func(**kwargs):\n",
    "    print kwargs  # kwargs est un dictionnaire dont les éléments sont les arguments nommés passés lors de l'appel\n",
    "    \n",
    "func(x=1, y=2, couleur='rouge', epaisseur=2)  "
   ]
  },
  {
   "cell_type": "markdown",
   "metadata": {
    "slideshow": {
     "slide_type": "subslide"
    }
   },
   "source": [
    "On peut combiner ce type d'arguments pour une même fonction :"
   ]
  },
  {
   "cell_type": "code",
   "execution_count": null,
   "metadata": {
    "collapsed": false
   },
   "outputs": [],
   "source": [
    "def func(n, *args, **kwargs):  # cet ordre est important\n",
    "    print \"n =\", n\n",
    "    print \"args =\", args\n",
    "    print \"kwargs =\", kwargs\n",
    "    \n",
    "func(2, 'spam', 'egg', x=1, y=2, couleur='rouge', epaisseur=2)  "
   ]
  },
  {
   "cell_type": "markdown",
   "metadata": {
    "slideshow": {
     "slide_type": "slide"
    }
   },
   "source": [
    "## Espace de nommage et portée des variables\n",
    "\n",
    "### 1er exemple\n",
    "\n",
    "On veut illustrer le mécanisme de l'espace de nommage des variables :\n"
   ]
  },
  {
   "cell_type": "code",
   "execution_count": null,
   "metadata": {
    "collapsed": false
   },
   "outputs": [],
   "source": [
    "def func1():\n",
    "    a = 1\n",
    "    print \"Dans func1(), a =\", a\n",
    "\n",
    "def func2():\n",
    "    print \"Dans func2(), a =\", a\n",
    "    \n",
    "a = 2\n",
    "func1()\n",
    "func2()"
   ]
  },
  {
   "cell_type": "markdown",
   "metadata": {},
   "source": [
    "Cet exemple montre qu'à l'intérieur d'une fonction :\n",
    "1. une variable prend sa la valeur locale si cette variable est affectée localement (cas de ``func1()``)\n",
    "2. Si la variable n'est pas affectée localement, Python va chercher sa valeur dans l'espace englobant (cas de ``func2()``)."
   ]
  },
  {
   "cell_type": "markdown",
   "metadata": {
    "slideshow": {
     "slide_type": "subslide"
    }
   },
   "source": [
    "### 2ème exemple\n",
    "\n",
    "On veut illustrer le mécanisme de portée des variables au sein des fonctions :"
   ]
  },
  {
   "cell_type": "code",
   "execution_count": null,
   "metadata": {
    "collapsed": false
   },
   "outputs": [],
   "source": [
    "def func():\n",
    "    a = 1\n",
    "    je_suis = 'Dans func():'\n",
    "    print je_suis, \"a =\", a\n",
    "    \n",
    "a = 2\n",
    "func()\n",
    "print \"Après func(): a =\", a"
   ]
  },
  {
   "cell_type": "markdown",
   "metadata": {},
   "source": [
    "- Cet exemple montre qu'à l'intérieur des fonctions les variables possèdent une valeur locale uniquement.\n",
    "- Les variables locales sont détruites à la sortie de la fonction. ``je_suis`` n'existe pas hors de la fonction donc Python renvoie une erreur si on référence ``je_suis`` depuis l'espace englobant :"
   ]
  },
  {
   "cell_type": "code",
   "execution_count": null,
   "metadata": {
    "collapsed": false
   },
   "outputs": [],
   "source": [
    "print je_suis"
   ]
  },
  {
   "cell_type": "markdown",
   "metadata": {
    "slideshow": {
     "slide_type": "slide"
    }
   },
   "source": [
    "## Fonctions *built-in*\n",
    "\n",
    "Ces fonctions sont disponibles dans tous les contextes. La liste complète est détaillée [ici](https://docs.python.org/2/library/functions.html#). En voici une sélection :\n",
    "\n",
    "- ``dir(obj)`` : retourne une liste des toutes les méthodes et attributs de l'objet ``obj``\n",
    "- ``dir()`` : retourne une liste de tous les objets du contexte courant\n",
    "- ``eval(expr)`` : analyse et exécute la chaîne de caractère ``expr``"
   ]
  },
  {
   "cell_type": "code",
   "execution_count": null,
   "metadata": {
    "collapsed": false
   },
   "outputs": [],
   "source": [
    "a = 1\n",
    "b = eval('a + 1')\n",
    "print \"b est\", type(b), \"et vaut\", b"
   ]
  },
  {
   "cell_type": "markdown",
   "metadata": {},
   "source": [
    "- ``globals()`` : retourne un dictionnaire des variables présentes dans le contexte global\n",
    "- ``help(obj)`` : affiche l’aide au sujet d’un objet\n",
    "- ``help()`` : affiche l’aide générale (s'appelle depuis l'interpréteur interactif)"
   ]
  },
  {
   "cell_type": "markdown",
   "metadata": {
    "slideshow": {
     "slide_type": "subslide"
    }
   },
   "source": [
    "- ``input(prompt)`` : retourne une chaîne de caractère lu dans la console après le message ``prompt``"
   ]
  },
  {
   "cell_type": "code",
   "execution_count": null,
   "metadata": {
    "collapsed": false
   },
   "outputs": [],
   "source": [
    "reponse = raw_input('Ca va ? ')  # Seule la variant raw_input() fonctionne dans un notebook\n",
    "print(reponse)"
   ]
  },
  {
   "cell_type": "markdown",
   "metadata": {},
   "source": [
    "- ``len(seq)`` : retourne la longueur de la séquence ``seq``\n",
    "- ``locals()`` : idem ``globals()`` mais avec le contexte local\n",
    "- ``max(seq)`` : retourne le maximum de la séquence ``seq`` \n",
    "- ``min(seq)`` : retourne le minimum de la séquence ``seq``"
   ]
  },
  {
   "cell_type": "markdown",
   "metadata": {
    "slideshow": {
     "slide_type": "subslide"
    }
   },
   "source": [
    "- ``range([start=0], stop[, step=1])`` : retourne une liste d'entiers allant de ``start`` à ``stop - 1`` par pas de ``step``"
   ]
  },
  {
   "cell_type": "code",
   "execution_count": null,
   "metadata": {
    "collapsed": false
   },
   "outputs": [],
   "source": [
    "print list(range(10))\n",
    "print list(range(0, 10, 2))"
   ]
  },
  {
   "cell_type": "markdown",
   "metadata": {
    "slideshow": {
     "slide_type": "-"
    }
   },
   "source": [
    "- ``repr(obj)``: affiche la représentation de l'objet ``obj``.\n",
    "- ``reversed(seq)`` : retourne l’inverse de la séquence ``seq``\n",
    "- ``sorted(seq)`` : retourne une séquence triée à partir de la séquence ``seq``\n",
    "- ``sum(seq)`` : retourne la somme des éléments de la séquence ``seq```"
   ]
  },
  {
   "cell_type": "markdown",
   "metadata": {
    "slideshow": {
     "slide_type": "subslide"
    }
   },
   "source": [
    "> **Exercice 1**\n",
    "\n",
    "> Ecrire une fonction ``stat()`` qui prend en argument une liste d'entiers et retourne un tuple contenant :\n",
    "> - la somme\n",
    "> - le minimum\n",
    "> - le maximum\n",
    ">\n",
    "> des éléments de la liste"
   ]
  },
  {
   "cell_type": "code",
   "execution_count": null,
   "metadata": {
    "collapsed": false
   },
   "outputs": [],
   "source": [
    "def stat(votre, signature):\n",
    "    # votre fonction\n",
    "    pass"
   ]
  },
  {
   "cell_type": "markdown",
   "metadata": {},
   "source": [
    "[Solution](exos/stat.py)"
   ]
  },
  {
   "cell_type": "markdown",
   "metadata": {
    "slideshow": {
     "slide_type": "subslide"
    }
   },
   "source": [
    "> **Exercice 2** :\n",
    "> \n",
    "> Ecrire une fonction qui prend en paramètre une liste de prix hors taxes (HT) et qui retourne la somme toutes taxes comprises (TTC)."
   ]
  },
  {
   "cell_type": "code",
   "execution_count": null,
   "metadata": {
    "collapsed": false,
    "slideshow": {
     "slide_type": "-"
    }
   },
   "outputs": [],
   "source": [
    "def ttc():\n",
    "    # Votre fonction\n",
    "    pass"
   ]
  },
  {
   "cell_type": "markdown",
   "metadata": {},
   "source": [
    "[Solution](exos/ttc.py)"
   ]
  },
  {
   "cell_type": "markdown",
   "metadata": {
    "slideshow": {
     "slide_type": "slide"
    }
   },
   "source": [
    "# Exceptions\n",
    "\n",
    "Pour signaler des conditions particulières (erreurs, évenements exceptionnels) Python utilise un mécanisme de levée d'exceptions."
   ]
  },
  {
   "cell_type": "code",
   "execution_count": null,
   "metadata": {
    "collapsed": false
   },
   "outputs": [],
   "source": [
    "raise Exception"
   ]
  },
  {
   "cell_type": "markdown",
   "metadata": {
    "slideshow": {
     "slide_type": "fragment"
    }
   },
   "source": [
    "Ces exceptions peuvent embarquer des données permettant d'identifier l'évenement producteur."
   ]
  },
  {
   "cell_type": "code",
   "execution_count": null,
   "metadata": {
    "collapsed": true
   },
   "outputs": [],
   "source": [
    "raise Exception('Y a une erreur')"
   ]
  },
  {
   "cell_type": "markdown",
   "metadata": {
    "slideshow": {
     "slide_type": "fragment"
    }
   },
   "source": [
    "La levée d'une exception interrompt le cours normal de l'exécution du code et \"remonte\" jusqu'à l'endroit le plus proche gérant cette exception.\n",
    "\n",
    "Pour intercepter les exceptions cela se déclare avec :\n",
    "\n",
    "    try:\n",
    "        <bloc de code 1>\n",
    "    except Exception:\n",
    "        <bloc de code 2>"
   ]
  },
  {
   "cell_type": "code",
   "execution_count": null,
   "metadata": {
    "collapsed": false
   },
   "outputs": [],
   "source": [
    "try:\n",
    "    print 'ici ca fonctionne'\n",
    "    # ici on détecte une condition exceptionnelle, on signale une exception\n",
    "    raise Exception('y a un bug')\n",
    "    print 'on arrive jamais ici'\n",
    "except Exception as e:\n",
    "    # L'excécution continue ici\n",
    "    print \"ici on peut essayer de corriger le problème lié à l'exception : Exception('%s')\" % str(e)\n",
    "print \"et après, cela continue ici\""
   ]
  },
  {
   "cell_type": "markdown",
   "metadata": {},
   "source": [
    "Pour plus d'informations sur les exceptions, se référer [ici](https://docs.python.org/2/tutorial/errors.html)"
   ]
  },
  {
   "cell_type": "markdown",
   "metadata": {
    "slideshow": {
     "slide_type": "slide"
    }
   },
   "source": [
    "# Les gestionnaires de contexte\n",
    "\n",
    "Pour faciliter la gestion des obligations liées à la libération de ressources, la fermeture de fichiers, etc... Python propose des gestionnaires de contexte introduits par le mot clé ``with``."
   ]
  },
  {
   "cell_type": "code",
   "execution_count": null,
   "metadata": {
    "collapsed": false
   },
   "outputs": [],
   "source": [
    "with open('interessant.txt', 'r') as fichier_ouvert:\n",
    "    # Dans ce bloc de code le fichier est ouvert en lecture, on peut l'utiliser normalement\n",
    "    print fichier_ouvert.read()\n",
    "# Ici, on est sorti du bloc et du contexte, le fichier à été fermé automatiquement\n",
    "print fichier_ouvert.read()"
   ]
  },
  {
   "cell_type": "markdown",
   "metadata": {},
   "source": [
    "Il est possible de créer de nouveaux gestionnaires de contexte, pour que vos objets puissent être utilisés avec ``with`` et que les ressources associées soient correctement libérées.\n",
    "\n",
    "Pour plus d'informations sur la création de gestionnaires de contexte, voir [ici](https://docs.python.org/2/library/stdtypes.html#context-manager-types)"
   ]
  },
  {
   "cell_type": "markdown",
   "metadata": {
    "slideshow": {
     "slide_type": "slide"
    }
   },
   "source": [
    "# Modules\n",
    "\n",
    "Python fournit un système de modularisation du code qui permet de bien organiser un projet contenant de grandes quatités de code.\n",
    "\n",
    "L'instruction ``import`` permet d'accéder à du code situé dans d'autres fichiers. Cela inclut les nombreux modules de la librairie standard, tout comme vos propres fichiers contenant du code.\n",
    "\n",
    "Les fonctions et variables du module sont accessibles de la manière suivante :\n",
    "\n",
    "    <nom du module>.<nom de variable>\n",
    "    <nom du module>.<nom de fonction>([<parametre1>][, <parametre N>]...)\n",
    "    "
   ]
  },
  {
   "cell_type": "code",
   "execution_count": null,
   "metadata": {
    "collapsed": false
   },
   "outputs": [],
   "source": [
    "# Pour utiliser les fonctions mathématiques du module 'math'\n",
    "import math\n",
    "\n",
    "pi = math.pi\n",
    "print '%.2f' % pi\n",
    "print '%.2f' % math.sin(pi)"
   ]
  },
  {
   "cell_type": "markdown",
   "metadata": {
    "slideshow": {
     "slide_type": "subslide"
    }
   },
   "source": [
    "Pour créer vos propres modules, il suffit de placer votre code dans un fichier avec l'extension '.py', et ensuite vous pourrez l'importer comme module dans le reste de votre code.\n",
    "\n",
    "Il y a un fichier mon_module.py a coté du notebook, il contient du code définissant ``ma_variable`` et ``ma_fonction()``."
   ]
  },
  {
   "cell_type": "code",
   "execution_count": null,
   "metadata": {
    "collapsed": false
   },
   "outputs": [],
   "source": [
    "import mon_module\n",
    "print mon_module.ma_variable\n",
    "mon_module.ma_fonction()"
   ]
  },
  {
   "cell_type": "markdown",
   "metadata": {},
   "source": [
    "> **Exercice** : Modifiez le code contenu dans le fichier [mon_module.py](http://localhost:8888/edit/mon_module.py), et reexécutez la cellule ci-dessus."
   ]
  },
  {
   "cell_type": "markdown",
   "metadata": {},
   "source": [
    "Pour plus d'informations sur les modules, allez voir [ici](https://docs.python.org/2/tutorial/modules.html)."
   ]
  },
  {
   "cell_type": "markdown",
   "metadata": {
    "slideshow": {
     "slide_type": "slide"
    }
   },
   "source": [
    "# Bonnes Pratiques\n",
    "\n",
    "###  Commentez votre code\n",
    "- pour le rendre plus lisible\n",
    "- pour préciser l'utilité des fonctions, méthodes, classes, modules, etc...\n",
    "- pour expliquer les parties complexes"
   ]
  },
  {
   "cell_type": "markdown",
   "metadata": {},
   "source": [
    "Habituez vous assez tôt aux conventions préconisées dans la communauté des utilisateurs de python.\n",
    "\n",
    "Cela vous aidera a relire plus facilement le code écrit par d'autres, et aidera les autres a relire le votre. Collaborez !\n",
    "\n",
    "Elles sont décrites dans le document [PEP n°8](https://www.python.org/dev/peps/pep-0008/) (Python Enhancement Proposal), et un outil (c.f. plus bas: pep8) permet d'automatiser la vérification du respect de ces règles."
   ]
  },
  {
   "cell_type": "markdown",
   "metadata": {
    "slideshow": {
     "slide_type": "subslide"
    }
   },
   "source": [
    "### Autres pistes\n",
    "\n",
    "- Environnements de développement intégrés:\n",
    "  * [pydev](http://pydev.org)\n",
    "  * [spyder](http://pythonhosted.org/spyder)\n",
    "  * [eclipse](http://www.eclipse.org)\n",
    "- Gestionnaires de versions :\n",
    "  * [git](http://www.git-scm.com)\n",
    "  * [github](https://github.com)\n",
    "  * [subversion](https://subversion.apache.org)\n",
    "- Visualisation de différences :\n",
    "  * [meld](http://meldmerge.org)\n",
    "- Vérificateurs de code source\n",
    "  * [pep8](https://pypi.python.org/pypi/pep8)\n",
    "  * [pylint](http://www.pylint.org)\n",
    "- Documentation dans le code\n",
    "  * [docstring](https://www.python.org/dev/peps/pep-0257)\n",
    "- Automatisation de tests, environnements virtuels :\n",
    "  * [unittest](https://docs.python.org/3/library/unittest.html)\n",
    "  * [doctest](https://docs.python.org/2/library/doctest.html)\n",
    "  * [nose](http://readthedocs.org/docs/nose)\n",
    "  * [py.test](http://pytest.org)\n",
    "  * [tox](http://tox.testrun.org)\n",
    "  * [virtualenv](https://virtualenv.pypa.io)"
   ]
  },
  {
   "cell_type": "markdown",
   "metadata": {
    "slideshow": {
     "slide_type": "slide"
    }
   },
   "source": [
    "# Python 3.x\n",
    "\n",
    "C'est le futur, et incidemment aussi le présent voire même le passé...<BR>\n",
    "Quoi: une version qui casse la compatibilité ascendante<BR>\n",
    "Pourquoi: nettoyage de parties bancales du langage accumulées au fil du temps<BR>\n",
    "Python 3.0 est sorti en 2008<BR>\n",
    "Python 2.7 est sorti en 2010: EOL, fin de vie, (mal-)heureusement longue à venir<BR>\n",
    "Un certain nombre de choses n'a pas encore été converti pour fonctionner avec<BR>\n",
    "Les distributions linux majeures proposent encore la 2.X par défaut, mais la 3 est disponible en parallèle<BR>\n",
    "Une partie, la moins disruptive, à quand même été portée vers 2.6 et 2.7 pour aider à la transition<BR>\n",
    "Les tutoriels, et autres documentations disponibles sur internet ne sont pas forcément migrées<BR>\n",
    "Pour un nouveau projet, recherchez un peu avant de vous lancer, pour vérifier les besoins en librairies externes<BR>\n",
    "Les implémentations tierces d'interpréteurs python peuvent avoir des degrés variables de compatibilité avec les versions 3.x<BR>\n",
    "Les modules comportant des extentions en C sont plus compliquées à porter<BR>\n",
    "\n",
    "Différences notables :\n",
    "- Division entière\n",
    "- print()\n",
    "- variable à durée de vie plus stricte (boucles, etc...)\n",
    "- toutes les classes sont du nouveau type\n",
    "- Les chaînes de caractères sont en UTF-8 par défaut & encoding(s) & byte() interface\n",
    "- stdlib changée\n",
    "- range() vs xrange()\n",
    "- outils 2to3.py, 3to2, python-modernize, futurize\n",
    "- pylint --py3k\n",
    "- module de compatibilité: six \n",
    "\n",
    "Plus d'informations sur le [wiki officiel](https://wiki.python.org/moin/Python2orPython3)."
   ]
  },
  {
   "cell_type": "markdown",
   "metadata": {
    "slideshow": {
     "slide_type": "slide"
    }
   },
   "source": [
    "![](fig/python-logo.png)\n",
    "\n",
    "# Philosophie du langage : le zen de Python\n",
    "\n",
    "[PEP 20](https://www.python.org/dev/peps/pep-0020)"
   ]
  },
  {
   "cell_type": "code",
   "execution_count": null,
   "metadata": {
    "collapsed": false,
    "scrolled": true
   },
   "outputs": [],
   "source": [
    "import this"
   ]
  }
 ],
 "metadata": {
  "celltoolbar": "Slideshow",
  "kernelspec": {
   "display_name": "Python 2",
   "language": "python",
   "name": "python2"
  },
  "language_info": {
   "codemirror_mode": {
    "name": "ipython",
    "version": 2
   },
   "file_extension": ".py",
   "mimetype": "text/x-python",
   "name": "python",
   "nbconvert_exporter": "python",
   "pygments_lexer": "ipython2",
   "version": "2.7.10"
  }
 },
 "nbformat": 4,
 "nbformat_minor": 0
}
