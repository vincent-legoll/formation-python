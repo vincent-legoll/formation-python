{
 "cells": [
  {
   "cell_type": "markdown",
   "metadata": {
    "slideshow": {
     "slide_type": "slide"
    }
   },
   "source": [
    "\n",
    " ![](fig/python-logo.png)\n",
    "\n",
    "\n",
    "\n",
    "# Introduction à la Programmation Python\n",
    "***\n",
    "\n",
    "## Le langage\n",
    "\n",
    "***\n",
    "\n",
    "Formation permanente du CNRS, Délégation Alsace\n",
    "\n",
    "Novembre 2015\n",
    "\n",
    "***\n",
    "\n",
    "**Auteurs :**\n",
    "- Vincent Legoll ([vincent.legoll@idgrilles.fr](mailto: vincent.legoll@idgrilles.fr))\n",
    "- Matthieu Boileau ([matthieu.boileau@math.unistra.fr](mailto: matthieu.boileau@math.unistra.fr))"
   ]
  },
  {
   "cell_type": "markdown",
   "metadata": {
    "slideshow": {
     "slide_type": "slide"
    }
   },
   "source": [
    "# Langage python et sa syntaxe\n",
    "\n",
    "### variables\n",
    "\n",
    "- assignation: '='\n",
    "- pas de type: c'est la donnée qui est typée, pas la variable qui la référence\n",
    "\n",
    "- copie ou référence\n",
    "- modifiable ou non\n",
    "- del()"
   ]
  },
  {
   "cell_type": "markdown",
   "metadata": {
    "slideshow": {
     "slide_type": "slide"
    }
   },
   "source": [
    "Python 3.x\n",
    "----------\n",
    "\n",
    "C'est le futur, et incidemment aussi le présent voire même le passé...<BR>\n",
    "Quoi: une version qui casse la compatibilité ascendante<BR>\n",
    "Pourquoi: nettoyage de parties bancales du langage accumulées au fil du temps<BR>\n",
    "Python 3.0 est sorti en 2008<BR>\n",
    "Python 2.7 est sorti en 2010: EOL, fin de vie, (mal-)heureusement longue à venir<BR>\n",
    "Un certain nombre de choses n'a pas encore été converti pour fonctionner avec<BR>\n",
    "Les distributions linux majeures proposent encore la 2.X par défaut, mais la 3 est disponible en parallèle<BR>\n",
    "Une partie, la moins disruptive, à quand même été portée vers 2.6 et 2.7 pour aider à la transition<BR>\n",
    "Les tutoriels, et autres documentations disponibles sur internet ne sont pas forcément migrées<BR>\n",
    "Pour un nouveau projet, recherchez un peu avant de vous lancer, pour vérifier les besoins en librairies externes<BR>\n",
    "Les implémentations tierces d'interpréteurs python peuvent avoir des degrés variables de compatibilité avec les versions 3.x<BR>\n",
    "Les modules comportant des extentions en C sont plus compliquées à porter<BR>\n",
    "\n",
    "Différences notables :\n",
    "- Division entière\n",
    "- print()\n",
    "- toutes les classes sont du nouveau type\n",
    "- Les chaînes de caractères sont en UTF-8 par défaut & encoding(s) & byte() interface\n",
    "- stdlib changée\n",
    "- range() vs xrange()\n",
    "- outils 2to3.py, 3to2, python-modernize, futurize\n",
    "- pylint --py3k\n",
    "- module de compatibilité: six \n",
    "\n",
    "Plus d'informations sur le [wiki officiel](https://wiki.python.org/moin/Python2orPython3)."
   ]
  },
  {
   "cell_type": "markdown",
   "metadata": {
    "slideshow": {
     "slide_type": "slide"
    }
   },
   "source": [
    "# Types de données\n",
    "\n",
    "#### Types de base\n",
    "\n",
    "- ``None``\n",
    "\n",
    "- Booléens <!-- MB -->\n",
    "\n",
    "- Numériques <!-- MB -->\n",
    "    - entiers\n",
    "    - flottants\n",
    "    - complexes\n",
    "\n",
    "#### Séquences <!-- MB -->\n",
    "\n",
    "- Chaines de caractères ``str()`` <!-- VL -->\n",
    "- listes ``list()``\n",
    "- tuples ``tuple()``\n",
    "<!--\n",
    "* mutabilité, chaines\n",
    "* indexing, negative indexes, slicing\n",
    "-->\n",
    "\n",
    "#### Conteneurs\n",
    "\n",
    "- Dictionnaires ``dict()`` <!-- VL -->\n",
    "- Ensembles ``set()`` <!-- VL -->\n",
    "- Littéraux ``{}``, méthodes ``dict()``, etc...\n",
    "\n",
    "#### Fichiers : ``open()``, ``close(``) <!-- MB -->\n"
   ]
  },
  {
   "cell_type": "markdown",
   "metadata": {
    "slideshow": {
     "slide_type": "slide"
    }
   },
   "source": [
    "# Types de base\n",
    "\n",
    "### Booléens\n",
    "\n",
    "    True, False"
   ]
  },
  {
   "cell_type": "code",
   "execution_count": null,
   "metadata": {
    "collapsed": false
   },
   "outputs": [],
   "source": [
    "I_am_OK = True\n",
    "if I_am_OK:\n",
    "    print \"OK\"\n",
    "else:\n",
    "    print \"KO\"\n",
    "print type(I_am_OK)"
   ]
  },
  {
   "cell_type": "markdown",
   "metadata": {},
   "source": [
    "> **Exercice :** Essayez avec ``I_am_OK = False`` puis réexecuter la cellule"
   ]
  },
  {
   "cell_type": "markdown",
   "metadata": {
    "slideshow": {
     "slide_type": "subslide"
    }
   },
   "source": [
    "# Types de base\n",
    "\n",
    "\n",
    "### Numériques <!-- MB -->\n",
    "\n",
    "#### entiers"
   ]
  },
  {
   "cell_type": "code",
   "execution_count": null,
   "metadata": {
    "collapsed": false
   },
   "outputs": [],
   "source": [
    "entier = 141592653589\n",
    "print type(entier)"
   ]
  },
  {
   "cell_type": "markdown",
   "metadata": {},
   "source": [
    "#### entiers longs (précision illimitée)"
   ]
  },
  {
   "cell_type": "code",
   "execution_count": null,
   "metadata": {
    "collapsed": false
   },
   "outputs": [],
   "source": [
    "entier = 1415926535897932384626433832795028841971\n",
    "print type(entier)"
   ]
  },
  {
   "cell_type": "code",
   "execution_count": null,
   "metadata": {
    "collapsed": false
   },
   "outputs": [],
   "source": [
    "entier = 1L\n",
    "print type(entier)"
   ]
  },
  {
   "cell_type": "markdown",
   "metadata": {
    "slideshow": {
     "slide_type": "subslide"
    }
   },
   "source": [
    "# Types de base\n",
    "\n",
    "\n",
    "### Numériques\n",
    "\n",
    "#### Conversion automatique des entiers\n",
    "\n",
    "La conversion de ``int`` à ``long`` dépend du système :"
   ]
  },
  {
   "cell_type": "code",
   "execution_count": null,
   "metadata": {
    "collapsed": false
   },
   "outputs": [],
   "source": [
    "import sys\n",
    "print \"Le plus grand entier court vaut\", sys.maxint\n",
    "entier = sys.maxint\n",
    "print entier, \"est\", type(entier)"
   ]
  },
  {
   "cell_type": "markdown",
   "metadata": {},
   "source": [
    "Si on dépasse la valeur de l'entier le plus long, python convertit automatiquement le type :"
   ]
  },
  {
   "cell_type": "code",
   "execution_count": null,
   "metadata": {
    "collapsed": false
   },
   "outputs": [],
   "source": [
    "entier = sys.maxint + 1  \n",
    "print entier, \"est\", type(entier)"
   ]
  },
  {
   "cell_type": "markdown",
   "metadata": {
    "slideshow": {
     "slide_type": "subslide"
    }
   },
   "source": [
    "# Types de base\n",
    "\n",
    "\n",
    "### Numériques\n",
    "\n",
    "#### Flottants (réels 64 bits)\n",
    "\n",
    "La précision est limitée à la 16ème décimale :"
   ]
  },
  {
   "cell_type": "code",
   "execution_count": null,
   "metadata": {
    "collapsed": false
   },
   "outputs": [],
   "source": [
    "pi_approx = 3.1415926535897932\n",
    "print type(pi_approx)\n",
    "print \"{:.16f}\".format(pi_approx)"
   ]
  },
  {
   "cell_type": "markdown",
   "metadata": {},
   "source": [
    "Attention ! Python autorise un affichage plus long que la précision des flottants mais tous les chiffres après le 16ème chiffre significatif sont faux :"
   ]
  },
  {
   "cell_type": "code",
   "execution_count": null,
   "metadata": {
    "collapsed": false
   },
   "outputs": [],
   "source": [
    "print \"{:.20f}\".format(pi_approx)"
   ]
  },
  {
   "cell_type": "markdown",
   "metadata": {
    "slideshow": {
     "slide_type": "subslide"
    }
   },
   "source": [
    "# Types de base\n",
    "\n",
    "\n",
    "### Numériques\n",
    "\n",
    "#### complexes\n",
    "\n"
   ]
  },
  {
   "cell_type": "code",
   "execution_count": null,
   "metadata": {
    "collapsed": false
   },
   "outputs": [],
   "source": [
    "complexe = 1 + 2j\n",
    "print \"représentation :\", complexe\n",
    "print type(complexe)"
   ]
  },
  {
   "cell_type": "markdown",
   "metadata": {
    "slideshow": {
     "slide_type": "slide"
    }
   },
   "source": [
    "# Séquences\n",
    "\n",
    "Les séquences sont des conteneurs où les objets contenus sont ordonnés.\n",
    "\n",
    "Python supporte trois types de séquences :\n",
    "- les chaînes de caractères\n",
    "- les listes\n",
    "- les tuples"
   ]
  },
  {
   "cell_type": "markdown",
   "metadata": {
    "slideshow": {
     "slide_type": "subslide"
    }
   },
   "source": [
    "# Séquences\n",
    "\n",
    "chaines <!-- VL -->\n",
    "-------\n",
    "\n",
    "- multiligne, \"'\" vs '\"'\n",
    "- formattage : %\n"
   ]
  },
  {
   "cell_type": "markdown",
   "metadata": {
    "slideshow": {
     "slide_type": "subslide"
    }
   },
   "source": [
    "# Séquences\n",
    "\n",
    "## Listes <!-- MB -->\n",
    "\n",
    "Une liste est délimitée par des crochets ``[]`` :"
   ]
  },
  {
   "cell_type": "code",
   "execution_count": null,
   "metadata": {
    "collapsed": false
   },
   "outputs": [],
   "source": [
    "L = ['egg', 'spam', 'spam', 'spam', 'bacon']\n",
    "print L, \"est\", type(L)"
   ]
  },
  {
   "cell_type": "markdown",
   "metadata": {
    "slideshow": {
     "slide_type": "fragment"
    }
   },
   "source": [
    "On accède à ses éléments par un indice. Le premier élément est **indicé 0.**"
   ]
  },
  {
   "cell_type": "code",
   "execution_count": null,
   "metadata": {
    "collapsed": false
   },
   "outputs": [],
   "source": [
    "print L[0]"
   ]
  },
  {
   "cell_type": "markdown",
   "metadata": {
    "slideshow": {
     "slide_type": "fragment"
    }
   },
   "source": [
    "Un dépassement d'indice produit une erreur :"
   ]
  },
  {
   "cell_type": "code",
   "execution_count": null,
   "metadata": {
    "collapsed": false
   },
   "outputs": [],
   "source": [
    "print L[10]"
   ]
  },
  {
   "cell_type": "markdown",
   "metadata": {
    "slideshow": {
     "slide_type": "subslide"
    }
   },
   "source": [
    "# Séquences\n",
    "\n",
    "## Listes <!-- MB -->\n",
    "\n",
    "Les listes sont dites *mutables* : je peux modifier la séquence de ces éléments."
   ]
  },
  {
   "cell_type": "markdown",
   "metadata": {
    "slideshow": {
     "slide_type": "fragment"
    }
   },
   "source": [
    "Je remplace le deuxième élément :"
   ]
  },
  {
   "cell_type": "code",
   "execution_count": null,
   "metadata": {
    "collapsed": false
   },
   "outputs": [],
   "source": [
    "L[1] = 'tomatoes'\n",
    "print L"
   ]
  },
  {
   "cell_type": "markdown",
   "metadata": {
    "slideshow": {
     "slide_type": "subslide"
    }
   },
   "source": [
    "# Séquences\n",
    "\n",
    "## Méthodes associées aux listes <!-- MB -->\n",
    "\n",
    "- La longueur d'une liste est donnée par fonction ``len()``\n",
    "- ``L.append()`` : ajouter un élément à la fin\n",
    "- ``L.pop()`` : renvoie le dernier élément et le retire de la liste\n",
    "- ``L.sort()`` : trier\n",
    "- ``L.revert()`` : inverser\n",
    "- ``L.index(elem)``: renvoie l'indice de l'élément ``elem`` (le 1er rencontré)\n",
    "- \n"
   ]
  },
  {
   "cell_type": "code",
   "execution_count": null,
   "metadata": {
    "collapsed": false
   },
   "outputs": [],
   "source": [
    "print \"len() renvoie:\", len(L)\n",
    "L.append('spam')\n",
    "print \"Après append():\", L\n",
    "print \"pop() renvoie:\", L.pop()\n",
    "print \"Après pop():\", L\n",
    "L.reverse()\n",
    "print \"Après reverse():\", L\n",
    "print \"index() renvoie:\", L.index('egg')\n",
    "L.remove('spam')\n",
    "print \"Après remove:\", L"
   ]
  },
  {
   "cell_type": "markdown",
   "metadata": {
    "slideshow": {
     "slide_type": "fragment"
    }
   },
   "source": [
    "Pour obtenir la liste des méthodes associées aux listes :"
   ]
  },
  {
   "cell_type": "code",
   "execution_count": null,
   "metadata": {
    "collapsed": false
   },
   "outputs": [],
   "source": [
    "help(list)"
   ]
  },
  {
   "cell_type": "markdown",
   "metadata": {
    "slideshow": {
     "slide_type": "slide"
    }
   },
   "source": [
    "# Séquences\n",
    "\n",
    "## Listes <!-- MB -->\n",
    "\n",
    "### Le slicing en Python\n",
    "\n",
    "- Cela consiste à extraire une sous-liste à partir d'une liste (ou plus généralement une sous-séquence)\n",
    "- La syntaxe générale est ``L[i:j:k]``, où ``i``, ``j`` et ``k`` sont des indices (éventuellement négatifs).\n",
    "- La sous-liste sera composée de tous les éléments de l’indice ``i`` jusqu’à l’indice ``j-1``, par pas de ``k``.\n",
    "- Si ``i`` est omis alors il vaut ``0``\n",
    "- Si ``j`` est omis alors il vaut ``len(L)``\n",
    "- Si ``k`` est omis alors il vaut ``1``"
   ]
  },
  {
   "cell_type": "markdown",
   "metadata": {
    "slideshow": {
     "slide_type": "subslide"
    }
   },
   "source": [
    "# Séquences\n",
    "\n",
    "## Listes <!-- MB -->\n",
    "\n",
    "### Le slicing en Python\n",
    "\n",
    "Illustrons ça en créant une liste à partir d'une chaîne de caractères :"
   ]
  },
  {
   "cell_type": "code",
   "execution_count": null,
   "metadata": {
    "collapsed": false,
    "scrolled": true
   },
   "outputs": [],
   "source": [
    "L = \"Dans le Python, tout est bon.\".split()\n",
    "print L"
   ]
  },
  {
   "cell_type": "markdown",
   "metadata": {},
   "source": [
    "Pour commencer, on extrait de la liste ``L`` un nouvel objet liste qui contient tous les éléments de ``L`` <=> copie de liste"
   ]
  },
  {
   "cell_type": "code",
   "execution_count": null,
   "metadata": {
    "collapsed": false
   },
   "outputs": [],
   "source": [
    "print L[0:len(L):1] # Cette notation est inutilement lourde car :\n",
    "print L[:]          # i = 0, j=len(L) et k=1 donc i, j et k peuvent être omis"
   ]
  },
  {
   "cell_type": "markdown",
   "metadata": {
    "slideshow": {
     "slide_type": "subslide"
    }
   },
   "source": [
    "# Séquences\n",
    "\n",
    "## Listes <!-- MB -->\n",
    "\n",
    "### Le slicing en Python\n",
    "\n",
    "J'extraie une sous-liste qui ne contient que les 3 premiers éléments :"
   ]
  },
  {
   "cell_type": "code",
   "execution_count": null,
   "metadata": {
    "collapsed": false
   },
   "outputs": [],
   "source": [
    "print L[0:3:1]  # Notation complète\n",
    "print L[:3:1]  # Le premier indice vaut i=0 donc on peut l'omettre\n",
    "print L[:3]  # Le pas de slicing vaut 0 donc on peut l'omettre"
   ]
  },
  {
   "cell_type": "markdown",
   "metadata": {
    "slideshow": {
     "slide_type": "fragment"
    }
   },
   "source": [
    "J'extraie une sous-liste qui exclut le dernier élément :"
   ]
  },
  {
   "cell_type": "code",
   "execution_count": null,
   "metadata": {
    "collapsed": false
   },
   "outputs": [],
   "source": [
    "print L[0:-1:1]  # Notation complète\n",
    "print L[:-1:1]  # Le premier indice vaut i=0 donc on peut l'omettre\n",
    "print L[:-1]  # Le pas de slicing vaut 0 donc on peut l'omettre"
   ]
  },
  {
   "cell_type": "markdown",
   "metadata": {
    "slideshow": {
     "slide_type": "fragment"
    }
   },
   "source": [
    "J'extraie une sous-liste qui exclut les deux premiers éléments :"
   ]
  },
  {
   "cell_type": "code",
   "execution_count": null,
   "metadata": {
    "collapsed": false
   },
   "outputs": [],
   "source": [
    "print L[3:len(L):1]  # Cette notation est inutilement lourde car :\n",
    "print L[3:]          # j et k peuvent être omis"
   ]
  },
  {
   "cell_type": "markdown",
   "metadata": {
    "slideshow": {
     "slide_type": "subslide"
    }
   },
   "source": [
    "# Séquences\n",
    "\n",
    "## Listes <!-- MB -->\n",
    "\n",
    "### Le slicing en Python\n",
    "\n",
    "**Note :**\n",
    "\n",
    "``L[1]`` n'est pas équivalent à ``L[1:2]``.\n",
    "\n",
    "Illustration :"
   ]
  },
  {
   "cell_type": "code",
   "execution_count": null,
   "metadata": {
    "collapsed": false
   },
   "outputs": [],
   "source": [
    "print L[1]  # Je récupère le deuxième élément de la liste\n",
    "print L[1:2]  # Je récupère une liste composé du seul élément L[1]"
   ]
  },
  {
   "cell_type": "markdown",
   "metadata": {
    "slideshow": {
     "slide_type": "fragment"
    }
   },
   "source": [
    "> **Exercice :** Retourner une liste composée des éléments de ``L`` *en ordre inverse.*"
   ]
  },
  {
   "cell_type": "code",
   "execution_count": null,
   "metadata": {
    "collapsed": false
   },
   "outputs": [],
   "source": [
    "print L\n",
    "# <- votre code ici"
   ]
  },
  {
   "cell_type": "markdown",
   "metadata": {},
   "source": [
    "list()\n",
    "tuple()\n",
    "mutabilité, chaines\n",
    "indexing, negative indexes, slicing"
   ]
  },
  {
   "cell_type": "markdown",
   "metadata": {
    "slideshow": {
     "slide_type": "slide"
    }
   },
   "source": [
    "# Opérateurs <!-- VL -->\n",
    "\n",
    "## bits à bits *(bitwise)*\n",
    "\n",
    "    |, ^, &, <<, >>\n",
    "    \n",
    "Description sur https://wiki.python.org/moin/BitwiseOperators"
   ]
  },
  {
   "cell_type": "markdown",
   "metadata": {
    "slideshow": {
     "slide_type": "subslide"
    }
   },
   "source": [
    "# Opérateurs\n",
    "\n",
    "## Arithmétiques\n",
    "\n",
    "    +, -, *, /, //, %, **\n",
    "    "
   ]
  },
  {
   "cell_type": "markdown",
   "metadata": {
    "slideshow": {
     "slide_type": "fragment"
    }
   },
   "source": [
    "### Particularités de la division :"
   ]
  },
  {
   "cell_type": "code",
   "execution_count": null,
   "metadata": {
    "collapsed": false
   },
   "outputs": [],
   "source": [
    "print 16/3  # Quotien de la division euclidienne (produit un entier)\n",
    "print 16%3  # Reste de la division euclidienne (produit un entier)\n",
    "print 16./3  # Division (produit un réel)\n",
    "print 16.//3  # Quotien de la division (produit un réel)\n",
    "print 16.%3   # Reste de la division ou modulo (produit un réél)"
   ]
  },
  {
   "cell_type": "markdown",
   "metadata": {
    "slideshow": {
     "slide_type": "fragment"
    }
   },
   "source": [
    "### Puissance :"
   ]
  },
  {
   "cell_type": "code",
   "execution_count": null,
   "metadata": {
    "collapsed": false
   },
   "outputs": [],
   "source": [
    "print 2**10"
   ]
  },
  {
   "cell_type": "markdown",
   "metadata": {
    "slideshow": {
     "slide_type": "subslide"
    }
   },
   "source": [
    "# Opérateurs\n",
    "\n",
    "## Logiques (opèrent sur des booléens)\n",
    "\n",
    "    and, or, not\n"
   ]
  },
  {
   "cell_type": "code",
   "execution_count": null,
   "metadata": {
    "collapsed": false
   },
   "outputs": [],
   "source": [
    "print True or False\n",
    "print True and False\n",
    "print not True\n",
    "print not False"
   ]
  },
  {
   "cell_type": "markdown",
   "metadata": {},
   "source": [
    "Attention, ce sont des opérateurs \"court-circuit\" :"
   ]
  },
  {
   "cell_type": "code",
   "execution_count": null,
   "metadata": {
    "collapsed": true
   },
   "outputs": [],
   "source": [
    "a = True\n",
    "b = False and a  # b vaut False sans que a soit évalué\n",
    "c = True or a    # c vaut True, sans que a soit évalué"
   ]
  },
  {
   "cell_type": "markdown",
   "metadata": {
    "slideshow": {
     "slide_type": "fragment"
    }
   },
   "source": [
    "## Comparaison\n",
    "\n",
    "    ==, is, !=, is not, >, >=, <, <="
   ]
  },
  {
   "cell_type": "code",
   "execution_count": null,
   "metadata": {
    "collapsed": false
   },
   "outputs": [],
   "source": [
    "print 2 == 2\n",
    "print 2 != 2\n",
    "print type(2) is int"
   ]
  },
  {
   "cell_type": "markdown",
   "metadata": {
    "slideshow": {
     "slide_type": "subslide"
    }
   },
   "source": [
    "# Opérateurs <!-- MB -->\n",
    "\n",
    "### Assignation\n",
    "\n",
    "    += -= /="
   ]
  },
  {
   "cell_type": "code",
   "execution_count": null,
   "metadata": {
    "collapsed": false
   },
   "outputs": [],
   "source": [
    "a = 4\n",
    "a += 1  # <=> a = a + 1\n",
    "print a"
   ]
  },
  {
   "cell_type": "markdown",
   "metadata": {
    "slideshow": {
     "slide_type": "subslide"
    }
   },
   "source": [
    "### Compatibilité de type, coercition de type\n",
    "\n",
    "> MB : est-ce qu'on maintient ?\n",
    "\n",
    "      1 + '1' => TypeError: unsupported operand type(s) for +: 'int' and 'str'\n",
    "      str(1) + '1' => '11'\n",
    "      1 + int('1') => 2\n",
    "      int(str(1) + '1') => 11"
   ]
  },
  {
   "cell_type": "markdown",
   "metadata": {},
   "source": [
    "### Priorité des opérateurs\n",
    "<!-- VL -->\n",
    "c.f. doc python"
   ]
  },
  {
   "cell_type": "markdown",
   "metadata": {
    "slideshow": {
     "slide_type": "slide"
    }
   },
   "source": [
    "# Structures de contrôle\n",
    "\n",
    "- pass <!-- VL/MB -->\n",
    "- tests: if / elif / else <!-- MB -->\n",
    "- boucles <!-- VL -->\n",
    "  * for elt in liste\n",
    "  * for idx in range(len(liste))\n",
    "  * while\n",
    "  * break\n",
    "  * continue\n",
    "- fonctions <!-- MB -->\n",
    "  * arguments (*args, **kwargs)\n",
    "  * valeurs par defaut\n",
    "  * namespace (global(), local())\n",
    "- with <!-- VL -->\n",
    "- exceptions, try / catch <!-- VL -->\n",
    "- lambda <!-- VL -->\n",
    "- comprehensions <!-- MB -->\n",
    "- surcharge d'opérateurs"
   ]
  },
  {
   "cell_type": "markdown",
   "metadata": {
    "slideshow": {
     "slide_type": "slide"
    }
   },
   "source": [
    "mise en page <!-- VL -->\n",
    "------------\n",
    "\n",
    "- indentation\n",
    "- blocs de code\n",
    "- caractères blancs (tabs vs spaces)\n",
    "- \":\"\n"
   ]
  },
  {
   "cell_type": "markdown",
   "metadata": {
    "slideshow": {
     "slide_type": "subslide"
    }
   },
   "source": [
    "# Structures de contrôle\n",
    "\n",
    "## Tests conditionnels\n",
    "\n",
    "    if <test1>:\n",
    "        <bloc d'instructions 1>\n",
    "    elif <test2>:\n",
    "        <bloc d'instructions 2>\n",
    "    else:\n",
    "        <bloc d'instructions 3>\n",
    "  \n",
    "  Pour les connaisseurs ``elif`` est similaire au ``switch`` en C et C++..."
   ]
  },
  {
   "cell_type": "code",
   "execution_count": null,
   "metadata": {
    "collapsed": false
   },
   "outputs": [],
   "source": [
    "for position in 2, 9, 3, 1, 8:\n",
    "    if position == 1:\n",
    "        print position, \"Or\"\n",
    "    elif position == 2:\n",
    "        print position, \"Argent\"\n",
    "    elif position == 3:\n",
    "        print position, \"Bronze\"\n",
    "    else:\n",
    "        print position, \"Vestiaires\""
   ]
  },
  {
   "cell_type": "markdown",
   "metadata": {
    "slideshow": {
     "slide_type": "slide"
    }
   },
   "source": [
    "# Fonctions\n",
    "\n",
    "    def <nom fonction>(arg1, arg2, ...):\n",
    "        <bloc d'instructions>\n",
    "        return <valeur>"
   ]
  },
  {
   "cell_type": "markdown",
   "metadata": {
    "slideshow": {
     "slide_type": "fragment"
    }
   },
   "source": [
    "## Fonction sans arguments\n",
    "\n",
    "- Fonction sans ``return``"
   ]
  },
  {
   "cell_type": "code",
   "execution_count": null,
   "metadata": {
    "collapsed": false
   },
   "outputs": [],
   "source": [
    "def func():  # Definition de la fonction\n",
    "    print \"You know what?\"\n",
    "    \n",
    "func()  # 1er Appel de la fonction\n",
    "retour = func()  # 2eme appel\n",
    "print \"retour:\", retour  # Le retour est vide"
   ]
  },
  {
   "cell_type": "markdown",
   "metadata": {
    "slideshow": {
     "slide_type": "subslide"
    }
   },
   "source": [
    "# Fonctions\n",
    "\n",
    "## Fonction sans arguments\n",
    "\n",
    "- Fonction avec ``return``"
   ]
  },
  {
   "cell_type": "code",
   "execution_count": null,
   "metadata": {
    "collapsed": false
   },
   "outputs": [],
   "source": [
    "def func():  # Definition de la fonction\n",
    "    return \"I'm happy\"  # La fonction retourne une chaine de caractère\n",
    "\n",
    "print \"1er appel:\"\n",
    "func()  # 1er Appel de la fonction ne produit rien\n",
    "print \"2eme appel:\"\n",
    "retour = func()  # Le retour du 2eme appel est stocké\n",
    "print \"retour:\", retour"
   ]
  },
  {
   "cell_type": "markdown",
   "metadata": {
    "slideshow": {
     "slide_type": "subslide"
    }
   },
   "source": [
    "# Fonctions\n",
    "\n",
    "## Fonction avec arguments"
   ]
  },
  {
   "cell_type": "code",
   "execution_count": null,
   "metadata": {
    "collapsed": false
   },
   "outputs": [],
   "source": [
    "def somme(x, y):\n",
    "    return x + y\n",
    "\n",
    "somme(4, 7)"
   ]
  },
  {
   "cell_type": "markdown",
   "metadata": {
    "slideshow": {
     "slide_type": "subslide"
    }
   },
   "source": [
    "# Fonctions\n",
    "\n",
    "## Fonction avec arguments\n",
    "\n",
    "- Utilisation de valeurs par défaut\n",
    "- Utillisation des arguments par leur nom"
   ]
  },
  {
   "cell_type": "code",
   "execution_count": null,
   "metadata": {
    "collapsed": false
   },
   "outputs": [],
   "source": [
    "def somme(x, y=1):\n",
    "    return x + y\n",
    "\n",
    "print somme(4)  # Si la valeur de y  n'est pas spécifiée, y prend la valeur par défaut (1 ici)\n",
    "print somme(y=7, x=4) # L'ordre peut être changé si les arguments sont nommés"
   ]
  },
  {
   "cell_type": "markdown",
   "metadata": {
    "slideshow": {
     "slide_type": "subslide"
    }
   },
   "source": [
    "# Fonctions\n",
    "\n",
    "## Fonction avec arguments\n",
    "\n",
    "- Utilisation de valeurs par défaut\n",
    "- Utillisation des arguments par leur nom"
   ]
  },
  {
   "cell_type": "markdown",
   "metadata": {
    "slideshow": {
     "slide_type": "subslide"
    }
   },
   "source": [
    "# Fonctions\n",
    "\n",
    "## La notion d'espace de nommage et de portée des variables\n",
    "\n"
   ]
  },
  {
   "cell_type": "markdown",
   "metadata": {
    "slideshow": {
     "slide_type": "slide"
    }
   },
   "source": [
    "commentaires <!-- VL -->\n",
    "------------\n",
    "\n",
    "- rendre le code plus compréhensible\n",
    "- lisibilité (avec les espaces entre les expressions)\n"
   ]
  },
  {
   "cell_type": "markdown",
   "metadata": {
    "slideshow": {
     "slide_type": "slide"
    }
   },
   "source": [
    "builtins <!-- MB -->\n",
    "--------\n",
    "\n",
    "- print()\n",
    "- str().format()\n",
    "- range()\n",
    "- input()\n",
    "- min(), max()\n",
    "- sorted(), reversed()\n",
    "- zip(), map()\n"
   ]
  },
  {
   "cell_type": "markdown",
   "metadata": {
    "slideshow": {
     "slide_type": "slide"
    }
   },
   "source": [
    "modules <!-- VL -->\n",
    "-------\n",
    "\n",
    "- import\n",
    "- packages\n"
   ]
  },
  {
   "cell_type": "markdown",
   "metadata": {
    "slideshow": {
     "slide_type": "slide"
    }
   },
   "source": [
    "OOP <!-- MB -->\n",
    "---\n",
    "\n",
    "- classes\n",
    "- instances\n",
    "- self\n",
    "- héritage\n",
    "- surcharge\n",
    "- '==' vs id() vs hash()"
   ]
  },
  {
   "cell_type": "markdown",
   "metadata": {
    "slideshow": {
     "slide_type": "slide"
    }
   },
   "source": [
    "stdlib - details\n",
    "----------------\n",
    "\n",
    "- string (find, count, split, join, strip, upper, replace) <!-- VL -->\n",
    "- math (log, sqrt, cos, pi, e) <!-- MB -->\n",
    "- os (listdir, getcwd, getenv, chdir, environ) <!-- VL -->\n",
    "- os.path (exists, getsize, isdir, join) <!-- MB -->\n",
    "- sys (sys.argv, sys.exit, sys.path) <!-- VL -->"
   ]
  },
  {
   "cell_type": "markdown",
   "metadata": {
    "slideshow": {
     "slide_type": "slide"
    }
   },
   "source": [
    "stdlib - à creuser, exercices\n",
    "------------------\n",
    "\n",
    "- re\n",
    "- random\n",
    "- pickle\n",
    "- time, datetime\n",
    "- compression: zlib, etc...\n",
    "- crypto: md5\n",
    "- argparse (+ optparse)\n",
    "- subprocess\n",
    "- réseau: email, urllib\n",
    "- xml, json, hdf5\n",
    "- unittest\n",
    "- debugger: pdb (c.f. spyder)\n",
    "- profiler\n",
    "- formatter\n",
    "- distutils / setup.py (c.f. PyPI)"
   ]
  },
  {
   "cell_type": "markdown",
   "metadata": {
    "slideshow": {
     "slide_type": "slide"
    }
   },
   "source": [
    "plus loin encore\n",
    "----------------\n",
    "\n",
    "- [Python Package Index](https://pypi.python.org/pypi): aka PyPI: 66K packages - \"pip install --user\"\n",
    "- [opencv](http://opencv.org): computer vision - traitement d'images en temps réel et le [module python](https://pypi.python.org/pypi/pyopencv)\n",
    "- [pyopencl](https://github.com/pyopencl/pyopencl): calculs GPGPU\n",
    "- [pycuda](https://pypi.python.org/pypi/pycuda): calculs GPGPU sur matériel NVidia\n",
    "- beaucoup de librairies C, C++ ou autres sont accessibles en python\n",
    "\n"
   ]
  },
  {
   "cell_type": "markdown",
   "metadata": {
    "slideshow": {
     "slide_type": "slide"
    }
   },
   "source": [
    "# Bonnes Pratiques\n",
    "\n",
    "- Environnements de développement intégrés:\n",
    "  * [pydev](http://pydev.org)\n",
    "  * [spyder](http://pythonhosted.org/spyder)\n",
    "  * [eclipse](http://www.eclipse.org)\n",
    "- Gestionnaires de versions :\n",
    "  * [git](http://www.git-scm.com)\n",
    "  * [github](https://github.com)\n",
    "  * [subversion](https://subversion.apache.org)\n",
    "- Visualisation de différences :\n",
    "  * [meld](http://meldmerge.org)\n",
    "- Vérificateurs de code source\n",
    "  * [pep8](https://pypi.python.org/pypi/pep8)\n",
    "  * [pylint](http://www.pylint.org)\n",
    "- Documentation dans le code\n",
    "  * [docstring](https://www.python.org/dev/peps/pep-0257)\n",
    "- Automatisation de tests, environnements virtuels :\n",
    "  * [unittest](https://docs.python.org/3/library/unittest.html)\n",
    "  * [doctest](https://docs.python.org/2/library/doctest.html)\n",
    "  * [nose](http://readthedocs.org/docs/nose)\n",
    "  * [py.test](http://pytest.org)\n",
    "  * [tox](http://tox.testrun.org)\n",
    "  * [virtualenv](https://virtualenv.pypa.io)"
   ]
  },
  {
   "cell_type": "markdown",
   "metadata": {
    "slideshow": {
     "slide_type": "slide"
    }
   },
   "source": [
    "# Exercices\n"
   ]
  },
  {
   "cell_type": "markdown",
   "metadata": {
    "slideshow": {
     "slide_type": "subslide"
    }
   },
   "source": [
    "> **Exercice**\n",
    "> 1. Ecrire une fonction qui prend en paramètre une liste de prix hors taxes (HT) et qui retourne le total toutes taxes comprises (TTC)"
   ]
  },
  {
   "cell_type": "code",
   "execution_count": null,
   "metadata": {
    "collapsed": false,
    "slideshow": {
     "slide_type": "fragment"
    }
   },
   "outputs": [],
   "source": [
    "def ttc(liste):\n",
    "    return sum(liste) * 1.186\n",
    "\n",
    "liste_prix_ht = [12, 56.20, 19.99, 0.40, 100]\n",
    "print \"%.02f\" % ttc(liste_prix_ht)"
   ]
  },
  {
   "cell_type": "markdown",
   "metadata": {},
   "source": [
    "chaines de caractères\n",
    "---------------------\n",
    "<!-- VL -->\n",
    "- majuscules / minuscules: toupper(), tolower(), inverse_maj(), capitalize()\n",
    "- remplace()\n"
   ]
  },
  {
   "cell_type": "markdown",
   "metadata": {},
   "source": [
    "listes <!-- MB -->\n",
    "------\n",
    "\n",
    "- reverse() <!-- VL -->\n",
    "- odd_indices([1,2,3,4,5]) => [2,4] <!-- VL -->\n",
    "- odds([1,2,3,4,5]) => [1,3,5] <!-- VL -->\n"
   ]
  },
  {
   "cell_type": "markdown",
   "metadata": {},
   "source": [
    "maps\n",
    "----\n",
    "\n",
    "- animal_count(['coq', 'chien', 'coq', 'chat', 'chat', 'vache', 'coq', 'chien']) =>\n",
    "  {'coq': 3, 'chien': 2, 'chat': 2, 'vache': 1}"
   ]
  },
  {
   "cell_type": "markdown",
   "metadata": {},
   "source": [
    "sys.argv\n",
    "--------\n"
   ]
  },
  {
   "cell_type": "markdown",
   "metadata": {},
   "source": [
    "fichiers\n",
    "--------\n",
    "\n",
    "- animal_count_from_file(fn) => {'dodo': 1, 'dragon': 1}\n"
   ]
  },
  {
   "cell_type": "markdown",
   "metadata": {},
   "source": [
    "dates\n",
    "-----\n",
    "\n",
    "- le jour J du mois M est le combientième jour de l'année A\n",
    "- le premier samedi du mois M de l'année A\n",
    "- quel jour J est l'avant-dernier jeudi du mois M\n",
    "- combien de jours reste-t-il jusqu'à mon prochain anniversaire\n",
    "\n"
   ]
  },
  {
   "cell_type": "markdown",
   "metadata": {},
   "source": [
    "algorithmes\n",
    "-----------\n",
    "\n",
    "- sorting"
   ]
  },
  {
   "cell_type": "markdown",
   "metadata": {},
   "source": [
    "# Questions pièges\n",
    "\n",
    "- id(1) != id('1') != id(1.0)\n",
    "- [] += 1 vs .append()\n",
    "- http://docs.python-guide.org/en/latest/writing/gotchas"
   ]
  },
  {
   "cell_type": "markdown",
   "metadata": {},
   "source": [
    "# References\n",
    "\n",
    "- pydev\n",
    "- docs.python.org\n",
    "- wikipedia\n",
    "- http://stackoverflow.com\n",
    "- https://fr.wikipedia.org/wiki/Python_(langage)\n",
    "- https://wiki.python.org/moin/Python2orPython3\n",
    "- scipy.org"
   ]
  }
 ],
 "metadata": {
  "celltoolbar": "Slideshow",
  "kernelspec": {
   "display_name": "Python 2",
   "language": "python",
   "name": "python2"
  },
  "language_info": {
   "codemirror_mode": {
    "name": "ipython",
    "version": 2
   },
   "file_extension": ".py",
   "mimetype": "text/x-python",
   "name": "python",
   "nbconvert_exporter": "python",
   "pygments_lexer": "ipython2",
   "version": "2.7.10"
  }
 },
 "nbformat": 4,
 "nbformat_minor": 0
}
