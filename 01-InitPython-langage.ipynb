{
 "cells": [
  {
   "cell_type": "markdown",
   "metadata": {
    "slideshow": {
     "slide_type": "slide"
    }
   },
   "source": [
    "\n",
    " ![](fig/python-logo.png)\n",
    "\n",
    "\n",
    "\n",
    "# Introduction à la Programmation Python\n",
    "***\n",
    "\n",
    "## Le langage\n",
    "\n",
    "***\n",
    "\n",
    "Formation permanente du CNRS, Délégation Alsace\n",
    "\n",
    "Novembre 2015\n",
    "\n",
    "***\n",
    "\n",
    "**Auteurs :**\n",
    "- Vincent Legoll ([vincent.legoll@idgrilles.fr](mailto: vincent.legoll@idgrilles.fr))\n",
    "- Matthieu Boileau ([matthieu.boileau@math.unistra.fr](mailto: matthieu.boileau@math.unistra.fr))"
   ]
  },
  {
   "cell_type": "markdown",
   "metadata": {
    "slideshow": {
     "slide_type": "slide"
    }
   },
   "source": [
    "# Langage Python et sa Syntaxe\n",
    "\n",
    "### variables\n",
    "\n",
    "- assignation: '='\n",
    "- pas de type: c'est la donnée qui est typée, pas la variable qui la référence\n",
    "\n",
    "- copie ou référence\n",
    "- modifiable ou non\n",
    "- del()"
   ]
  },
  {
   "cell_type": "markdown",
   "metadata": {
    "slideshow": {
     "slide_type": "slide"
    }
   },
   "source": [
    "Python 3.x\n",
    "----------\n",
    "\n",
    "C'est le futur, et incidemment aussi le présent voire même le passé...<BR>\n",
    "Quoi: une version qui casse la compatibilité ascendante<BR>\n",
    "Pourquoi: nettoyage de parties bancales du langage accumulées au fil du temps<BR>\n",
    "Python 3.0 est sorti en 2008<BR>\n",
    "Python 2.7 est sorti en 2010: EOL, fin de vie, (mal-)heureusement longue à venir<BR>\n",
    "Un certain nombre de choses n'a pas encore été converti pour fonctionner avec<BR>\n",
    "Les distributions linux majeures proposent encore la 2.X par défaut, mais la 3 est disponible en parallèle<BR>\n",
    "Une partie, la moins disruptive, à quand même été portée vers 2.6 et 2.7 pour aider à la transition<BR>\n",
    "Les tutoriels, et autres documentations disponibles sur internet ne sont pas forcément migrées<BR>\n",
    "Pour un nouveau projet, recherchez un peu avant de vous lancer, pour vértifier les besoins en librairies externes<BR>\n",
    "Les implémentations tierces d'interpréteurs python peuvent avoir des degrés variables de compatibilité avec les versions 3.x<BR>\n",
    "Les modules comportant des extentions en C sont plus compliquées à porter<BR>\n",
    "\n",
    "Différences notables :\n",
    "- Division entière\n",
    "- print()\n",
    "- toutes les classes sont du nouveau type\n",
    "- Les chaînes de caractères sont en UTF-8 par défaut & encoding(s) & byte() interface\n",
    "- stdlib changée\n",
    "- range() vs xrange()\n",
    "- outils 2to3.py, 3to2, python-modernize, futurize\n",
    "- pylint --py3k\n",
    "- module de compatibilité: six \n"
   ]
  },
  {
   "cell_type": "markdown",
   "metadata": {
    "slideshow": {
     "slide_type": "slide"
    }
   },
   "source": [
    "# Types de données\n",
    "\n",
    "### ``None``\n",
    "\n",
    "### Booléens : logique vrai/faux <!-- MB -->\n",
    "\n",
    "### Numériques : <!-- MB -->\n",
    "- entiers,\n",
    "- flottants (précision, flou, arrondis, approximations),\n",
    "- complexes\n",
    "\n",
    "> limites en info != maths, les nombres ne sont pas infinis (``sys.maxint``)\n",
    "  \n",
    "  \n",
    "### Chaines de caractères : ``str()`` <!-- VL -->\n",
    "\n",
    "### Séquences : <!-- MB -->\n",
    "\n",
    "  * ``list()``\n",
    "  * ``tuple()``\n",
    "  * mutabilité, chaines\n",
    "  * indexing, negative indexes, slicing\n",
    "  \n",
    "### ``dict()`` <!-- VL -->\n",
    "### Ensembles : ``set()`` <!-- VL -->\n",
    "### Littéraux ``{}``, méthodes ``dict()``, etc...\n",
    "### Fichiers : ``open()``, ``close(``) <!-- MB -->\n"
   ]
  },
  {
   "cell_type": "markdown",
   "metadata": {
    "slideshow": {
     "slide_type": "slide"
    }
   },
   "source": [
    "# Types de données\n",
    "\n",
    "### Booléens : <!-- MB -->\n",
    "\n",
    "    True, False"
   ]
  },
  {
   "cell_type": "code",
   "execution_count": null,
   "metadata": {
    "collapsed": false
   },
   "outputs": [],
   "source": [
    "I_am_OK = False\n",
    "if I_am_OK:\n",
    "    print \"OK\"\n",
    "else:\n",
    "    print \"KO\"\n",
    "print type(I_am_OK)"
   ]
  },
  {
   "cell_type": "markdown",
   "metadata": {
    "slideshow": {
     "slide_type": "slide"
    }
   },
   "source": [
    "# Types de données\n",
    "\n",
    "\n",
    "### Numériques : <!-- MB -->\n",
    "\n",
    "#### entiers"
   ]
  },
  {
   "cell_type": "code",
   "execution_count": null,
   "metadata": {
    "collapsed": false
   },
   "outputs": [],
   "source": [
    "entier = 141592653589\n",
    "print type(entier)"
   ]
  },
  {
   "cell_type": "markdown",
   "metadata": {},
   "source": [
    "#### entier long (précision illimitée)"
   ]
  },
  {
   "cell_type": "code",
   "execution_count": null,
   "metadata": {
    "collapsed": false
   },
   "outputs": [],
   "source": [
    "entier = 1415926535897932384626433832795028841971\n",
    "print type(entier)"
   ]
  },
  {
   "cell_type": "code",
   "execution_count": null,
   "metadata": {
    "collapsed": false
   },
   "outputs": [],
   "source": [
    "entier = 1L\n",
    "print type(entier)"
   ]
  },
  {
   "cell_type": "markdown",
   "metadata": {},
   "source": [
    "La conversion de ``int`` à ``long`` dépend du système :"
   ]
  },
  {
   "cell_type": "code",
   "execution_count": null,
   "metadata": {
    "collapsed": false
   },
   "outputs": [],
   "source": [
    "import sys\n",
    "print \"Le plus grand entier court vaut\", sys.maxint\n",
    "entier = sys.maxint\n",
    "print \"{} est {}\".format(entier, type(entier))\n",
    "entier = sys.maxint + 1\n",
    "print \"{} est {}\".format(entier, type(entier))"
   ]
  },
  {
   "cell_type": "markdown",
   "metadata": {
    "slideshow": {
     "slide_type": "slide"
    }
   },
   "source": [
    "# Types de données\n",
    "\n",
    "\n",
    "### Numériques : <!-- MB -->\n",
    "\n",
    "#### Flottants (réels 64 bits)\n",
    "\n",
    "La précision est limitée à la 16ème décimale :"
   ]
  },
  {
   "cell_type": "code",
   "execution_count": null,
   "metadata": {
    "collapsed": false
   },
   "outputs": [],
   "source": [
    "pi_approx = 3.1415926535897932\n",
    "print type(pi_approx)\n",
    "print \"{:.16f}\".format(pi_approx)"
   ]
  },
  {
   "cell_type": "markdown",
   "metadata": {
    "slideshow": {
     "slide_type": "slide"
    }
   },
   "source": [
    "# Types de données\n",
    "\n",
    "\n",
    "### Numériques : <!-- MB -->\n",
    "\n",
    "#### complexes\n",
    "\n"
   ]
  },
  {
   "cell_type": "code",
   "execution_count": null,
   "metadata": {
    "collapsed": false
   },
   "outputs": [],
   "source": [
    "complexe = 1 + 2j\n",
    "print \"représentation :\", complexe\n",
    "print type(complexe)"
   ]
  },
  {
   "cell_type": "markdown",
   "metadata": {
    "slideshow": {
     "slide_type": "slide"
    }
   },
   "source": [
    "chaines <!-- VL -->\n",
    "-------\n",
    "\n",
    "- multiligne, \"'\" vs '\"'\n",
    "- formattage : %\n"
   ]
  },
  {
   "cell_type": "markdown",
   "metadata": {
    "slideshow": {
     "slide_type": "slide"
    }
   },
   "source": [
    "# Opérateurs <!-- MB -->\n",
    "\n",
    "### bits à bits *(bitwise)*\n",
    "\n",
    "    |, ^, &, <<, >>"
   ]
  },
  {
   "cell_type": "markdown",
   "metadata": {
    "slideshow": {
     "slide_type": "fragment"
    }
   },
   "source": [
    "### Arithmétique\n",
    "\n",
    "    +, -, *, /, **, %"
   ]
  },
  {
   "cell_type": "markdown",
   "metadata": {
    "slideshow": {
     "slide_type": "fragment"
    }
   },
   "source": [
    "### logiques\n",
    "\n",
    "    and or not cmp() > < =="
   ]
  },
  {
   "cell_type": "markdown",
   "metadata": {
    "slideshow": {
     "slide_type": "fragment"
    }
   },
   "source": [
    "### assignation\n",
    "\n",
    "    += -= /="
   ]
  },
  {
   "cell_type": "markdown",
   "metadata": {
    "slideshow": {
     "slide_type": "fragment"
    }
   },
   "source": [
    "### compatibilité de type, coercission de type\n",
    "\n",
    "      1 + '1' => TypeError: unsupported operand type(s) for +: 'int' and 'str'\n",
    "      str(1) + '1' => '11'\n",
    "      1 + int('1') => 2\n",
    "      int(str(1) + '1') => 11"
   ]
  },
  {
   "cell_type": "markdown",
   "metadata": {
    "slideshow": {
     "slide_type": "slide"
    }
   },
   "source": [
    "structures de contrôle\n",
    "----------------------\n",
    "\n",
    "- pass <!-- VL/MB -->\n",
    "- tests: if / elif / else <!-- MB -->\n",
    "- boucles <!-- VL -->\n",
    "  * for elt in liste\n",
    "  * for idx in range(len(liste))\n",
    "  * while\n",
    "  * break\n",
    "  * continue\n",
    "- fonctions <!-- MB -->\n",
    "  * arguments (*args, **kwargs)\n",
    "  * valeurs par defaut\n",
    "  * namespace (global(), local())\n",
    "- with <!-- VL -->\n",
    "- exceptions, try / catch <!-- VL -->\n",
    "- lambda <!-- VL -->\n",
    "- comprehensions <!-- MB -->\n",
    "- surcharge d'opérateurs"
   ]
  },
  {
   "cell_type": "markdown",
   "metadata": {
    "slideshow": {
     "slide_type": "slide"
    }
   },
   "source": [
    "mise en page <!-- VL -->\n",
    "------------\n",
    "\n",
    "- indentation\n",
    "- blocs de code\n",
    "- caractères blancs (tabs vs spaces)\n",
    "- \":\"\n"
   ]
  },
  {
   "cell_type": "markdown",
   "metadata": {
    "slideshow": {
     "slide_type": "slide"
    }
   },
   "source": [
    "commentaires <!-- VL -->\n",
    "------------\n",
    "\n",
    "- rendre le code plus compréhensible\n",
    "- lisibilité (avec les espaces entre les expressions)\n"
   ]
  },
  {
   "cell_type": "markdown",
   "metadata": {
    "slideshow": {
     "slide_type": "slide"
    }
   },
   "source": [
    "builtins <!-- MB -->\n",
    "--------\n",
    "\n",
    "- print()\n",
    "- str().format()\n",
    "- range()\n",
    "- input()\n",
    "- min(), max()\n",
    "- sorted(), reversed()\n",
    "- zip(), map()\n"
   ]
  },
  {
   "cell_type": "markdown",
   "metadata": {
    "slideshow": {
     "slide_type": "slide"
    }
   },
   "source": [
    "modules <!-- VL -->\n",
    "-------\n",
    "\n",
    "- import\n",
    "- packages\n"
   ]
  },
  {
   "cell_type": "markdown",
   "metadata": {
    "slideshow": {
     "slide_type": "slide"
    }
   },
   "source": [
    "OOP <!-- MB -->\n",
    "---\n",
    "\n",
    "- classes\n",
    "- instances\n",
    "- self\n",
    "- héritage\n",
    "- surcharge\n",
    "- '==' vs id() vs hash()"
   ]
  },
  {
   "cell_type": "markdown",
   "metadata": {
    "slideshow": {
     "slide_type": "slide"
    }
   },
   "source": [
    "stdlib - details\n",
    "----------------\n",
    "\n",
    "- string (find, count, split, join, strip, upper, replace) <!-- VL -->\n",
    "- math (log, sqrt, cos, pi, e) <!-- MB -->\n",
    "- os (listdir, getcwd, getenv, chdir, environ) <!-- VL -->\n",
    "- os.path (exists, getsize, isdir, join) <!-- MB -->\n",
    "- sys (sys.argv, sys.exit, sys.path) <!-- VL -->"
   ]
  },
  {
   "cell_type": "markdown",
   "metadata": {
    "slideshow": {
     "slide_type": "slide"
    }
   },
   "source": [
    "stdlib - à creuser, exercices\n",
    "------------------\n",
    "\n",
    "- re\n",
    "- random\n",
    "- pickle\n",
    "- time, datetime\n",
    "- compression: zlib, etc...\n",
    "- crypto: md5\n",
    "- argparse (+ optparse)\n",
    "- subprocess\n",
    "- réseau: email, urllib\n",
    "- xml, json, hdf5\n",
    "- unittest\n",
    "- debugger: pdb (c.f. spyder)\n",
    "- profiler\n",
    "- formatter\n",
    "- distutils / setup.py (c.f. PyPI)"
   ]
  },
  {
   "cell_type": "markdown",
   "metadata": {
    "slideshow": {
     "slide_type": "slide"
    }
   },
   "source": [
    "plus loin encore\n",
    "----------------\n",
    "\n",
    "- [Python Package Index](https://pypi.python.org/pypi): aka PyPI: 66K packages - \"pip install --user\"\n",
    "- [opencv](http://opencv.org): computer vision - traitement d'images en temps réel et le [module python](https://pypi.python.org/pypi/pyopencv)\n",
    "- [pyopencl](https://github.com/pyopencl/pyopencl): calculs GPGPU\n",
    "- [pycuda](https://pypi.python.org/pypi/pycuda): calculs GPGPU sur matériel NVidia\n",
    "- beaucoup de librairies C, C++ ou autres sont accessibles en python\n",
    "\n"
   ]
  },
  {
   "cell_type": "markdown",
   "metadata": {
    "slideshow": {
     "slide_type": "slide"
    }
   },
   "source": [
    "# Bonnes Pratiques\n",
    "\n",
    "- IDE: pydev, spyder, eclipse\n",
    "- Source control / version control (svn, git)\n",
    "- meld\n",
    "- pep8\n",
    "- pylint\n",
    "- tox\n",
    "- virtualenv\n",
    "- docstring"
   ]
  },
  {
   "cell_type": "markdown",
   "metadata": {},
   "source": [
    "# Exercices\n"
   ]
  },
  {
   "cell_type": "markdown",
   "metadata": {},
   "source": [
    "numeric\n",
    "-------\n",
    "\n",
    "def ttc(liste):\n",
    "    return sum(liste) * 1.186\n",
    "\n"
   ]
  },
  {
   "cell_type": "markdown",
   "metadata": {},
   "source": [
    "chaines de caractères\n",
    "---------------------\n",
    "\n",
    "- majuscules / minuscules: toupper(), tolower(), inverse_maj(), capitalize()\n",
    "- remplace()\n"
   ]
  },
  {
   "cell_type": "markdown",
   "metadata": {},
   "source": [
    "listes\n",
    "------\n",
    "\n",
    "- reverse()\n",
    "- odd_indices([1,2,3,4,5]) => [2,4]\n",
    "- odds([1,2,3,4,5]) => [1,3,5]\n"
   ]
  },
  {
   "cell_type": "markdown",
   "metadata": {},
   "source": [
    "maps\n",
    "----\n",
    "\n",
    "- animal_count(['coq', 'chien', 'coq', 'chat', 'chat', 'vache', 'coq', 'chien']) =>\n",
    "  {'coq': 3, 'chien': 2, 'chat': 2, 'vache': 1}"
   ]
  },
  {
   "cell_type": "markdown",
   "metadata": {},
   "source": [
    "sys.argv\n",
    "--------\n"
   ]
  },
  {
   "cell_type": "markdown",
   "metadata": {},
   "source": [
    "fichiers\n",
    "--------\n",
    "\n",
    "- animal_count_from_file(fn) => {'dodo': 1, 'dragon': 1}\n"
   ]
  },
  {
   "cell_type": "markdown",
   "metadata": {},
   "source": [
    "dates\n",
    "-----\n",
    "\n",
    "- le jour J du mois M est le combientième jour de l'année A\n",
    "- le premier samedi du mois M de l'année A\n",
    "- quel jour J est l'avant-dernier jeudi du mois M\n",
    "- combien de jours reste-t-il jusqu'à mon prochain anniversaire\n",
    "\n"
   ]
  },
  {
   "cell_type": "markdown",
   "metadata": {},
   "source": [
    "algorithmes\n",
    "-----------\n",
    "\n",
    "- sorting"
   ]
  },
  {
   "cell_type": "markdown",
   "metadata": {},
   "source": [
    "# Questions pièges\n",
    "\n",
    "- id(1) != id('1') != id(1.0)\n",
    "- [] += 1 vs .append()\n",
    "- http://docs.python-guide.org/en/latest/writing/gotchas"
   ]
  },
  {
   "cell_type": "markdown",
   "metadata": {},
   "source": [
    "# References\n",
    "\n",
    "- pydev\n",
    "- docs.python.org\n",
    "- wikipedia\n",
    "- http://stackoverflow.com\n",
    "- https://fr.wikipedia.org/wiki/Python_(langage)\n",
    "- https://wiki.python.org/moin/Python2orPython3\n",
    "- scipy.org"
   ]
  }
 ],
 "metadata": {
  "celltoolbar": "Slideshow",
  "kernelspec": {
   "display_name": "Python 2",
   "language": "python",
   "name": "python2"
  },
  "language_info": {
   "codemirror_mode": {
    "name": "ipython",
    "version": 2
   },
   "file_extension": ".py",
   "mimetype": "text/x-python",
   "name": "python",
   "nbconvert_exporter": "python",
   "pygments_lexer": "ipython2",
   "version": "2.7.10"
  }
 },
 "nbformat": 4,
 "nbformat_minor": 0
}
