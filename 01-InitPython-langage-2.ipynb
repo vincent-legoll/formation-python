{
 "cells": [
  {
   "cell_type": "markdown",
   "metadata": {
    "slideshow": {
     "slide_type": "slide"
    }
   },
   "source": [
    "\n",
    " ![](fig/python-logo.png)\n",
    "\n",
    "\n",
    "\n",
    "# Introduction à la Programmation Python\n",
    "***\n",
    "\n",
    "## Le langage [2/2]\n",
    "\n",
    "***\n",
    "\n",
    "Formation permanente du CNRS, Délégation Alsace\n",
    "\n",
    "Novembre 2015\n",
    "\n",
    "***\n",
    "\n",
    "**Auteurs :**\n",
    "- Vincent Legoll ([vincent.legoll@idgrilles.fr](mailto: vincent.legoll@idgrilles.fr))\n",
    "- Matthieu Boileau ([matthieu.boileau@math.unistra.fr](mailto: matthieu.boileau@math.unistra.fr))"
   ]
  },
  {
   "cell_type": "markdown",
   "metadata": {
    "slideshow": {
     "slide_type": "slide"
    }
   },
   "source": [
    "# Opérateurs <!-- VL -->\n",
    "\n",
    "## bits à bits *(bitwise)*\n",
    "\n",
    "    |, ^, &, <<, >>, ~\n",
    "\n",
    "Ces opérateurs permettent de manipuler individuellement les bits d'un entier.\n",
    "\n",
    "Ce sont des opérations bas-niveau, souvent utilisées pour piloter directement du matériel, pour implémenter des protocoles de communication binaires (par exemple réseau ou disque).\n",
    "\n",
    "L'utilisation d'entiers comme ensemble de bits permet des encodages de données très compacts, un booléen (True, False) ne prendrait qu'un bit en mémoire, c'est a dire que l'on peut encoder 64 booléens dans un entier.\n",
    "\n",
    "Description sur https://wiki.python.org/moin/BitwiseOperators"
   ]
  },
  {
   "cell_type": "code",
   "execution_count": null,
   "metadata": {
    "collapsed": false
   },
   "outputs": [],
   "source": [
    "val = 67 # = 1 + 2 + 64 = 2**0 + 2**1 + 2**6\n",
    "\n",
    "mask = 1 << 0 # On veut récupérer le 1er bit\n",
    "print 'le 1er  bit vaut', (val & mask) >> 0\n",
    "\n",
    "mask = 1 << 1 # On veut récupérer le 2ème bit\n",
    "print 'le 2ème bit vaut', (val & mask) >> 1\n",
    "\n",
    "mask = 1 << 2 # On veut récupérer le 3ème bit\n",
    "print 'le 3ème bit vaut', (val & mask) >> 2\n",
    "\n",
    "mask = 1 << 6 # On veut récupérer le 7ème bit\n",
    "print 'le 7ème bit vaut', (val & mask) >> 6\n",
    "\n",
    "# Si on positionne le 4ème bit a 1 (on rajoute 2**3 = 8)\n",
    "newval = val | (1 << 3)\n",
    "print newval\n",
    "\n",
    "# Si on positionne le 6ème bit a 0 (on soustrait 2**7 = 64)\n",
    "print newval & ~(1 << 6)\n"
   ]
  },
  {
   "cell_type": "markdown",
   "metadata": {},
   "source": [
    "> **Exercice :** Retourner une chaîne de caractères représentant le nombre binaire.\n",
    "> Par exemple:\n",
    "```\n",
    "    print num2bin(6)\n",
    "    110\n",
    "    print num2bin(7)\n",
    "    111\n",
    "    print num2bin(8)\n",
    "    1000\n",
    "    print num2bin(9)\n",
    "    1001\n",
    "```"
   ]
  },
  {
   "cell_type": "markdown",
   "metadata": {
    "slideshow": {
     "slide_type": "subslide"
    }
   },
   "source": [
    "# Opérateurs\n",
    "\n",
    "## Arithmétiques\n",
    "\n",
    "    +, -, *, /, //, %, **\n",
    "    "
   ]
  },
  {
   "cell_type": "markdown",
   "metadata": {
    "slideshow": {
     "slide_type": "fragment"
    }
   },
   "source": [
    "### Particularités de la division :"
   ]
  },
  {
   "cell_type": "code",
   "execution_count": null,
   "metadata": {
    "collapsed": false
   },
   "outputs": [],
   "source": [
    "print 16/3  # Quotien de la division euclidienne (produit un entier)\n",
    "print 16%3  # Reste de la division euclidienne (produit un entier)\n",
    "print 16./3  # Division (produit un réel)\n",
    "print 16.//3  # Quotien de la division (produit un réel)\n",
    "print 16.%3   # Reste de la division ou modulo (produit un réél)"
   ]
  },
  {
   "cell_type": "markdown",
   "metadata": {
    "slideshow": {
     "slide_type": "fragment"
    }
   },
   "source": [
    "### Puissance :"
   ]
  },
  {
   "cell_type": "code",
   "execution_count": null,
   "metadata": {
    "collapsed": false
   },
   "outputs": [],
   "source": [
    "print 2**10"
   ]
  },
  {
   "cell_type": "markdown",
   "metadata": {
    "slideshow": {
     "slide_type": "subslide"
    }
   },
   "source": [
    "# Opérateurs\n",
    "\n",
    "## Logiques (opèrent sur des booléens)\n",
    "\n",
    "    and, or, not\n"
   ]
  },
  {
   "cell_type": "code",
   "execution_count": null,
   "metadata": {
    "collapsed": false
   },
   "outputs": [],
   "source": [
    "print True or False\n",
    "print True and False\n",
    "print not True\n",
    "print not False"
   ]
  },
  {
   "cell_type": "markdown",
   "metadata": {},
   "source": [
    "Attention, ce sont des opérateurs \"court-circuit\" :"
   ]
  },
  {
   "cell_type": "code",
   "execution_count": null,
   "metadata": {
    "collapsed": true
   },
   "outputs": [],
   "source": [
    "a = True\n",
    "b = False and a  # b vaut False sans que a soit évalué\n",
    "c = True or a    # c vaut True, sans que a soit évalué"
   ]
  },
  {
   "cell_type": "markdown",
   "metadata": {
    "slideshow": {
     "slide_type": "fragment"
    }
   },
   "source": [
    "## Comparaison\n",
    "\n",
    "    ==, is, !=, is not, >, >=, <, <=\n",
    "    \n",
    "L'exécution de ces opérateurs retourne une valeur booléenne."
   ]
  },
  {
   "cell_type": "code",
   "execution_count": null,
   "metadata": {
    "collapsed": false
   },
   "outputs": [],
   "source": [
    "print 2 == 2\n",
    "print 2 != 2\n",
    "print type(2) is int"
   ]
  },
  {
   "cell_type": "markdown",
   "metadata": {
    "slideshow": {
     "slide_type": "subslide"
    }
   },
   "source": [
    "# Opérateurs <!-- MB -->\n",
    "\n",
    "### Assignation\n",
    "\n",
    "    += -= /="
   ]
  },
  {
   "cell_type": "code",
   "execution_count": null,
   "metadata": {
    "collapsed": false
   },
   "outputs": [],
   "source": [
    "a = 4\n",
    "a += 1  # <=> a = a + 1\n",
    "print a"
   ]
  },
  {
   "cell_type": "markdown",
   "metadata": {
    "slideshow": {
     "slide_type": "subslide"
    }
   },
   "source": [
    "### Compatibilité de type, coercition de type\n",
    "\n",
    "> MB : est-ce qu'on maintient ?\n",
    "\n",
    "      1 + '1' => TypeError: unsupported operand type(s) for +: 'int' and 'str'\n",
    "      str(1) + '1' => '11'\n",
    "      1 + int('1') => 2\n",
    "      int(str(1) + '1') => 11"
   ]
  },
  {
   "cell_type": "markdown",
   "metadata": {},
   "source": [
    "### Priorité des opérateurs\n",
    "<!-- VL -->\n",
    "c.f. doc python"
   ]
  },
  {
   "cell_type": "markdown",
   "metadata": {
    "slideshow": {
     "slide_type": "slide"
    }
   },
   "source": [
    "# Structures de contrôle\n",
    "\n",
    "- pass <!-- VL/MB -->\n",
    "- tests: if / elif / else <!-- MB -->\n",
    "- boucles <!-- VL -->\n",
    "  * for elt in liste\n",
    "  * for idx in range(len(liste))\n",
    "  * while\n",
    "  * break\n",
    "  * continue\n",
    "- fonctions <!-- MB -->\n",
    "  * arguments (*args, **kwargs)\n",
    "  * valeurs par defaut\n",
    "  * namespace (global(), local())\n",
    "- with <!-- VL -->\n",
    "- exceptions, try / catch <!-- VL -->\n",
    "- lambda <!-- VL -->\n",
    "- comprehensions <!-- MB -->\n",
    "- surcharge d'opérateurs"
   ]
  },
  {
   "cell_type": "markdown",
   "metadata": {
    "slideshow": {
     "slide_type": "slide"
    }
   },
   "source": [
    "# Structures de contrôle\n",
    "\n",
    "## Mise en page\n",
    "\n",
    "La mise en page est importante en python, c'est une différence majeure avec les autres langages (Java, C++, etc.)\n",
    "\n",
    "Python utilise l'indentation du code avec des caractères blancs (TAB ou ESPACE) plutôt que des mots clés (begin/end en pascal) ou des symboles ({} en java et C++). Cela permet de rendre le code plus compact.\n",
    "\n",
    "Elle va servir a délimiter des blocs de code sur lesquels les structures de contrôle comme les boucles ou les tests de conditions vont s'appliquer.\n",
    "\n",
    "De toute façon, dans les autres langages, on indente aussi le code pour l'aspect visuel et la lisibilité.\n",
    "\n",
    "L'indentation faisant partie de la syntaxe du langage, il faut y préter une grande attention, et être rigoureux quant au mélange de caractères blancs TAB et ESPACE. Car cela peut conduire à des erreurs à l'exécution voire des comportements erratiques."
   ]
  },
  {
   "cell_type": "markdown",
   "metadata": {
    "slideshow": {
     "slide_type": "slide"
    }
   },
   "source": [
    "# Structures de contrôle\n",
    "\n",
    "## Tests conditionnels\n",
    "\n",
    "Les instructions ``if/elif/else`` permettent d'exécuter des blocs d'instructions en fonction de conditions : \n",
    "\n",
    "    if <test1>:\n",
    "        <bloc d'instructions 1>\n",
    "    elif <test2>:\n",
    "        <bloc d'instructions 2>\n",
    "    else:\n",
    "        <bloc d'instructions 3>\n",
    "  \n",
    "  Pour les connaisseurs ``elif`` est similaire au ``switch`` en C et C++..."
   ]
  },
  {
   "cell_type": "code",
   "execution_count": null,
   "metadata": {
    "collapsed": false
   },
   "outputs": [],
   "source": [
    "taille = 1.90\n",
    "if taille >= 1.70: # La taille moyenne en France\n",
    "    print 'grand'\n",
    "else:\n",
    "    print 'petit'"
   ]
  },
  {
   "cell_type": "markdown",
   "metadata": {},
   "source": [
    "> **Exercice** : éditez la cellule pour y mettre votre taille et exécutez-la pour savoir si vous êtes grand ou petit."
   ]
  },
  {
   "cell_type": "code",
   "execution_count": null,
   "metadata": {
    "collapsed": false
   },
   "outputs": [],
   "source": [
    "# Pour cet exemple, on itère sur les éléments d'un tuple (cf. boucle for plus loin)\n",
    "for position in 2, 9, 3, 1, 8:\n",
    "    if position == 1:\n",
    "        print position, \"Or\"\n",
    "    elif position == 2:\n",
    "        print position, \"Argent\"\n",
    "    elif position == 3:\n",
    "        print position, \"Bronze\"\n",
    "    else:\n",
    "        print position, \"Vestiaires\""
   ]
  },
  {
   "cell_type": "markdown",
   "metadata": {
    "slideshow": {
     "slide_type": "slide"
    }
   },
   "source": [
    "# Fonctions\n",
    "\n",
    "En python, il n'y a pas de notion de sous-routine. Les procédures sont gérées par les objets de type fonctions, avec ou sans valeur de retour.\n",
    "\n",
    "    def <nom fonction>(arg1, arg2, ...):\n",
    "        <bloc d'instructions>\n",
    "        return <valeur>  # Instruction optionnelle\n",
    "        \n",
    "On distingue :\n",
    "- les fonctions avec ``return`` des fonctions sans ``return``\n",
    "- les fonctions sans arguments (``()`` est vide) des fonctions avec arguments ``(arg1, arg2, ...)``"
   ]
  },
  {
   "cell_type": "markdown",
   "metadata": {
    "slideshow": {
     "slide_type": "slide"
    }
   },
   "source": [
    "# Fonctions sans arguments\n",
    "\n",
    "- Fonction sans ``return``"
   ]
  },
  {
   "cell_type": "code",
   "execution_count": null,
   "metadata": {
    "collapsed": false
   },
   "outputs": [],
   "source": [
    "def func():  # Definition de la fonction\n",
    "    print \"You know what?\"\n",
    "    \n",
    "func()  # 1er Appel de la fonction\n",
    "retour = func()  # 2eme appel\n",
    "print \"retour:\", retour  # Le retour est vide"
   ]
  },
  {
   "cell_type": "markdown",
   "metadata": {
    "slideshow": {
     "slide_type": "subslide"
    }
   },
   "source": [
    "# Fonctions sans arguments\n",
    "\n",
    "- Fonction avec ``return``"
   ]
  },
  {
   "cell_type": "code",
   "execution_count": null,
   "metadata": {
    "collapsed": false
   },
   "outputs": [],
   "source": [
    "def func():  # Definition de la fonction\n",
    "    return \"I'm happy\"  # La fonction retourne une chaine de caractère\n",
    "\n",
    "print \"1er appel:\"\n",
    "func()  # 1er Appel de la fonction : ne produit rien\n",
    "print \"2eme appel:\"\n",
    "retour = func()  # Le retour du 2eme appel est stocké\n",
    "print \"retour:\", retour"
   ]
  },
  {
   "cell_type": "markdown",
   "metadata": {
    "slideshow": {
     "slide_type": "slide"
    }
   },
   "source": [
    "# Fonctions avec arguments"
   ]
  },
  {
   "cell_type": "code",
   "execution_count": null,
   "metadata": {
    "collapsed": false
   },
   "outputs": [],
   "source": [
    "def somme(x, y):\n",
    "    return x + y\n",
    "\n",
    "somme(4, 7)"
   ]
  },
  {
   "cell_type": "markdown",
   "metadata": {
    "slideshow": {
     "slide_type": "subslide"
    }
   },
   "source": [
    "# Fonctions avec arguments\n",
    "\n",
    "- Utilisation de valeurs par défaut"
   ]
  },
  {
   "cell_type": "code",
   "execution_count": null,
   "metadata": {
    "collapsed": false
   },
   "outputs": [],
   "source": [
    "def somme(x, y=1):\n",
    "    return x + y\n",
    "\n",
    "print somme(4)  # Si la valeur de y n'est pas spécifiée, y prend la valeur par défaut (1 ici)"
   ]
  },
  {
   "cell_type": "markdown",
   "metadata": {},
   "source": [
    "**Note :** Les arguments ayant une valeur par défaut doivent être placés en dernier."
   ]
  },
  {
   "cell_type": "markdown",
   "metadata": {
    "slideshow": {
     "slide_type": "fragment"
    }
   },
   "source": [
    "- Utilisation des arguments par leur nom"
   ]
  },
  {
   "cell_type": "code",
   "execution_count": null,
   "metadata": {
    "collapsed": false
   },
   "outputs": [],
   "source": [
    "print somme(y=7, x=4) # L'ordre peut être changé lors de l'appel si les arguments sont nommés"
   ]
  },
  {
   "cell_type": "markdown",
   "metadata": {
    "slideshow": {
     "slide_type": "subslide"
    }
   },
   "source": [
    "# Fonctions avec arguments\n",
    "\n",
    "- Capture d'arguments non définis"
   ]
  },
  {
   "cell_type": "code",
   "execution_count": null,
   "metadata": {
    "collapsed": false,
    "scrolled": true
   },
   "outputs": [],
   "source": [
    "def func(*args):\n",
    "    print args  # args est un tuple dont les éléments sont les arguments passés lors de l'appel \n",
    "    \n",
    "func(\"n'importe\", \"quelle\", \"sequence\")  "
   ]
  },
  {
   "cell_type": "markdown",
   "metadata": {
    "slideshow": {
     "slide_type": "subslide"
    }
   },
   "source": [
    "# Fonctions avec arguments\n",
    "\n",
    "- Capture d'arguments non définis"
   ]
  },
  {
   "cell_type": "code",
   "execution_count": null,
   "metadata": {
    "collapsed": false,
    "slideshow": {
     "slide_type": "-"
    }
   },
   "outputs": [],
   "source": [
    "def func(**kwargs):\n",
    "    print kwargs  # kwargs est un dictionnaire dont les éléments sont les arguments nommés passés lors de l'appel\n",
    "    \n",
    "func(x=1, y=2, couleur='rouge', epaisseur=2)  "
   ]
  },
  {
   "cell_type": "markdown",
   "metadata": {
    "slideshow": {
     "slide_type": "subslide"
    }
   },
   "source": [
    "# Fonctions avec arguments\n",
    "\n",
    "- Capture d'arguments non définis"
   ]
  },
  {
   "cell_type": "markdown",
   "metadata": {},
   "source": [
    "On peut combiner ce type d'arguments pour une même fonction :"
   ]
  },
  {
   "cell_type": "code",
   "execution_count": null,
   "metadata": {
    "collapsed": false
   },
   "outputs": [],
   "source": [
    "def func(n, *args, **kwargs):  # cet ordre est important\n",
    "    print \"n =\", n\n",
    "    print \"args =\", args\n",
    "    print \"kwargs =\", kwargs\n",
    "    \n",
    "func(2, 'spam', 'egg', x=1, y=2, couleur='rouge', epaisseur=2)  "
   ]
  },
  {
   "cell_type": "markdown",
   "metadata": {
    "slideshow": {
     "slide_type": "slide"
    }
   },
   "source": [
    "# Fonctions\n",
    "\n",
    "## Espace de nommage et portée des variables\n",
    "\n",
    "- 1er exemple pour illustrer le mécanisme de l'espace de nommage des variables :\n"
   ]
  },
  {
   "cell_type": "code",
   "execution_count": null,
   "metadata": {
    "collapsed": false
   },
   "outputs": [],
   "source": [
    "def func1():\n",
    "    a = 1\n",
    "    print \"Dans func1(), a =\", a\n",
    "\n",
    "def func2():\n",
    "    print \"Dans func2(), a =\", a\n",
    "    \n",
    "a = 2\n",
    "func1()\n",
    "func2()"
   ]
  },
  {
   "cell_type": "markdown",
   "metadata": {},
   "source": [
    "Cet exemple montre qu'à l'intérieur d'une fonction :\n",
    "1. une variable prend sa la valeur locale si cette variable est affectée localement (cas de ``func1()``)\n",
    "2. Si la variable n'est pas affectée localement, Python va chercher sa valeur dans l'espace englobant (cas de ``func2()``)."
   ]
  },
  {
   "cell_type": "markdown",
   "metadata": {
    "slideshow": {
     "slide_type": "subslide"
    }
   },
   "source": [
    "# Fonctions\n",
    "\n",
    "## Espace de nommage et portée des variables\n",
    "\n",
    "- 2ème exemple pour illustrer le mécanisme de portée des variables au sein des fonctions :\n"
   ]
  },
  {
   "cell_type": "code",
   "execution_count": null,
   "metadata": {
    "collapsed": false
   },
   "outputs": [],
   "source": [
    "def func():\n",
    "    a = 1\n",
    "    je_suis = 'Dans func():'\n",
    "    print je_suis, \"a =\", a\n",
    "    \n",
    "a = 2\n",
    "func()\n",
    "print \"Après func(): a =\", a"
   ]
  },
  {
   "cell_type": "markdown",
   "metadata": {},
   "source": [
    "- Cet exemple montre qu'à l'intérieur des fonctions les variables possèdent une valeur locale uniquement.\n",
    "- Les variables locales sont détruites à la sortie de la fonction. ``je_suis`` n'existe pas hors de la fonction donc Python renvoie une erreur si on référence ``je_suis`` depuis l'espace englobant :"
   ]
  },
  {
   "cell_type": "code",
   "execution_count": null,
   "metadata": {
    "collapsed": false
   },
   "outputs": [],
   "source": [
    "print je_suis"
   ]
  },
  {
   "cell_type": "markdown",
   "metadata": {
    "slideshow": {
     "slide_type": "slide"
    }
   },
   "source": [
    "# Fonctions\n",
    "\n",
    "## Fonctions *built-in*"
   ]
  },
  {
   "cell_type": "markdown",
   "metadata": {
    "slideshow": {
     "slide_type": "slide"
    }
   },
   "source": [
    "# Fonctions\n",
    "\n",
    "> **Exercice**"
   ]
  },
  {
   "cell_type": "markdown",
   "metadata": {
    "slideshow": {
     "slide_type": "slide"
    }
   },
   "source": [
    "commentaires <!-- VL -->\n",
    "------------\n",
    "\n",
    "- rendre le code plus compréhensible\n",
    "- lisibilité (avec les espaces entre les expressions)\n"
   ]
  },
  {
   "cell_type": "markdown",
   "metadata": {
    "slideshow": {
     "slide_type": "slide"
    }
   },
   "source": [
    "builtins <!-- MB -->\n",
    "--------\n",
    "\n",
    "- print()\n",
    "- str().format()\n",
    "- range()\n",
    "- input()\n",
    "- min(), max()\n",
    "- sorted(), reversed()\n",
    "- zip(), map()\n"
   ]
  },
  {
   "cell_type": "markdown",
   "metadata": {
    "slideshow": {
     "slide_type": "slide"
    }
   },
   "source": [
    "modules <!-- VL -->\n",
    "-------\n",
    "\n",
    "- import\n",
    "- packages\n"
   ]
  },
  {
   "cell_type": "markdown",
   "metadata": {
    "slideshow": {
     "slide_type": "slide"
    }
   },
   "source": [
    "OOP <!-- MB -->\n",
    "---\n",
    "\n",
    "- classes\n",
    "- instances\n",
    "- self\n",
    "- héritage\n",
    "- surcharge\n",
    "- '==' vs id() vs hash()"
   ]
  },
  {
   "cell_type": "markdown",
   "metadata": {
    "slideshow": {
     "slide_type": "slide"
    }
   },
   "source": [
    "stdlib - details\n",
    "----------------\n",
    "\n",
    "- string (find, count, split, join, strip, upper, replace) <!-- VL -->\n",
    "- math (log, sqrt, cos, pi, e) <!-- MB -->\n",
    "- os (listdir, getcwd, getenv, chdir, environ) <!-- VL -->\n",
    "- os.path (exists, getsize, isdir, join) <!-- MB -->\n",
    "- sys (sys.argv, sys.exit, sys.path) <!-- VL -->"
   ]
  },
  {
   "cell_type": "markdown",
   "metadata": {
    "slideshow": {
     "slide_type": "slide"
    }
   },
   "source": [
    "stdlib - à creuser, exercices\n",
    "------------------\n",
    "\n",
    "- re\n",
    "- random\n",
    "- pickle\n",
    "- time, datetime\n",
    "- compression: zlib, etc...\n",
    "- crypto: md5\n",
    "- argparse (+ optparse)\n",
    "- subprocess\n",
    "- réseau: email, urllib\n",
    "- xml, json, hdf5\n",
    "- unittest\n",
    "- debugger: pdb (c.f. spyder)\n",
    "- profiler\n",
    "- formatter\n",
    "- distutils / setup.py (c.f. PyPI)"
   ]
  },
  {
   "cell_type": "markdown",
   "metadata": {
    "slideshow": {
     "slide_type": "slide"
    }
   },
   "source": [
    "plus loin encore\n",
    "----------------\n",
    "\n",
    "- [Python Package Index](https://pypi.python.org/pypi): aka PyPI: 66K packages - \"pip install --user\"\n",
    "- [opencv](http://opencv.org): computer vision - traitement d'images en temps réel et le [module python](https://pypi.python.org/pypi/pyopencv)\n",
    "- [pyopencl](https://github.com/pyopencl/pyopencl): calculs GPGPU\n",
    "- [pycuda](https://pypi.python.org/pypi/pycuda): calculs GPGPU sur matériel NVidia\n",
    "- beaucoup de librairies C, C++ ou autres sont accessibles en python\n",
    "\n"
   ]
  },
  {
   "cell_type": "markdown",
   "metadata": {
    "slideshow": {
     "slide_type": "slide"
    }
   },
   "source": [
    "# Bonnes Pratiques\n",
    "\n",
    "- Environnements de développement intégrés:\n",
    "  * [pydev](http://pydev.org)\n",
    "  * [spyder](http://pythonhosted.org/spyder)\n",
    "  * [eclipse](http://www.eclipse.org)\n",
    "- Gestionnaires de versions :\n",
    "  * [git](http://www.git-scm.com)\n",
    "  * [github](https://github.com)\n",
    "  * [subversion](https://subversion.apache.org)\n",
    "- Visualisation de différences :\n",
    "  * [meld](http://meldmerge.org)\n",
    "- Vérificateurs de code source\n",
    "  * [pep8](https://pypi.python.org/pypi/pep8)\n",
    "  * [pylint](http://www.pylint.org)\n",
    "- Documentation dans le code\n",
    "  * [docstring](https://www.python.org/dev/peps/pep-0257)\n",
    "- Automatisation de tests, environnements virtuels :\n",
    "  * [unittest](https://docs.python.org/3/library/unittest.html)\n",
    "  * [doctest](https://docs.python.org/2/library/doctest.html)\n",
    "  * [nose](http://readthedocs.org/docs/nose)\n",
    "  * [py.test](http://pytest.org)\n",
    "  * [tox](http://tox.testrun.org)\n",
    "  * [virtualenv](https://virtualenv.pypa.io)"
   ]
  },
  {
   "cell_type": "markdown",
   "metadata": {
    "slideshow": {
     "slide_type": "slide"
    }
   },
   "source": [
    "# Exercices\n"
   ]
  },
  {
   "cell_type": "markdown",
   "metadata": {
    "slideshow": {
     "slide_type": "subslide"
    }
   },
   "source": [
    "> **Exercice**\n",
    "> 1. Ecrire une fonction qui prend en paramètre une liste de prix hors taxes (HT) et qui retourne le total toutes taxes comprises (TTC)"
   ]
  },
  {
   "cell_type": "code",
   "execution_count": null,
   "metadata": {
    "collapsed": false,
    "slideshow": {
     "slide_type": "fragment"
    }
   },
   "outputs": [],
   "source": [
    "def ttc(liste):\n",
    "    return sum(liste) * 1.186\n",
    "\n",
    "liste_prix_ht = [12, 56.20, 19.99, 0.40, 100]\n",
    "print \"%.02f\" % ttc(liste_prix_ht)"
   ]
  },
  {
   "cell_type": "markdown",
   "metadata": {},
   "source": [
    "chaines de caractères\n",
    "---------------------\n",
    "<!-- VL -->\n",
    "- majuscules / minuscules: toupper(), tolower(), inverse_maj(), capitalize()\n",
    "- remplace()\n"
   ]
  },
  {
   "cell_type": "markdown",
   "metadata": {},
   "source": [
    "listes <!-- MB -->\n",
    "------\n",
    "\n",
    "- reverse() <!-- VL -->\n",
    "- odd_indices([1,2,3,4,5]) => [2,4] <!-- VL -->\n",
    "- odds([1,2,3,4,5]) => [1,3,5] <!-- VL -->\n"
   ]
  },
  {
   "cell_type": "markdown",
   "metadata": {},
   "source": [
    "maps\n",
    "----\n",
    "\n",
    "- animal_count(['coq', 'chien', 'coq', 'chat', 'chat', 'vache', 'coq', 'chien']) =>\n",
    "  {'coq': 3, 'chien': 2, 'chat': 2, 'vache': 1}"
   ]
  },
  {
   "cell_type": "markdown",
   "metadata": {},
   "source": [
    "sys.argv\n",
    "--------\n"
   ]
  },
  {
   "cell_type": "markdown",
   "metadata": {},
   "source": [
    "fichiers\n",
    "--------\n",
    "\n",
    "- animal_count_from_file(fn) => {'dodo': 1, 'dragon': 1}\n"
   ]
  },
  {
   "cell_type": "markdown",
   "metadata": {},
   "source": [
    "dates\n",
    "-----\n",
    "\n",
    "- le jour J du mois M est le combientième jour de l'année A\n",
    "- le premier samedi du mois M de l'année A\n",
    "- quel jour J est l'avant-dernier jeudi du mois M\n",
    "- combien de jours reste-t-il jusqu'à mon prochain anniversaire\n",
    "\n"
   ]
  },
  {
   "cell_type": "markdown",
   "metadata": {},
   "source": [
    "algorithmes\n",
    "-----------\n",
    "\n",
    "- sorting"
   ]
  },
  {
   "cell_type": "markdown",
   "metadata": {},
   "source": [
    "# Questions pièges\n",
    "\n",
    "- id(1) != id('1') != id(1.0)\n",
    "- [] += 1 vs .append()\n",
    "- http://docs.python-guide.org/en/latest/writing/gotchas"
   ]
  },
  {
   "cell_type": "markdown",
   "metadata": {},
   "source": [
    "# References\n",
    "\n",
    "- pydev\n",
    "- docs.python.org\n",
    "- wikipedia\n",
    "- http://stackoverflow.com\n",
    "- https://fr.wikipedia.org/wiki/Python_(langage)\n",
    "- https://wiki.python.org/moin/Python2orPython3\n",
    "- scipy.org"
   ]
  }
 ],
 "metadata": {
  "celltoolbar": "Slideshow",
  "kernelspec": {
   "display_name": "Python 2",
   "language": "python",
   "name": "python2"
  },
  "language_info": {
   "codemirror_mode": {
    "name": "ipython",
    "version": 2
   },
   "file_extension": ".py",
   "mimetype": "text/x-python",
   "name": "python",
   "nbconvert_exporter": "python",
   "pygments_lexer": "ipython2",
   "version": "2.7.10"
  }
 },
 "nbformat": 4,
 "nbformat_minor": 0
}
