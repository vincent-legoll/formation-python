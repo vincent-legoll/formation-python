{
 "cells": [
  {
   "cell_type": "markdown",
   "metadata": {
    "slideshow": {
     "slide_type": "slide"
    }
   },
   "source": [
    "\n",
    " ![](fig/python-logo.png)\n",
    "\n",
    "\n",
    "\n",
    "# Introduction à la Programmation Python\n",
    "***\n",
    "\n",
    "## Microprojet\n",
    "\n",
    "***\n",
    "\n",
    "Formation permanente du CNRS, Délégation Alsace\n",
    "\n",
    "Novembre 2015\n",
    "\n",
    "***\n",
    "\n",
    "**Auteurs :**\n",
    "- Vincent Legoll ([vincent.legoll@idgrilles.fr](mailto: vincent.legoll@idgrilles.fr))\n",
    "- Matthieu Boileau ([matthieu.boileau@math.unistra.fr](mailto: matthieu.boileau@math.unistra.fr))"
   ]
  },
  {
   "cell_type": "markdown",
   "metadata": {
    "slideshow": {
     "slide_type": "slide"
    }
   },
   "source": [
    "# Objectif\n",
    "\n",
    "- Utiliser les modules de la librairie standard pour ouvrir un fichier json en http\n",
    "- Manipuler la librairie de tracés graphiques matplotlib\n",
    "- Utiliser un IDE (Spyder)"
   ]
  },
  {
   "cell_type": "markdown",
   "metadata": {},
   "source": [
    "# Exercice\n",
    "\n",
    "Exploiter les données du site http://www.prevision-meteo.ch pour tracer l'évolution horaire de la température au sol à Strasbourg aujourd'hui."
   ]
  },
  {
   "cell_type": "markdown",
   "metadata": {},
   "source": [
    "### Ouverture du fichier de prévisions\n",
    "\n",
    "Le site http://www.prevision-meteo.ch fournit des prévisions sous forme de fichier au format [json](https://fr.wikipedia.org/wiki/JavaScript_Object_Notation). On veut ouvrir le fichier relatif à Strasbourg avec la méthode ``urlopen`` du module ``urllib2``."
   ]
  },
  {
   "cell_type": "code",
   "execution_count": 1,
   "metadata": {
    "collapsed": true
   },
   "outputs": [],
   "source": [
    "import urllib2\n",
    "\n",
    "jsonfile_url = \"http://www.prevision-meteo.ch/services/json/Strasbourg\"\n",
    "f = urllib2.urlopen(jsonfile_url)  # open url"
   ]
  },
  {
   "cell_type": "markdown",
   "metadata": {},
   "source": [
    "### Chargement du fichier json ouvert"
   ]
  },
  {
   "cell_type": "markdown",
   "metadata": {},
   "source": [
    "La méthode ``json.load()`` permet de charger un fichier json comme un dictionnaire :"
   ]
  },
  {
   "cell_type": "code",
   "execution_count": 2,
   "metadata": {
    "collapsed": false
   },
   "outputs": [],
   "source": [
    "import json\n",
    "jsonfile = json.load(f)  # Read JSON file\n",
    "    "
   ]
  },
  {
   "cell_type": "markdown",
   "metadata": {},
   "source": [
    "### Exploration des données\n",
    "\n",
    "On commence naïvement par afficher le contenu du fichier"
   ]
  },
  {
   "cell_type": "code",
   "execution_count": 3,
   "metadata": {
    "collapsed": false
   },
   "outputs": [
    {
     "name": "stdout",
     "output_type": "stream",
     "text": [
      "{u'fcst_day_0': {u'hourly_data': {u'8H00': {u'WNDDIR10m': 247, u'WNDDIRCARD10': u'SO', u'WNDSPD10m': 8, u'WNDGUST10m': 16, u'HGT0C': 100, u'KINDEX': 43, u'MCDC': u'0.00', u'CIN180_0': 0, u'HCDC': u'0.00', u'RH2m': 89, u'APCPsfc': 0, u'LCDC': u'2.00', u'CONDITION': u'Stratus se dissipant', u'CAPE180_0': u'4.0000', u'ISSNOW': 1, u'WNDCHILL2m': -3, u'TMP2m': -0.2, u'PRMSL': 1022.2, u'DPT2m': -1.8, u'ICON': u'http://www.prevision-meteo.ch/style/images/icon/stratus-se-dissipant.png'}, u'7H00': {u'WNDDIR10m': 254, u'WNDDIRCARD10': u'O', u'WNDSPD10m': 12, u'WNDGUST10m': 0, u'HGT0C': 400, u'KINDEX': 42, u'MCDC': u'0.00', u'CIN180_0': 0, u'HCDC': u'0.00', u'RH2m': 85, u'APCPsfc': 0, u'LCDC': u'0.00', u'CONDITION': u'Nuit claire et stratus', u'CAPE180_0': u'1.0000', u'ISSNOW': 1, u'WNDCHILL2m': -2.3, u'TMP2m': 1.2, u'PRMSL': 1021.5, u'DPT2m': -1, u'ICON': u'http://www.prevision-meteo.ch/style/images/icon/nuit-claire-et-stratus.png'}, u'1H00': {u'WNDDIR10m': 295, u'WNDDIRCARD10': u'NO', u'WNDSPD10m': 10, u'WNDGUST10m': 16, u'HGT0C': 400, u'KINDEX': 40, u'MCDC': u'0.00', u'CIN180_0': 0, u'HCDC': u'0.00', u'RH2m': 96, u'APCPsfc': 0, u'LCDC': u'25.00', u'CONDITION': u'Nuit nuageuse', u'CAPE180_0': u'0.0000', u'ISSNOW': 1, u'WNDCHILL2m': -2.4, u'TMP2m': 0.8, u'PRMSL': 1016.7, u'DPT2m': 0.3, u'ICON': u'http://www.prevision-meteo.ch/style/images/icon/nuit-nuageuse.png'}, u'0H00': {u'WNDDIR10m': 290, u'WNDDIRCARD10': u'O', u'WNDSPD10m': 11, u'WNDGUST10m': 17, u'HGT0C': 500, u'KINDEX': 41, u'MCDC': u'78.00', u'CIN180_0': -15, u'HCDC': u'0.00', u'RH2m': 96, u'APCPsfc': 0, u'LCDC': u'84.00', u'CONDITION': u'Faiblement nuageux', u'CAPE180_0': u'5.0000', u'ISSNOW': 1, u'WNDCHILL2m': -0.9, u'TMP2m': 2.2, u'PRMSL': 1016, u'DPT2m': 1.6, u'ICON': u'http://www.prevision-meteo.ch/style/images/icon/faiblement-nuageux.png'}, u'6H00': {u'WNDDIR10m': 272, u'WNDDIRCARD10': u'O', u'WNDSPD10m': 9, u'WNDGUST10m': 14, u'HGT0C': -100, u'KINDEX': 38, u'MCDC': u'0.00', u'CIN180_0': 0, u'HCDC': u'0.00', u'RH2m': 95, u'APCPsfc': 0, u'LCDC': u'24.00', u'CONDITION': u'Nuit nuageuse', u'CAPE180_0': u'0.0000', u'ISSNOW': 1, u'WNDCHILL2m': -5.1, u'TMP2m': -1.7, u'PRMSL': 1020.3, u'DPT2m': -2.5, u'ICON': u'http://www.prevision-meteo.ch/style/images/icon/nuit-nuageuse.png'}, u'14H00': {u'WNDDIR10m': 248, u'WNDDIRCARD10': u'SO', u'WNDSPD10m': 4, u'WNDGUST10m': 6, u'HGT0C': 600, u'KINDEX': 43, u'MCDC': u'0.00', u'CIN180_0': 0, u'HCDC': u'0.00', u'RH2m': 71, u'APCPsfc': 0, u'LCDC': u'8.00', u'CONDITION': u'Eclaircies', u'CAPE180_0': u'3.0000', u'ISSNOW': 0, u'WNDCHILL2m': 5.1, u'TMP2m': 5.1, u'PRMSL': 1024.8, u'DPT2m': 0.3, u'ICON': u'http://www.prevision-meteo.ch/style/images/icon/eclaircies.png'}, u'22H00': {u'WNDDIR10m': 187, u'WNDDIRCARD10': u'S', u'WNDSPD10m': 8, u'WNDGUST10m': 14, u'HGT0C': 200, u'KINDEX': 40, u'MCDC': u'0.00', u'CIN180_0': 0, u'HCDC': u'0.00', u'RH2m': 93, u'APCPsfc': 0, u'LCDC': u'0.00', u'CONDITION': u'Stratus', u'CAPE180_0': u'0.0000', u'ISSNOW': 2, u'WNDCHILL2m': -3.1, u'TMP2m': -0.3, u'PRMSL': 1026.9, u'DPT2m': -1.3, u'ICON': u'http://www.prevision-meteo.ch/style/images/icon/stratus.png'}, u'12H00': {u'WNDDIR10m': 288, u'WNDDIRCARD10': u'O', u'WNDSPD10m': 7, u'WNDGUST10m': 15, u'HGT0C': 500, u'KINDEX': 45, u'MCDC': u'0.00', u'CIN180_0': 0, u'HCDC': u'0.00', u'RH2m': 71, u'APCPsfc': 0, u'LCDC': u'51.00', u'CONDITION': u'Eclaircies', u'CAPE180_0': u'10.0000', u'ISSNOW': 0, u'WNDCHILL2m': 2.8, u'TMP2m': 4.5, u'PRMSL': 1024.1, u'DPT2m': -0.2, u'ICON': u'http://www.prevision-meteo.ch/style/images/icon/eclaircies.png'}, u'13H00': {u'WNDDIR10m': 284, u'WNDDIRCARD10': u'O', u'WNDSPD10m': 4, u'WNDGUST10m': 10, u'HGT0C': 600, u'KINDEX': 44, u'MCDC': u'0.00', u'CIN180_0': 0, u'HCDC': u'0.00', u'RH2m': 71, u'APCPsfc': 0, u'LCDC': u'28.00', u'CONDITION': u'Eclaircies', u'CAPE180_0': u'7.0000', u'ISSNOW': 0, u'WNDCHILL2m': 5, u'TMP2m': 5, u'PRMSL': 1024.5, u'DPT2m': 0.1, u'ICON': u'http://www.prevision-meteo.ch/style/images/icon/eclaircies.png'}, u'15H00': {u'WNDDIR10m': 239, u'WNDDIRCARD10': u'SO', u'WNDSPD10m': 4, u'WNDGUST10m': 7, u'HGT0C': 600, u'KINDEX': 42, u'MCDC': u'0.00', u'CIN180_0': 0, u'HCDC': u'0.00', u'RH2m': 73, u'APCPsfc': 0, u'LCDC': u'1.00', u'CONDITION': u'Ensoleill\\xe9', u'CAPE180_0': u'1.0000', u'ISSNOW': 0, u'WNDCHILL2m': 5, u'TMP2m': 5, u'PRMSL': 1024.9, u'DPT2m': 0.6, u'ICON': u'http://www.prevision-meteo.ch/style/images/icon/ensoleille.png'}, u'23H00': {u'WNDDIR10m': 182, u'WNDDIRCARD10': u'S', u'WNDSPD10m': 8, u'WNDGUST10m': 14, u'HGT0C': 0, u'KINDEX': 40, u'MCDC': u'0.00', u'CIN180_0': 0, u'HCDC': u'0.00', u'RH2m': 95, u'APCPsfc': 0, u'LCDC': u'0.00', u'CONDITION': u'Stratus', u'CAPE180_0': u'0.0000', u'ISSNOW': 2, u'WNDCHILL2m': -4, u'TMP2m': -1.1, u'PRMSL': 1027.3, u'DPT2m': -1.8, u'ICON': u'http://www.prevision-meteo.ch/style/images/icon/stratus.png'}, u'3H00': {u'WNDDIR10m': 293, u'WNDDIRCARD10': u'O', u'WNDSPD10m': 10, u'WNDGUST10m': 16, u'HGT0C': 0, u'KINDEX': 42, u'MCDC': u'0.00', u'CIN180_0': 0, u'HCDC': u'0.00', u'RH2m': 96, u'APCPsfc': 0, u'LCDC': u'24.00', u'CONDITION': u'Stratus', u'CAPE180_0': u'0.0000', u'ISSNOW': 1, u'WNDCHILL2m': -4, u'TMP2m': -0.6, u'PRMSL': 1018.1, u'DPT2m': -1.2, u'ICON': u'http://www.prevision-meteo.ch/style/images/icon/stratus.png'}, u'9H00': {u'WNDDIR10m': 254, u'WNDDIRCARD10': u'O', u'WNDSPD10m': 7, u'WNDGUST10m': 13, u'HGT0C': 500, u'KINDEX': 45, u'MCDC': u'0.00', u'CIN180_0': 0, u'HCDC': u'0.00', u'RH2m': 87, u'APCPsfc': 0, u'LCDC': u'42.00', u'CONDITION': u'Eclaircies', u'CAPE180_0': u'23.0000', u'ISSNOW': 1, u'WNDCHILL2m': -1.1, u'TMP2m': 1.1, u'PRMSL': 1023.1, u'DPT2m': -0.9, u'ICON': u'http://www.prevision-meteo.ch/style/images/icon/eclaircies.png'}, u'19H00': {u'WNDDIR10m': 196, u'WNDDIRCARD10': u'S', u'WNDSPD10m': 7, u'WNDGUST10m': 12, u'HGT0C': 700, u'KINDEX': 40, u'MCDC': u'0.00', u'CIN180_0': 0, u'HCDC': u'0.00', u'RH2m': 84, u'APCPsfc': 0, u'LCDC': u'0.00', u'CONDITION': u'Nuit claire', u'CAPE180_0': u'0.0000', u'ISSNOW': 2, u'WNDCHILL2m': 0.3, u'TMP2m': 2.3, u'PRMSL': 1026.3, u'DPT2m': 0, u'ICON': u'http://www.prevision-meteo.ch/style/images/icon/nuit-claire.png'}, u'2H00': {u'WNDDIR10m': 294, u'WNDDIRCARD10': u'NO', u'WNDSPD10m': 10, u'WNDGUST10m': 16, u'HGT0C': 200, u'KINDEX': 40, u'MCDC': u'0.00', u'CIN180_0': 0, u'HCDC': u'0.00', u'RH2m': 96, u'APCPsfc': 0, u'LCDC': u'21.00', u'CONDITION': u'Stratus', u'CAPE180_0': u'0.0000', u'ISSNOW': 1, u'WNDCHILL2m': -3.3, u'TMP2m': 0, u'PRMSL': 1017.5, u'DPT2m': -0.6, u'ICON': u'http://www.prevision-meteo.ch/style/images/icon/stratus.png'}, u'10H00': {u'WNDDIR10m': 278, u'WNDDIRCARD10': u'O', u'WNDSPD10m': 10, u'WNDGUST10m': 14, u'HGT0C': 500, u'KINDEX': 46, u'MCDC': u'0.00', u'CIN180_0': 0, u'HCDC': u'0.00', u'RH2m': 78, u'APCPsfc': 0, u'LCDC': u'97.00', u'CONDITION': u'Eclaircies', u'CAPE180_0': u'22.0000', u'ISSNOW': 1, u'WNDCHILL2m': 0.3, u'TMP2m': 3, u'PRMSL': 1023.9, u'DPT2m': -0.4, u'ICON': u'http://www.prevision-meteo.ch/style/images/icon/eclaircies.png'}, u'4H00': {u'WNDDIR10m': 289, u'WNDDIRCARD10': u'O', u'WNDSPD10m': 10, u'WNDGUST10m': 15, u'HGT0C': 0, u'KINDEX': 42, u'MCDC': u'0.00', u'CIN180_0': 0, u'HCDC': u'0.00', u'RH2m': 96, u'APCPsfc': 0, u'LCDC': u'25.00', u'CONDITION': u'Stratus', u'CAPE180_0': u'0.0000', u'ISSNOW': 1, u'WNDCHILL2m': -4.6, u'TMP2m': -1.1, u'PRMSL': 1018.7, u'DPT2m': -1.6, u'ICON': u'http://www.prevision-meteo.ch/style/images/icon/stratus.png'}, u'11H00': {u'WNDDIR10m': 286, u'WNDDIRCARD10': u'O', u'WNDSPD10m': 9, u'WNDGUST10m': 15, u'HGT0C': 500, u'KINDEX': 46, u'MCDC': u'0.00', u'CIN180_0': 0, u'HCDC': u'0.00', u'RH2m': 74, u'APCPsfc': 0, u'LCDC': u'79.00', u'CONDITION': u'Eclaircies', u'CAPE180_0': u'15.0000', u'ISSNOW': 0, u'WNDCHILL2m': 1.6, u'TMP2m': 3.9, u'PRMSL': 1024.3, u'DPT2m': -0.3, u'ICON': u'http://www.prevision-meteo.ch/style/images/icon/eclaircies.png'}, u'21H00': {u'WNDDIR10m': 190, u'WNDDIRCARD10': u'S', u'WNDSPD10m': 8, u'WNDGUST10m': 14, u'HGT0C': 700, u'KINDEX': 40, u'MCDC': u'0.00', u'CIN180_0': 0, u'HCDC': u'0.00', u'RH2m': 90, u'APCPsfc': 0, u'LCDC': u'0.00', u'CONDITION': u'Nuit claire et stratus', u'CAPE180_0': u'0.0000', u'ISSNOW': 2, u'WNDCHILL2m': -2, u'TMP2m': 0.6, u'PRMSL': 1026.6, u'DPT2m': -0.8, u'ICON': u'http://www.prevision-meteo.ch/style/images/icon/nuit-claire-et-stratus.png'}, u'17H00': {u'WNDDIR10m': 193, u'WNDDIRCARD10': u'S', u'WNDSPD10m': 5, u'WNDGUST10m': 8, u'HGT0C': 700, u'KINDEX': 41, u'MCDC': u'0.00', u'CIN180_0': 0, u'HCDC': u'0.00', u'RH2m': 81, u'APCPsfc': 0, u'LCDC': u'0.00', u'CONDITION': u'Nuit claire', u'CAPE180_0': u'1.0000', u'ISSNOW': 0, u'WNDCHILL2m': 2.4, u'TMP2m': 3.5, u'PRMSL': 1025.2, u'DPT2m': 0.7, u'ICON': u'http://www.prevision-meteo.ch/style/images/icon/nuit-claire.png'}, u'5H00': {u'WNDDIR10m': 279, u'WNDDIRCARD10': u'O', u'WNDSPD10m': 9, u'WNDGUST10m': 14, u'HGT0C': -100, u'KINDEX': 40, u'MCDC': u'0.00', u'CIN180_0': 0, u'HCDC': u'0.00', u'RH2m': 96, u'APCPsfc': 0, u'LCDC': u'24.00', u'CONDITION': u'Stratus', u'CAPE180_0': u'0.0000', u'ISSNOW': 1, u'WNDCHILL2m': -4.7, u'TMP2m': -1.4, u'PRMSL': 1019.4, u'DPT2m': -2, u'ICON': u'http://www.prevision-meteo.ch/style/images/icon/stratus.png'}, u'20H00': {u'WNDDIR10m': 194, u'WNDDIRCARD10': u'S', u'WNDSPD10m': 7, u'WNDGUST10m': 12, u'HGT0C': 700, u'KINDEX': 40, u'MCDC': u'0.00', u'CIN180_0': 0, u'HCDC': u'0.00', u'RH2m': 87, u'APCPsfc': 0, u'LCDC': u'0.00', u'CONDITION': u'Nuit claire', u'CAPE180_0': u'0.0000', u'ISSNOW': 2, u'WNDCHILL2m': -0.5, u'TMP2m': 1.6, u'PRMSL': 1026.6, u'DPT2m': -0.3, u'ICON': u'http://www.prevision-meteo.ch/style/images/icon/nuit-claire.png'}, u'18H00': {u'WNDDIR10m': 193, u'WNDDIRCARD10': u'S', u'WNDSPD10m': 6, u'WNDGUST10m': 10, u'HGT0C': 700, u'KINDEX': 41, u'MCDC': u'0.00', u'CIN180_0': 0, u'HCDC': u'0.00', u'RH2m': 83, u'APCPsfc': 0, u'LCDC': u'0.00', u'CONDITION': u'Nuit claire', u'CAPE180_0': u'0.0000', u'ISSNOW': 2, u'WNDCHILL2m': 1.2, u'TMP2m': 2.8, u'PRMSL': 1025.6, u'DPT2m': 0.3, u'ICON': u'http://www.prevision-meteo.ch/style/images/icon/nuit-claire.png'}, u'16H00': {u'WNDDIR10m': 220, u'WNDDIRCARD10': u'SO', u'WNDSPD10m': 3, u'WNDGUST10m': 7, u'HGT0C': 700, u'KINDEX': 41, u'MCDC': u'0.00', u'CIN180_0': 0, u'HCDC': u'0.00', u'RH2m': 81, u'APCPsfc': 0, u'LCDC': u'8.00', u'CONDITION': u'Faibles passages nuageux', u'CAPE180_0': u'1.0000', u'ISSNOW': 0, u'WNDCHILL2m': 4.5, u'TMP2m': 4.5, u'PRMSL': 1025, u'DPT2m': 1.5, u'ICON': u'http://www.prevision-meteo.ch/style/images/icon/faibles-passages-nuageux.png'}}, u'tmin': -2, u'tmax': 5, u'day_short': u'Lun.', u'date': u'23.11.2015', u'day_long': u'Lundi', u'icon_big': u'http://www.prevision-meteo.ch/style/images/icon/eclaircies-big.png', u'condition': u'Eclaircies', u'icon': u'http://www.prevision-meteo.ch/style/images/icon/eclaircies.png'}, u'fcst_day_1': {u'hourly_data': {u'8H00': {u'WNDDIR10m': 183, u'WNDDIRCARD10': u'S', u'WNDSPD10m': 14, u'WNDGUST10m': 23, u'HGT0C': -300, u'KINDEX': 25, u'MCDC': u'0.00', u'CIN180_0': 0, u'HCDC': u'0.00', u'RH2m': 98, u'APCPsfc': 0, u'LCDC': u'100.00', u'CONDITION': u'Stratus se dissipant', u'CAPE180_0': u'0.0000', u'ISSNOW': 1, u'WNDCHILL2m': -7.7, u'TMP2m': -2.8, u'PRMSL': 1025.5, u'DPT2m': -3.1, u'ICON': u'http://www.prevision-meteo.ch/style/images/icon/stratus-se-dissipant.png'}, u'7H00': {u'WNDDIR10m': 183, u'WNDDIRCARD10': u'S', u'WNDSPD10m': 13, u'WNDGUST10m': 22, u'HGT0C': -300, u'KINDEX': 26, u'MCDC': u'0.00', u'CIN180_0': 0, u'HCDC': u'0.00', u'RH2m': 98, u'APCPsfc': 0, u'LCDC': u'100.00', u'CONDITION': u'Stratus', u'CAPE180_0': u'0.0000', u'ISSNOW': 1, u'WNDCHILL2m': -7.3, u'TMP2m': -2.7, u'PRMSL': 1025.9, u'DPT2m': -3, u'ICON': u'http://www.prevision-meteo.ch/style/images/icon/stratus.png'}, u'1H00': {u'WNDDIR10m': 175, u'WNDDIRCARD10': u'S', u'WNDSPD10m': 8, u'WNDGUST10m': 14, u'HGT0C': -200, u'KINDEX': 37, u'MCDC': u'0.00', u'CIN180_0': 0, u'HCDC': u'0.00', u'RH2m': 95, u'APCPsfc': 0, u'LCDC': u'0.00', u'CONDITION': u'Stratus', u'CAPE180_0': u'0.0000', u'ISSNOW': 2, u'WNDCHILL2m': -5, u'TMP2m': -1.9, u'PRMSL': 1026.9, u'DPT2m': -2.6, u'ICON': u'http://www.prevision-meteo.ch/style/images/icon/stratus.png'}, u'0H00': {u'WNDDIR10m': 178, u'WNDDIRCARD10': u'S', u'WNDSPD10m': 8, u'WNDGUST10m': 14, u'HGT0C': -100, u'KINDEX': 39, u'MCDC': u'0.00', u'CIN180_0': 0, u'HCDC': u'0.00', u'RH2m': 95, u'APCPsfc': 0, u'LCDC': u'0.00', u'CONDITION': u'Stratus', u'CAPE180_0': u'0.0000', u'ISSNOW': 2, u'WNDCHILL2m': -4.6, u'TMP2m': -1.6, u'PRMSL': 1027.2, u'DPT2m': -2.3, u'ICON': u'http://www.prevision-meteo.ch/style/images/icon/stratus.png'}, u'6H00': {u'WNDDIR10m': 180, u'WNDDIRCARD10': u'S', u'WNDSPD10m': 12, u'WNDGUST10m': 21, u'HGT0C': -300, u'KINDEX': 28, u'MCDC': u'0.00', u'CIN180_0': 0, u'HCDC': u'0.00', u'RH2m': 97, u'APCPsfc': 0, u'LCDC': u'86.00', u'CONDITION': u'Stratus', u'CAPE180_0': u'0.0000', u'ISSNOW': 1, u'WNDCHILL2m': -7, u'TMP2m': -2.6, u'PRMSL': 1026.2, u'DPT2m': -2.9, u'ICON': u'http://www.prevision-meteo.ch/style/images/icon/stratus.png'}, u'14H00': {u'WNDDIR10m': 197, u'WNDDIRCARD10': u'S', u'WNDSPD10m': 16, u'WNDGUST10m': 26, u'HGT0C': 800, u'KINDEX': 13, u'MCDC': u'100.00', u'CIN180_0': 0, u'HCDC': u'100.00', u'RH2m': 75, u'APCPsfc': 0, u'LCDC': u'10.00', u'CONDITION': u'Fortement nuageux', u'CAPE180_0': u'0.0000', u'ISSNOW': 0, u'WNDCHILL2m': 0.5, u'TMP2m': 4.1, u'PRMSL': 1021.5, u'DPT2m': 0, u'ICON': u'http://www.prevision-meteo.ch/style/images/icon/fortement-nuageux.png'}, u'22H00': {u'WNDDIR10m': 200, u'WNDDIRCARD10': u'S', u'WNDSPD10m': 25, u'WNDGUST10m': 39, u'HGT0C': 400, u'KINDEX': 28, u'MCDC': u'100.00', u'CIN180_0': 0, u'HCDC': u'0.00', u'RH2m': 94, u'APCPsfc': 0, u'LCDC': u'100.00', u'CONDITION': u'Faiblement nuageux', u'CAPE180_0': u'6.0000', u'ISSNOW': 1, u'WNDCHILL2m': -3.3, u'TMP2m': 2, u'PRMSL': 1015.2, u'DPT2m': 1.1, u'ICON': u'http://www.prevision-meteo.ch/style/images/icon/faiblement-nuageux.png'}, u'12H00': {u'WNDDIR10m': 192, u'WNDDIRCARD10': u'S', u'WNDSPD10m': 15, u'WNDGUST10m': 25, u'HGT0C': 300, u'KINDEX': 21, u'MCDC': u'72.00', u'CIN180_0': 0, u'HCDC': u'98.00', u'RH2m': 72, u'APCPsfc': 0, u'LCDC': u'0.00', u'CONDITION': u'Eclaircies', u'CAPE180_0': u'0.0000', u'ISSNOW': 2, u'WNDCHILL2m': -1.2, u'TMP2m': 2.6, u'PRMSL': 1023.4, u'DPT2m': -1.9, u'ICON': u'http://www.prevision-meteo.ch/style/images/icon/eclaircies.png'}, u'13H00': {u'WNDDIR10m': 195, u'WNDDIRCARD10': u'S', u'WNDSPD10m': 16, u'WNDGUST10m': 25, u'HGT0C': 800, u'KINDEX': 17, u'MCDC': u'100.00', u'CIN180_0': 0, u'HCDC': u'100.00', u'RH2m': 71, u'APCPsfc': 0, u'LCDC': u'0.00', u'CONDITION': u'Eclaircies', u'CAPE180_0': u'0.0000', u'ISSNOW': 0, u'WNDCHILL2m': 0.1, u'TMP2m': 3.8, u'PRMSL': 1022.2, u'DPT2m': -0.9, u'ICON': u'http://www.prevision-meteo.ch/style/images/icon/eclaircies.png'}, u'15H00': {u'WNDDIR10m': 196, u'WNDDIRCARD10': u'S', u'WNDSPD10m': 16, u'WNDGUST10m': 26, u'HGT0C': 800, u'KINDEX': 9, u'MCDC': u'100.00', u'CIN180_0': 0, u'HCDC': u'100.00', u'RH2m': 81, u'APCPsfc': 0, u'LCDC': u'77.00', u'CONDITION': u'Fortement nuageux', u'CAPE180_0': u'0.0000', u'ISSNOW': 0, u'WNDCHILL2m': 0.2, u'TMP2m': 3.9, u'PRMSL': 1020.8, u'DPT2m': 0.9, u'ICON': u'http://www.prevision-meteo.ch/style/images/icon/fortement-nuageux.png'}, u'23H00': {u'WNDDIR10m': 205, u'WNDDIRCARD10': u'SO', u'WNDSPD10m': 24, u'WNDGUST10m': 39, u'HGT0C': 500, u'KINDEX': 30, u'MCDC': u'100.00', u'CIN180_0': 0, u'HCDC': u'0.00', u'RH2m': 94, u'APCPsfc': 0.4, u'LCDC': u'100.00', u'CONDITION': u'Neige faible', u'CAPE180_0': u'10.0000', u'ISSNOW': 1, u'WNDCHILL2m': -3.1, u'TMP2m': 2.1, u'PRMSL': 1014.5, u'DPT2m': 1.2, u'ICON': u'http://www.prevision-meteo.ch/style/images/icon/neige-faible.png'}, u'3H00': {u'WNDDIR10m': 178, u'WNDDIRCARD10': u'S', u'WNDSPD10m': 9, u'WNDGUST10m': 15, u'HGT0C': -300, u'KINDEX': 34, u'MCDC': u'0.00', u'CIN180_0': 0, u'HCDC': u'0.00', u'RH2m': 96, u'APCPsfc': 0, u'LCDC': u'0.00', u'CONDITION': u'Stratus', u'CAPE180_0': u'0.0000', u'ISSNOW': 1, u'WNDCHILL2m': -6, u'TMP2m': -2.5, u'PRMSL': 1026.8, u'DPT2m': -3.1, u'ICON': u'http://www.prevision-meteo.ch/style/images/icon/stratus.png'}, u'9H00': {u'WNDDIR10m': 184, u'WNDDIRCARD10': u'S', u'WNDSPD10m': 14, u'WNDGUST10m': 23, u'HGT0C': -200, u'KINDEX': 24, u'MCDC': u'0.00', u'CIN180_0': 0, u'HCDC': u'84.00', u'RH2m': 96, u'APCPsfc': 0, u'LCDC': u'100.00', u'CONDITION': u'Stratus se dissipant', u'CAPE180_0': u'0.0000', u'ISSNOW': 1, u'WNDCHILL2m': -7, u'TMP2m': -2.3, u'PRMSL': 1025.3, u'DPT2m': -2.9, u'ICON': u'http://www.prevision-meteo.ch/style/images/icon/stratus-se-dissipant.png'}, u'19H00': {u'WNDDIR10m': 192, u'WNDDIRCARD10': u'S', u'WNDSPD10m': 20, u'WNDGUST10m': 31, u'HGT0C': 600, u'KINDEX': 25, u'MCDC': u'100.00', u'CIN180_0': 0, u'HCDC': u'22.00', u'RH2m': 95, u'APCPsfc': 0, u'LCDC': u'100.00', u'CONDITION': u'Fortement nuageux', u'CAPE180_0': u'5.0000', u'ISSNOW': 2, u'WNDCHILL2m': -2.7, u'TMP2m': 2, u'PRMSL': 1017.8, u'DPT2m': 1.2, u'ICON': u'http://www.prevision-meteo.ch/style/images/icon/fortement-nuageux.png'}, u'2H00': {u'WNDDIR10m': 175, u'WNDDIRCARD10': u'S', u'WNDSPD10m': 9, u'WNDGUST10m': 15, u'HGT0C': -200, u'KINDEX': 36, u'MCDC': u'0.00', u'CIN180_0': 0, u'HCDC': u'0.00', u'RH2m': 96, u'APCPsfc': 0, u'LCDC': u'0.00', u'CONDITION': u'Stratus', u'CAPE180_0': u'0.0000', u'ISSNOW': 2, u'WNDCHILL2m': -5.6, u'TMP2m': -2.2, u'PRMSL': 1026.8, u'DPT2m': -2.9, u'ICON': u'http://www.prevision-meteo.ch/style/images/icon/stratus.png'}, u'10H00': {u'WNDDIR10m': 186, u'WNDDIRCARD10': u'S', u'WNDSPD10m': 15, u'WNDGUST10m': 25, u'HGT0C': 0, u'KINDEX': 23, u'MCDC': u'0.00', u'CIN180_0': 0, u'HCDC': u'90.00', u'RH2m': 86, u'APCPsfc': 0, u'LCDC': u'88.00', u'CONDITION': u'Eclaircies', u'CAPE180_0': u'0.0000', u'ISSNOW': 1, u'WNDCHILL2m': -5.6, u'TMP2m': -1, u'PRMSL': 1025.1, u'DPT2m': -3.1, u'ICON': u'http://www.prevision-meteo.ch/style/images/icon/eclaircies.png'}, u'4H00': {u'WNDDIR10m': 178, u'WNDDIRCARD10': u'S', u'WNDSPD10m': 10, u'WNDGUST10m': 17, u'HGT0C': -300, u'KINDEX': 32, u'MCDC': u'0.00', u'CIN180_0': 0, u'HCDC': u'0.00', u'RH2m': 96, u'APCPsfc': 0, u'LCDC': u'0.00', u'CONDITION': u'Stratus', u'CAPE180_0': u'0.0000', u'ISSNOW': 1, u'WNDCHILL2m': -6.7, u'TMP2m': -2.8, u'PRMSL': 1026.4, u'DPT2m': -3.3, u'ICON': u'http://www.prevision-meteo.ch/style/images/icon/stratus.png'}, u'11H00': {u'WNDDIR10m': 188, u'WNDDIRCARD10': u'S', u'WNDSPD10m': 15, u'WNDGUST10m': 25, u'HGT0C': 200, u'KINDEX': 22, u'MCDC': u'13.00', u'CIN180_0': 0, u'HCDC': u'97.00', u'RH2m': 77, u'APCPsfc': 0, u'LCDC': u'0.00', u'CONDITION': u'Eclaircies', u'CAPE180_0': u'0.0000', u'ISSNOW': 2, u'WNDCHILL2m': -3.3, u'TMP2m': 0.9, u'PRMSL': 1024.5, u'DPT2m': -2.6, u'ICON': u'http://www.prevision-meteo.ch/style/images/icon/eclaircies.png'}, u'21H00': {u'WNDDIR10m': 196, u'WNDDIRCARD10': u'S', u'WNDSPD10m': 25, u'WNDGUST10m': 39, u'HGT0C': 500, u'KINDEX': 28, u'MCDC': u'100.00', u'CIN180_0': 0, u'HCDC': u'0.00', u'RH2m': 94, u'APCPsfc': 0.4, u'LCDC': u'100.00', u'CONDITION': u'Neige faible', u'CAPE180_0': u'8.0000', u'ISSNOW': 1, u'WNDCHILL2m': -3.3, u'TMP2m': 2, u'PRMSL': 1016.2, u'DPT2m': 1.1, u'ICON': u'http://www.prevision-meteo.ch/style/images/icon/neige-faible.png'}, u'17H00': {u'WNDDIR10m': 195, u'WNDDIRCARD10': u'S', u'WNDSPD10m': 16, u'WNDGUST10m': 25, u'HGT0C': 800, u'KINDEX': 16, u'MCDC': u'100.00', u'CIN180_0': 0, u'HCDC': u'100.00', u'RH2m': 95, u'APCPsfc': 0, u'LCDC': u'100.00', u'CONDITION': u'Fortement nuageux', u'CAPE180_0': u'0.0000', u'ISSNOW': 2, u'WNDCHILL2m': -1.9, u'TMP2m': 2.2, u'PRMSL': 1018.9, u'DPT2m': 1.4, u'ICON': u'http://www.prevision-meteo.ch/style/images/icon/fortement-nuageux.png'}, u'5H00': {u'WNDDIR10m': 178, u'WNDDIRCARD10': u'S', u'WNDSPD10m': 11, u'WNDGUST10m': 18, u'HGT0C': -300, u'KINDEX': 30, u'MCDC': u'0.00', u'CIN180_0': 0, u'HCDC': u'0.00', u'RH2m': 96, u'APCPsfc': 0, u'LCDC': u'55.00', u'CONDITION': u'Stratus', u'CAPE180_0': u'0.0000', u'ISSNOW': 1, u'WNDCHILL2m': -7.1, u'TMP2m': -2.9, u'PRMSL': 1026.1, u'DPT2m': -3.4, u'ICON': u'http://www.prevision-meteo.ch/style/images/icon/stratus.png'}, u'20H00': {u'WNDDIR10m': 194, u'WNDDIRCARD10': u'S', u'WNDSPD10m': 23, u'WNDGUST10m': 35, u'HGT0C': 500, u'KINDEX': 27, u'MCDC': u'100.00', u'CIN180_0': 0, u'HCDC': u'23.00', u'RH2m': 94, u'APCPsfc': 0, u'LCDC': u'100.00', u'CONDITION': u'Fortement nuageux', u'CAPE180_0': u'6.0000', u'ISSNOW': 1, u'WNDCHILL2m': -3, u'TMP2m': 2.1, u'PRMSL': 1017.1, u'DPT2m': 1.1, u'ICON': u'http://www.prevision-meteo.ch/style/images/icon/fortement-nuageux.png'}, u'18H00': {u'WNDDIR10m': 193, u'WNDDIRCARD10': u'S', u'WNDSPD10m': 17, u'WNDGUST10m': 27, u'HGT0C': 700, u'KINDEX': 21, u'MCDC': u'100.00', u'CIN180_0': 0, u'HCDC': u'100.00', u'RH2m': 95, u'APCPsfc': 0, u'LCDC': u'100.00', u'CONDITION': u'Fortement nuageux', u'CAPE180_0': u'4.0000', u'ISSNOW': 2, u'WNDCHILL2m': -2.3, u'TMP2m': 2, u'PRMSL': 1018.4, u'DPT2m': 1.3, u'ICON': u'http://www.prevision-meteo.ch/style/images/icon/fortement-nuageux.png'}, u'16H00': {u'WNDDIR10m': 196, u'WNDDIRCARD10': u'S', u'WNDSPD10m': 15, u'WNDGUST10m': 25, u'HGT0C': 800, u'KINDEX': 9, u'MCDC': u'100.00', u'CIN180_0': 0, u'HCDC': u'99.00', u'RH2m': 89, u'APCPsfc': 0, u'LCDC': u'100.00', u'CONDITION': u'Fortement nuageux', u'CAPE180_0': u'0.0000', u'ISSNOW': 2, u'WNDCHILL2m': -0.6, u'TMP2m': 3.1, u'PRMSL': 1019.8, u'DPT2m': 1.4, u'ICON': u'http://www.prevision-meteo.ch/style/images/icon/fortement-nuageux.png'}}, u'tmin': -3, u'tmax': 4, u'day_short': u'Mar.', u'date': u'24.11.2015', u'day_long': u'Mardi', u'icon_big': u'http://www.prevision-meteo.ch/style/images/icon/eclaircies-big.png', u'condition': u'Eclaircies', u'icon': u'http://www.prevision-meteo.ch/style/images/icon/eclaircies.png'}, u'fcst_day_2': {u'hourly_data': {u'8H00': {u'WNDDIR10m': 186, u'WNDDIRCARD10': u'S', u'WNDSPD10m': 18, u'WNDGUST10m': 29, u'HGT0C': 1100, u'KINDEX': 39, u'MCDC': u'100.00', u'CIN180_0': 0, u'HCDC': u'0.00', u'RH2m': 96, u'APCPsfc': 0, u'LCDC': u'100.00', u'CONDITION': u'Faiblement nuageux', u'CAPE180_0': u'17.0000', u'ISSNOW': 2, u'WNDCHILL2m': -2.8, u'TMP2m': 1.7, u'PRMSL': 1007.7, u'DPT2m': 1.1, u'ICON': u'http://www.prevision-meteo.ch/style/images/icon/faiblement-nuageux.png'}, u'7H00': {u'WNDDIR10m': 189, u'WNDDIRCARD10': u'S', u'WNDSPD10m': 18, u'WNDGUST10m': 28, u'HGT0C': 1100, u'KINDEX': 38, u'MCDC': u'100.00', u'CIN180_0': 0, u'HCDC': u'0.00', u'RH2m': 96, u'APCPsfc': 0, u'LCDC': u'100.00', u'CONDITION': u'Faiblement nuageux', u'CAPE180_0': u'24.0000', u'ISSNOW': 2, u'WNDCHILL2m': -3.1, u'TMP2m': 1.5, u'PRMSL': 1008.6, u'DPT2m': 0.9, u'ICON': u'http://www.prevision-meteo.ch/style/images/icon/faiblement-nuageux.png'}, u'1H00': {u'WNDDIR10m': 211, u'WNDDIRCARD10': u'SO', u'WNDSPD10m': 20, u'WNDGUST10m': 34, u'HGT0C': 900, u'KINDEX': 34, u'MCDC': u'100.00', u'CIN180_0': 0, u'HCDC': u'0.00', u'RH2m': 94, u'APCPsfc': 0, u'LCDC': u'100.00', u'CONDITION': u'Faiblement nuageux', u'CAPE180_0': u'54.0000', u'ISSNOW': 2, u'WNDCHILL2m': -2.5, u'TMP2m': 2.2, u'PRMSL': 1012.9, u'DPT2m': 1.3, u'ICON': u'http://www.prevision-meteo.ch/style/images/icon/faiblement-nuageux.png'}, u'0H00': {u'WNDDIR10m': 209, u'WNDDIRCARD10': u'SO', u'WNDSPD10m': 22, u'WNDGUST10m': 38, u'HGT0C': 600, u'KINDEX': 32, u'MCDC': u'100.00', u'CIN180_0': 0, u'HCDC': u'0.00', u'RH2m': 94, u'APCPsfc': 0, u'LCDC': u'100.00', u'CONDITION': u'Faiblement nuageux', u'CAPE180_0': u'34.0000', u'ISSNOW': 2, u'WNDCHILL2m': -2.7, u'TMP2m': 2.2, u'PRMSL': 1013.7, u'DPT2m': 1.3, u'ICON': u'http://www.prevision-meteo.ch/style/images/icon/faiblement-nuageux.png'}, u'6H00': {u'WNDDIR10m': 193, u'WNDDIRCARD10': u'S', u'WNDSPD10m': 17, u'WNDGUST10m': 27, u'HGT0C': 1000, u'KINDEX': 37, u'MCDC': u'4.00', u'CIN180_0': 0, u'HCDC': u'0.00', u'RH2m': 96, u'APCPsfc': 0, u'LCDC': u'91.00', u'CONDITION': u'Faiblement nuageux', u'CAPE180_0': u'46.0000', u'ISSNOW': 2, u'WNDCHILL2m': -3.4, u'TMP2m': 1.1, u'PRMSL': 1009.4, u'DPT2m': 0.5, u'ICON': u'http://www.prevision-meteo.ch/style/images/icon/faiblement-nuageux.png'}, u'14H00': {u'WNDDIR10m': 238, u'WNDDIRCARD10': u'SO', u'WNDSPD10m': 9, u'WNDGUST10m': 19, u'HGT0C': 900, u'KINDEX': 39, u'MCDC': u'100.00', u'CIN180_0': 0, u'HCDC': u'0.00', u'RH2m': 91, u'APCPsfc': 0.7, u'LCDC': u'100.00', u'CONDITION': u'Pluie faible', u'CAPE180_0': u'8.0000', u'ISSNOW': 0, u'WNDCHILL2m': 2.9, u'TMP2m': 5, u'PRMSL': 1004.2, u'DPT2m': 3.7, u'ICON': u'http://www.prevision-meteo.ch/style/images/icon/pluie-faible.png'}, u'22H00': {u'WNDDIR10m': 313, u'WNDDIRCARD10': u'NO', u'WNDSPD10m': 18, u'WNDGUST10m': 28, u'HGT0C': 900, u'KINDEX': 39, u'MCDC': u'8.00', u'CIN180_0': 0, u'HCDC': u'0.00', u'RH2m': 97, u'APCPsfc': 0, u'LCDC': u'98.00', u'CONDITION': u'Nuit nuageuse', u'CAPE180_0': u'27.0000', u'ISSNOW': 0, u'WNDCHILL2m': -0.2, u'TMP2m': 3.8, u'PRMSL': 1009.2, u'DPT2m': 3.3, u'ICON': u'http://www.prevision-meteo.ch/style/images/icon/nuit-nuageuse.png'}, u'12H00': {u'WNDDIR10m': 199, u'WNDDIRCARD10': u'S', u'WNDSPD10m': 14, u'WNDGUST10m': 26, u'HGT0C': 800, u'KINDEX': 37, u'MCDC': u'100.00', u'CIN180_0': 0, u'HCDC': u'0.00', u'RH2m': 95, u'APCPsfc': 1.3, u'LCDC': u'100.00', u'CONDITION': u'Pluie mod\\xe9r\\xe9e', u'CAPE180_0': u'6.0000', u'ISSNOW': 0, u'WNDCHILL2m': 0.7, u'TMP2m': 4, u'PRMSL': 1005.1, u'DPT2m': 3.3, u'ICON': u'http://www.prevision-meteo.ch/style/images/icon/pluie-moderee.png'}, u'13H00': {u'WNDDIR10m': 212, u'WNDDIRCARD10': u'SO', u'WNDSPD10m': 12, u'WNDGUST10m': 23, u'HGT0C': 900, u'KINDEX': 38, u'MCDC': u'100.00', u'CIN180_0': 0, u'HCDC': u'0.00', u'RH2m': 94, u'APCPsfc': 1.1, u'LCDC': u'100.00', u'CONDITION': u'Pluie mod\\xe9r\\xe9e', u'CAPE180_0': u'7.0000', u'ISSNOW': 0, u'WNDCHILL2m': 1.5, u'TMP2m': 4.4, u'PRMSL': 1004.4, u'DPT2m': 3.5, u'ICON': u'http://www.prevision-meteo.ch/style/images/icon/pluie-moderee.png'}, u'15H00': {u'WNDDIR10m': 282, u'WNDDIRCARD10': u'O', u'WNDSPD10m': 9, u'WNDGUST10m': 14, u'HGT0C': 900, u'KINDEX': 39, u'MCDC': u'100.00', u'CIN180_0': 0, u'HCDC': u'0.00', u'RH2m': 90, u'APCPsfc': 0.4, u'LCDC': u'100.00', u'CONDITION': u'Couvert avec averses', u'CAPE180_0': u'9.0000', u'ISSNOW': 0, u'WNDCHILL2m': 3.7, u'TMP2m': 5.7, u'PRMSL': 1004.5, u'DPT2m': 4.2, u'ICON': u'http://www.prevision-meteo.ch/style/images/icon/couvert-avec-averses.png'}, u'23H00': {u'WNDDIR10m': 312, u'WNDDIRCARD10': u'NO', u'WNDSPD10m': 17, u'WNDGUST10m': 28, u'HGT0C': 900, u'KINDEX': 39, u'MCDC': u'0.00', u'CIN180_0': 0, u'HCDC': u'0.00', u'RH2m': 96, u'APCPsfc': 0, u'LCDC': u'100.00', u'CONDITION': u'Faiblement nuageux', u'CAPE180_0': u'33.0000', u'ISSNOW': 0, u'WNDCHILL2m': -0.5, u'TMP2m': 3.4, u'PRMSL': 1010.2, u'DPT2m': 2.8, u'ICON': u'http://www.prevision-meteo.ch/style/images/icon/faiblement-nuageux.png'}, u'3H00': {u'WNDDIR10m': 216, u'WNDDIRCARD10': u'SO', u'WNDSPD10m': 16, u'WNDGUST10m': 28, u'HGT0C': 1000, u'KINDEX': 34, u'MCDC': u'0.00', u'CIN180_0': 0, u'HCDC': u'0.00', u'RH2m': 99, u'APCPsfc': 0, u'LCDC': u'69.00', u'CONDITION': u'Fortement nuageux', u'CAPE180_0': u'8.0000', u'ISSNOW': 2, u'WNDCHILL2m': -3.2, u'TMP2m': 1.1, u'PRMSL': 1011.9, u'DPT2m': 0.8, u'ICON': u'http://www.prevision-meteo.ch/style/images/icon/fortement-nuageux.png'}, u'9H00': {u'WNDDIR10m': 185, u'WNDDIRCARD10': u'S', u'WNDSPD10m': 19, u'WNDGUST10m': 30, u'HGT0C': 1100, u'KINDEX': 39, u'MCDC': u'100.00', u'CIN180_0': 0, u'HCDC': u'0.00', u'RH2m': 94, u'APCPsfc': 0, u'LCDC': u'100.00', u'CONDITION': u'Faiblement nuageux', u'CAPE180_0': u'16.0000', u'ISSNOW': 2, u'WNDCHILL2m': -2.1, u'TMP2m': 2.4, u'PRMSL': 1006.7, u'DPT2m': 1.5, u'ICON': u'http://www.prevision-meteo.ch/style/images/icon/faiblement-nuageux.png'}, u'19H00': {u'WNDDIR10m': 313, u'WNDDIRCARD10': u'NO', u'WNDSPD10m': 18, u'WNDGUST10m': 28, u'HGT0C': 900, u'KINDEX': 39, u'MCDC': u'100.00', u'CIN180_0': 0, u'HCDC': u'0.00', u'RH2m': 99, u'APCPsfc': 0.6, u'LCDC': u'100.00', u'CONDITION': u'Pluie faible', u'CAPE180_0': u'12.0000', u'ISSNOW': 0, u'WNDCHILL2m': 1.1, u'TMP2m': 4.8, u'PRMSL': 1007, u'DPT2m': 4.6, u'ICON': u'http://www.prevision-meteo.ch/style/images/icon/pluie-faible.png'}, u'2H00': {u'WNDDIR10m': 216, u'WNDDIRCARD10': u'SO', u'WNDSPD10m': 19, u'WNDGUST10m': 31, u'HGT0C': 900, u'KINDEX': 34, u'MCDC': u'2.00', u'CIN180_0': 0, u'HCDC': u'0.00', u'RH2m': 94, u'APCPsfc': 0, u'LCDC': u'100.00', u'CONDITION': u'Faiblement nuageux', u'CAPE180_0': u'49.0000', u'ISSNOW': 2, u'WNDCHILL2m': -2.3, u'TMP2m': 2.2, u'PRMSL': 1012.4, u'DPT2m': 1.3, u'ICON': u'http://www.prevision-meteo.ch/style/images/icon/faiblement-nuageux.png'}, u'10H00': {u'WNDDIR10m': 190, u'WNDDIRCARD10': u'S', u'WNDSPD10m': 19, u'WNDGUST10m': 31, u'HGT0C': 1000, u'KINDEX': 39, u'MCDC': u'100.00', u'CIN180_0': 0, u'HCDC': u'0.00', u'RH2m': 93, u'APCPsfc': 0.4, u'LCDC': u'100.00', u'CONDITION': u'Pluie et neige m\\xeal\\xe9e faible', u'CAPE180_0': u'8.0000', u'ISSNOW': 2, u'WNDCHILL2m': -0.9, u'TMP2m': 3.3, u'PRMSL': 1006.3, u'DPT2m': 2.2, u'ICON': u'http://www.prevision-meteo.ch/style/images/icon/pluie-et-neige-melee-faible.png'}, u'4H00': {u'WNDDIR10m': 209, u'WNDDIRCARD10': u'SO', u'WNDSPD10m': 15, u'WNDGUST10m': 24, u'HGT0C': 1000, u'KINDEX': 34, u'MCDC': u'0.00', u'CIN180_0': 0, u'HCDC': u'0.00', u'RH2m': 96, u'APCPsfc': 0, u'LCDC': u'88.00', u'CONDITION': u'Fortement nuageux', u'CAPE180_0': u'5.0000', u'ISSNOW': 2, u'WNDCHILL2m': -3.7, u'TMP2m': 0.6, u'PRMSL': 1011, u'DPT2m': 0, u'ICON': u'http://www.prevision-meteo.ch/style/images/icon/fortement-nuageux.png'}, u'11H00': {u'WNDDIR10m': 196, u'WNDDIRCARD10': u'S', u'WNDSPD10m': 17, u'WNDGUST10m': 30, u'HGT0C': 900, u'KINDEX': 38, u'MCDC': u'100.00', u'CIN180_0': 0, u'HCDC': u'0.00', u'RH2m': 94, u'APCPsfc': 0.9, u'LCDC': u'100.00', u'CONDITION': u'Pluie faible', u'CAPE180_0': u'4.0000', u'ISSNOW': 0, u'WNDCHILL2m': -0.2, u'TMP2m': 3.7, u'PRMSL': 1006.1, u'DPT2m': 2.9, u'ICON': u'http://www.prevision-meteo.ch/style/images/icon/pluie-faible.png'}, u'21H00': {u'WNDDIR10m': 314, u'WNDDIRCARD10': u'NO', u'WNDSPD10m': 18, u'WNDGUST10m': 28, u'HGT0C': 900, u'KINDEX': 39, u'MCDC': u'100.00', u'CIN180_0': -1, u'HCDC': u'0.00', u'RH2m': 98, u'APCPsfc': 0, u'LCDC': u'99.00', u'CONDITION': u'Faiblement nuageux', u'CAPE180_0': u'14.0000', u'ISSNOW': 0, u'WNDCHILL2m': 0.4, u'TMP2m': 4.3, u'PRMSL': 1008.3, u'DPT2m': 3.9, u'ICON': u'http://www.prevision-meteo.ch/style/images/icon/faiblement-nuageux.png'}, u'17H00': {u'WNDDIR10m': 306, u'WNDDIRCARD10': u'NO', u'WNDSPD10m': 16, u'WNDGUST10m': 25, u'HGT0C': 900, u'KINDEX': 40, u'MCDC': u'100.00', u'CIN180_0': -4, u'HCDC': u'0.00', u'RH2m': 99, u'APCPsfc': 0, u'LCDC': u'100.00', u'CONDITION': u'Faiblement nuageux', u'CAPE180_0': u'27.0000', u'ISSNOW': 0, u'WNDCHILL2m': 1.7, u'TMP2m': 5.1, u'PRMSL': 1004.9, u'DPT2m': 5, u'ICON': u'http://www.prevision-meteo.ch/style/images/icon/faiblement-nuageux.png'}, u'5H00': {u'WNDDIR10m': 199, u'WNDDIRCARD10': u'S', u'WNDSPD10m': 15, u'WNDGUST10m': 23, u'HGT0C': 1000, u'KINDEX': 36, u'MCDC': u'0.00', u'CIN180_0': 0, u'HCDC': u'0.00', u'RH2m': 97, u'APCPsfc': 0, u'LCDC': u'96.00', u'CONDITION': u'Faiblement nuageux', u'CAPE180_0': u'22.0000', u'ISSNOW': 2, u'WNDCHILL2m': -3.8, u'TMP2m': 0.5, u'PRMSL': 1010, u'DPT2m': 0.2, u'ICON': u'http://www.prevision-meteo.ch/style/images/icon/faiblement-nuageux.png'}, u'20H00': {u'WNDDIR10m': 316, u'WNDDIRCARD10': u'NO', u'WNDSPD10m': 18, u'WNDGUST10m': 28, u'HGT0C': 900, u'KINDEX': 39, u'MCDC': u'100.00', u'CIN180_0': 0, u'HCDC': u'0.00', u'RH2m': 99, u'APCPsfc': 0.4, u'LCDC': u'100.00', u'CONDITION': u'Couvert avec averses', u'CAPE180_0': u'11.0000', u'ISSNOW': 0, u'WNDCHILL2m': 0.8, u'TMP2m': 4.6, u'PRMSL': 1007.9, u'DPT2m': 4.4, u'ICON': u'http://www.prevision-meteo.ch/style/images/icon/couvert-avec-averses.png'}, u'18H00': {u'WNDDIR10m': 310, u'WNDDIRCARD10': u'NO', u'WNDSPD10m': 18, u'WNDGUST10m': 28, u'HGT0C': 900, u'KINDEX': 39, u'MCDC': u'100.00', u'CIN180_0': -1, u'HCDC': u'0.00', u'RH2m': 99, u'APCPsfc': 0, u'LCDC': u'100.00', u'CONDITION': u'Faiblement nuageux', u'CAPE180_0': u'16.0000', u'ISSNOW': 0, u'WNDCHILL2m': 1.2, u'TMP2m': 4.9, u'PRMSL': 1005.8, u'DPT2m': 4.7, u'ICON': u'http://www.prevision-meteo.ch/style/images/icon/faiblement-nuageux.png'}, u'16H00': {u'WNDDIR10m': 302, u'WNDDIRCARD10': u'NO', u'WNDSPD10m': 12, u'WNDGUST10m': 20, u'HGT0C': 900, u'KINDEX': 39, u'MCDC': u'100.00', u'CIN180_0': 0, u'HCDC': u'0.00', u'RH2m': 95, u'APCPsfc': 0, u'LCDC': u'100.00', u'CONDITION': u'Faiblement nuageux', u'CAPE180_0': u'23.0000', u'ISSNOW': 0, u'WNDCHILL2m': 3.1, u'TMP2m': 5.7, u'PRMSL': 1004.6, u'DPT2m': 5, u'ICON': u'http://www.prevision-meteo.ch/style/images/icon/faiblement-nuageux.png'}}, u'tmin': 1, u'tmax': 6, u'day_short': u'Mer.', u'date': u'25.11.2015', u'day_long': u'Mercredi', u'icon_big': u'http://www.prevision-meteo.ch/style/images/icon/pluie-faible-big.png', u'condition': u'Pluie faible', u'icon': u'http://www.prevision-meteo.ch/style/images/icon/pluie-faible.png'}, u'fcst_day_3': {u'hourly_data': {u'8H00': {u'WNDDIR10m': 324, u'WNDDIRCARD10': u'NO', u'WNDSPD10m': 17, u'WNDGUST10m': 27, u'HGT0C': 800, u'KINDEX': 38, u'MCDC': u'54.00', u'CIN180_0': 0, u'HCDC': u'0.00', u'RH2m': 97, u'APCPsfc': 0, u'LCDC': u'100.00', u'CONDITION': u'Fortement nuageux', u'CAPE180_0': u'69.0000', u'ISSNOW': 0, u'WNDCHILL2m': -0.3, u'TMP2m': 3.6, u'PRMSL': 1013.9, u'DPT2m': 3.1, u'ICON': u'http://www.prevision-meteo.ch/style/images/icon/fortement-nuageux.png'}, u'7H00': {u'WNDDIR10m': 322, u'WNDDIRCARD10': u'NO', u'WNDSPD10m': 16, u'WNDGUST10m': 26, u'HGT0C': 800, u'KINDEX': 38, u'MCDC': u'20.00', u'CIN180_0': 0, u'HCDC': u'0.00', u'RH2m': 97, u'APCPsfc': 0, u'LCDC': u'100.00', u'CONDITION': u'Fortement nuageux', u'CAPE180_0': u'71.0000', u'ISSNOW': 0, u'WNDCHILL2m': -0.1, u'TMP2m': 3.6, u'PRMSL': 1013.3, u'DPT2m': 3.1, u'ICON': u'http://www.prevision-meteo.ch/style/images/icon/fortement-nuageux.png'}, u'1H00': {u'WNDDIR10m': 312, u'WNDDIRCARD10': u'NO', u'WNDSPD10m': 17, u'WNDGUST10m': 27, u'HGT0C': 900, u'KINDEX': 39, u'MCDC': u'0.00', u'CIN180_0': 0, u'HCDC': u'0.00', u'RH2m': 96, u'APCPsfc': 0, u'LCDC': u'99.00', u'CONDITION': u'Faiblement nuageux', u'CAPE180_0': u'53.0000', u'ISSNOW': 2, u'WNDCHILL2m': -0.7, u'TMP2m': 3.3, u'PRMSL': 1010.6, u'DPT2m': 2.7, u'ICON': u'http://www.prevision-meteo.ch/style/images/icon/faiblement-nuageux.png'}, u'0H00': {u'WNDDIR10m': 311, u'WNDDIRCARD10': u'NO', u'WNDSPD10m': 16, u'WNDGUST10m': 27, u'HGT0C': 900, u'KINDEX': 39, u'MCDC': u'0.00', u'CIN180_0': 0, u'HCDC': u'0.00', u'RH2m': 96, u'APCPsfc': 0, u'LCDC': u'100.00', u'CONDITION': u'Faiblement nuageux', u'CAPE180_0': u'46.0000', u'ISSNOW': 2, u'WNDCHILL2m': -0.5, u'TMP2m': 3.3, u'PRMSL': 1010.5, u'DPT2m': 2.7, u'ICON': u'http://www.prevision-meteo.ch/style/images/icon/faiblement-nuageux.png'}, u'6H00': {u'WNDDIR10m': 319, u'WNDDIRCARD10': u'NO', u'WNDSPD10m': 16, u'WNDGUST10m': 25, u'HGT0C': 900, u'KINDEX': 39, u'MCDC': u'12.00', u'CIN180_0': 0, u'HCDC': u'0.00', u'RH2m': 97, u'APCPsfc': 0, u'LCDC': u'100.00', u'CONDITION': u'Fortement nuageux', u'CAPE180_0': u'65.0000', u'ISSNOW': 0, u'WNDCHILL2m': -0.3, u'TMP2m': 3.5, u'PRMSL': 1012.6, u'DPT2m': 3, u'ICON': u'http://www.prevision-meteo.ch/style/images/icon/fortement-nuageux.png'}, u'14H00': {u'WNDDIR10m': 355, u'WNDDIRCARD10': u'N', u'WNDSPD10m': 16, u'WNDGUST10m': 25, u'HGT0C': 800, u'KINDEX': 38, u'MCDC': u'99.00', u'CIN180_0': 0, u'HCDC': u'0.00', u'RH2m': 90, u'APCPsfc': 0.6, u'LCDC': u'100.00', u'CONDITION': u'Pluie faible', u'CAPE180_0': u'36.0000', u'ISSNOW': 0, u'WNDCHILL2m': 2.2, u'TMP2m': 5.5, u'PRMSL': 1016.1, u'DPT2m': 4, u'ICON': u'http://www.prevision-meteo.ch/style/images/icon/pluie-faible.png'}, u'22H00': {u'WNDDIR10m': 2, u'WNDDIRCARD10': u'N', u'WNDSPD10m': 10, u'WNDGUST10m': 16, u'HGT0C': 700, u'KINDEX': 36, u'MCDC': u'0.00', u'CIN180_0': 0, u'HCDC': u'0.00', u'RH2m': 100, u'APCPsfc': 0, u'LCDC': u'81.00', u'CONDITION': u'Nuit nuageuse', u'CAPE180_0': u'4.0000', u'ISSNOW': 2, u'WNDCHILL2m': -1.2, u'TMP2m': 1.8, u'PRMSL': 1020.3, u'DPT2m': 1.8, u'ICON': u'http://www.prevision-meteo.ch/style/images/icon/nuit-nuageuse.png'}, u'12H00': {u'WNDDIR10m': 345, u'WNDDIRCARD10': u'N', u'WNDSPD10m': 17, u'WNDGUST10m': 29, u'HGT0C': 700, u'KINDEX': 38, u'MCDC': u'100.00', u'CIN180_0': -1, u'HCDC': u'0.00', u'RH2m': 90, u'APCPsfc': 0.6, u'LCDC': u'100.00', u'CONDITION': u'Pluie faible', u'CAPE180_0': u'34.0000', u'ISSNOW': 0, u'WNDCHILL2m': 2, u'TMP2m': 5.4, u'PRMSL': 1015.7, u'DPT2m': 3.9, u'ICON': u'http://www.prevision-meteo.ch/style/images/icon/pluie-faible.png'}, u'13H00': {u'WNDDIR10m': 351, u'WNDDIRCARD10': u'N', u'WNDSPD10m': 16, u'WNDGUST10m': 26, u'HGT0C': 700, u'KINDEX': 38, u'MCDC': u'99.00', u'CIN180_0': 0, u'HCDC': u'0.00', u'RH2m': 90, u'APCPsfc': 0.7, u'LCDC': u'100.00', u'CONDITION': u'Pluie faible', u'CAPE180_0': u'35.0000', u'ISSNOW': 0, u'WNDCHILL2m': 2.2, u'TMP2m': 5.5, u'PRMSL': 1015.8, u'DPT2m': 4, u'ICON': u'http://www.prevision-meteo.ch/style/images/icon/pluie-faible.png'}, u'15H00': {u'WNDDIR10m': 353, u'WNDDIRCARD10': u'N', u'WNDSPD10m': 15, u'WNDGUST10m': 24, u'HGT0C': 700, u'KINDEX': 37, u'MCDC': u'25.00', u'CIN180_0': 0, u'HCDC': u'0.00', u'RH2m': 90, u'APCPsfc': 0.4, u'LCDC': u'91.00', u'CONDITION': u'Couvert avec averses', u'CAPE180_0': u'32.0000', u'ISSNOW': 0, u'WNDCHILL2m': 2.5, u'TMP2m': 5.6, u'PRMSL': 1016.7, u'DPT2m': 4.1, u'ICON': u'http://www.prevision-meteo.ch/style/images/icon/couvert-avec-averses.png'}, u'23H00': {u'WNDDIR10m': 2, u'WNDDIRCARD10': u'N', u'WNDSPD10m': 10, u'WNDGUST10m': 17, u'HGT0C': 800, u'KINDEX': 36, u'MCDC': u'0.00', u'CIN180_0': 0, u'HCDC': u'0.00', u'RH2m': 100, u'APCPsfc': 0, u'LCDC': u'15.00', u'CONDITION': u'Fortement nuageux', u'CAPE180_0': u'0.0000', u'ISSNOW': 2, u'WNDCHILL2m': -1.8, u'TMP2m': 1.3, u'PRMSL': 1020.9, u'DPT2m': 1.3, u'ICON': u'http://www.prevision-meteo.ch/style/images/icon/fortement-nuageux.png'}, u'3H00': {u'WNDDIR10m': 314, u'WNDDIRCARD10': u'NO', u'WNDSPD10m': 16, u'WNDGUST10m': 27, u'HGT0C': 900, u'KINDEX': 39, u'MCDC': u'0.00', u'CIN180_0': 0, u'HCDC': u'0.00', u'RH2m': 96, u'APCPsfc': 0, u'LCDC': u'100.00', u'CONDITION': u'Faiblement nuageux', u'CAPE180_0': u'56.0000', u'ISSNOW': 2, u'WNDCHILL2m': -0.6, u'TMP2m': 3.2, u'PRMSL': 1011.4, u'DPT2m': 2.7, u'ICON': u'http://www.prevision-meteo.ch/style/images/icon/faiblement-nuageux.png'}, u'9H00': {u'WNDDIR10m': 328, u'WNDDIRCARD10': u'NO', u'WNDSPD10m': 18, u'WNDGUST10m': 29, u'HGT0C': 800, u'KINDEX': 38, u'MCDC': u'100.00', u'CIN180_0': 0, u'HCDC': u'0.00', u'RH2m': 93, u'APCPsfc': 0, u'LCDC': u'100.00', u'CONDITION': u'Faiblement nuageux', u'CAPE180_0': u'62.0000', u'ISSNOW': 0, u'WNDCHILL2m': 0.4, u'TMP2m': 4.3, u'PRMSL': 1014.3, u'DPT2m': 3.2, u'ICON': u'http://www.prevision-meteo.ch/style/images/icon/faiblement-nuageux.png'}, u'19H00': {u'WNDDIR10m': 360, u'WNDDIRCARD10': u'N', u'WNDSPD10m': 11, u'WNDGUST10m': 17, u'HGT0C': 800, u'KINDEX': 36, u'MCDC': u'0.00', u'CIN180_0': 0, u'HCDC': u'0.00', u'RH2m': 97, u'APCPsfc': 0, u'LCDC': u'100.00', u'CONDITION': u'Nuit nuageuse', u'CAPE180_0': u'12.0000', u'ISSNOW': 0, u'WNDCHILL2m': 1.6, u'TMP2m': 4.3, u'PRMSL': 1018.7, u'DPT2m': 3.9, u'ICON': u'http://www.prevision-meteo.ch/style/images/icon/nuit-nuageuse.png'}, u'2H00': {u'WNDDIR10m': 314, u'WNDDIRCARD10': u'NO', u'WNDSPD10m': 17, u'WNDGUST10m': 27, u'HGT0C': 900, u'KINDEX': 39, u'MCDC': u'0.00', u'CIN180_0': 0, u'HCDC': u'0.00', u'RH2m': 96, u'APCPsfc': 0, u'LCDC': u'100.00', u'CONDITION': u'Faiblement nuageux', u'CAPE180_0': u'52.0000', u'ISSNOW': 2, u'WNDCHILL2m': -0.7, u'TMP2m': 3.3, u'PRMSL': 1011, u'DPT2m': 2.7, u'ICON': u'http://www.prevision-meteo.ch/style/images/icon/faiblement-nuageux.png'}, u'10H00': {u'WNDDIR10m': 333, u'WNDDIRCARD10': u'NO', u'WNDSPD10m': 19, u'WNDGUST10m': 30, u'HGT0C': 800, u'KINDEX': 38, u'MCDC': u'100.00', u'CIN180_0': 0, u'HCDC': u'0.00', u'RH2m': 89, u'APCPsfc': 0, u'LCDC': u'100.00', u'CONDITION': u'Faiblement nuageux', u'CAPE180_0': u'50.0000', u'ISSNOW': 0, u'WNDCHILL2m': 1.3, u'TMP2m': 5.1, u'PRMSL': 1015.1, u'DPT2m': 3.4, u'ICON': u'http://www.prevision-meteo.ch/style/images/icon/faiblement-nuageux.png'}, u'4H00': {u'WNDDIR10m': 316, u'WNDDIRCARD10': u'NO', u'WNDSPD10m': 16, u'WNDGUST10m': 26, u'HGT0C': 900, u'KINDEX': 39, u'MCDC': u'1.00', u'CIN180_0': 0, u'HCDC': u'0.00', u'RH2m': 96, u'APCPsfc': 0, u'LCDC': u'100.00', u'CONDITION': u'Faiblement nuageux', u'CAPE180_0': u'60.0000', u'ISSNOW': 2, u'WNDCHILL2m': -0.5, u'TMP2m': 3.3, u'PRMSL': 1011.7, u'DPT2m': 2.7, u'ICON': u'http://www.prevision-meteo.ch/style/images/icon/faiblement-nuageux.png'}, u'11H00': {u'WNDDIR10m': 340, u'WNDDIRCARD10': u'N', u'WNDSPD10m': 18, u'WNDGUST10m': 30, u'HGT0C': 700, u'KINDEX': 38, u'MCDC': u'100.00', u'CIN180_0': 0, u'HCDC': u'0.00', u'RH2m': 89, u'APCPsfc': 0.4, u'LCDC': u'100.00', u'CONDITION': u'Couvert avec averses', u'CAPE180_0': u'34.0000', u'ISSNOW': 0, u'WNDCHILL2m': 1.7, u'TMP2m': 5.3, u'PRMSL': 1015.6, u'DPT2m': 3.7, u'ICON': u'http://www.prevision-meteo.ch/style/images/icon/couvert-avec-averses.png'}, u'21H00': {u'WNDDIR10m': 4, u'WNDDIRCARD10': u'N', u'WNDSPD10m': 10, u'WNDGUST10m': 17, u'HGT0C': 800, u'KINDEX': 36, u'MCDC': u'0.00', u'CIN180_0': 0, u'HCDC': u'0.00', u'RH2m': 99, u'APCPsfc': 0, u'LCDC': u'94.00', u'CONDITION': u'Nuit nuageuse', u'CAPE180_0': u'7.0000', u'ISSNOW': 2, u'WNDCHILL2m': 0.4, u'TMP2m': 3.1, u'PRMSL': 1019.7, u'DPT2m': 3, u'ICON': u'http://www.prevision-meteo.ch/style/images/icon/nuit-nuageuse.png'}, u'17H00': {u'WNDDIR10m': 353, u'WNDDIRCARD10': u'N', u'WNDSPD10m': 11, u'WNDGUST10m': 22, u'HGT0C': 800, u'KINDEX': 37, u'MCDC': u'0.00', u'CIN180_0': 0, u'HCDC': u'0.00', u'RH2m': 99, u'APCPsfc': 0, u'LCDC': u'84.00', u'CONDITION': u'Nuit nuageuse', u'CAPE180_0': u'22.0000', u'ISSNOW': 0, u'WNDCHILL2m': 1.7, u'TMP2m': 4.4, u'PRMSL': 1017.3, u'DPT2m': 4.2, u'ICON': u'http://www.prevision-meteo.ch/style/images/icon/nuit-nuageuse.png'}, u'5H00': {u'WNDDIR10m': 318, u'WNDDIRCARD10': u'NO', u'WNDSPD10m': 16, u'WNDGUST10m': 26, u'HGT0C': 900, u'KINDEX': 38, u'MCDC': u'10.00', u'CIN180_0': 0, u'HCDC': u'0.00', u'RH2m': 96, u'APCPsfc': 0, u'LCDC': u'100.00', u'CONDITION': u'Fortement nuageux', u'CAPE180_0': u'59.0000', u'ISSNOW': 2, u'WNDCHILL2m': -0.4, u'TMP2m': 3.4, u'PRMSL': 1011.9, u'DPT2m': 2.8, u'ICON': u'http://www.prevision-meteo.ch/style/images/icon/fortement-nuageux.png'}, u'20H00': {u'WNDDIR10m': 2, u'WNDDIRCARD10': u'N', u'WNDSPD10m': 11, u'WNDGUST10m': 17, u'HGT0C': 800, u'KINDEX': 36, u'MCDC': u'0.00', u'CIN180_0': 0, u'HCDC': u'0.00', u'RH2m': 98, u'APCPsfc': 0, u'LCDC': u'98.00', u'CONDITION': u'Nuit nuageuse', u'CAPE180_0': u'9.0000', u'ISSNOW': 0, u'WNDCHILL2m': 1, u'TMP2m': 3.8, u'PRMSL': 1019.4, u'DPT2m': 3.6, u'ICON': u'http://www.prevision-meteo.ch/style/images/icon/nuit-nuageuse.png'}, u'18H00': {u'WNDDIR10m': 356, u'WNDDIRCARD10': u'N', u'WNDSPD10m': 11, u'WNDGUST10m': 17, u'HGT0C': 800, u'KINDEX': 37, u'MCDC': u'0.00', u'CIN180_0': -1, u'HCDC': u'0.00', u'RH2m': 99, u'APCPsfc': 0, u'LCDC': u'98.00', u'CONDITION': u'Nuit nuageuse', u'CAPE180_0': u'18.0000', u'ISSNOW': 0, u'WNDCHILL2m': 1.6, u'TMP2m': 4.3, u'PRMSL': 1017.9, u'DPT2m': 4.2, u'ICON': u'http://www.prevision-meteo.ch/style/images/icon/nuit-nuageuse.png'}, u'16H00': {u'WNDDIR10m': 353, u'WNDDIRCARD10': u'N', u'WNDSPD10m': 14, u'WNDGUST10m': 24, u'HGT0C': 800, u'KINDEX': 37, u'MCDC': u'10.00', u'CIN180_0': 0, u'HCDC': u'0.00', u'RH2m': 91, u'APCPsfc': 0, u'LCDC': u'90.00', u'CONDITION': u'Fortement nuageux', u'CAPE180_0': u'32.0000', u'ISSNOW': 0, u'WNDCHILL2m': 2.4, u'TMP2m': 5.4, u'PRMSL': 1016.9, u'DPT2m': 4, u'ICON': u'http://www.prevision-meteo.ch/style/images/icon/fortement-nuageux.png'}}, u'tmin': 1, u'tmax': 6, u'day_short': u'Jeu.', u'date': u'26.11.2015', u'day_long': u'Jeudi', u'icon_big': u'http://www.prevision-meteo.ch/style/images/icon/pluie-faible-big.png', u'condition': u'Pluie faible', u'icon': u'http://www.prevision-meteo.ch/style/images/icon/pluie-faible.png'}, u'fcst_day_4': {u'hourly_data': {u'8H00': {u'WNDDIR10m': 12, u'WNDDIRCARD10': u'N', u'WNDSPD10m': 9, u'WNDGUST10m': 15, u'HGT0C': 0, u'KINDEX': 37, u'MCDC': u'0.00', u'CIN180_0': 0, u'HCDC': u'0.00', u'RH2m': 97, u'APCPsfc': 0, u'LCDC': u'100.00', u'CONDITION': u'Stratus', u'CAPE180_0': u'0.0000', u'ISSNOW': 1, u'WNDCHILL2m': -3.8, u'TMP2m': -0.6, u'PRMSL': 1021.3, u'DPT2m': -1, u'ICON': u'http://www.prevision-meteo.ch/style/images/icon/stratus.png'}, u'7H00': {u'WNDDIR10m': 7, u'WNDDIRCARD10': u'N', u'WNDSPD10m': 9, u'WNDGUST10m': 15, u'HGT0C': 100, u'KINDEX': 37, u'MCDC': u'0.00', u'CIN180_0': 0, u'HCDC': u'0.00', u'RH2m': 97, u'APCPsfc': 0, u'LCDC': u'100.00', u'CONDITION': u'Nuit nuageuse', u'CAPE180_0': u'0.0000', u'ISSNOW': 1, u'WNDCHILL2m': -3.5, u'TMP2m': -0.4, u'PRMSL': 1021.3, u'DPT2m': -0.8, u'ICON': u'http://www.prevision-meteo.ch/style/images/icon/nuit-nuageuse.png'}, u'1H00': {u'WNDDIR10m': 2, u'WNDDIRCARD10': u'N', u'WNDSPD10m': 10, u'WNDGUST10m': 17, u'HGT0C': 200, u'KINDEX': 36, u'MCDC': u'0.00', u'CIN180_0': 0, u'HCDC': u'0.00', u'RH2m': 98, u'APCPsfc': 0, u'LCDC': u'100.00', u'CONDITION': u'Nuit nuageuse', u'CAPE180_0': u'0.0000', u'ISSNOW': 2, u'WNDCHILL2m': -2.2, u'TMP2m': 0.9, u'PRMSL': 1020.8, u'DPT2m': 0.5, u'ICON': u'http://www.prevision-meteo.ch/style/images/icon/nuit-nuageuse.png'}, u'0H00': {u'WNDDIR10m': 2, u'WNDDIRCARD10': u'N', u'WNDSPD10m': 10, u'WNDGUST10m': 18, u'HGT0C': 700, u'KINDEX': 36, u'MCDC': u'0.00', u'CIN180_0': 0, u'HCDC': u'0.00', u'RH2m': 98, u'APCPsfc': 0, u'LCDC': u'100.00', u'CONDITION': u'Nuit nuageuse', u'CAPE180_0': u'0.0000', u'ISSNOW': 2, u'WNDCHILL2m': -2, u'TMP2m': 1.1, u'PRMSL': 1020.9, u'DPT2m': 0.8, u'ICON': u'http://www.prevision-meteo.ch/style/images/icon/nuit-nuageuse.png'}, u'6H00': {u'WNDDIR10m': 7, u'WNDDIRCARD10': u'N', u'WNDSPD10m': 9, u'WNDGUST10m': 16, u'HGT0C': 100, u'KINDEX': 37, u'MCDC': u'0.00', u'CIN180_0': 0, u'HCDC': u'0.00', u'RH2m': 97, u'APCPsfc': 0, u'LCDC': u'100.00', u'CONDITION': u'Nuit nuageuse', u'CAPE180_0': u'0.0000', u'ISSNOW': 1, u'WNDCHILL2m': -3.4, u'TMP2m': -0.3, u'PRMSL': 1020.9, u'DPT2m': -0.7, u'ICON': u'http://www.prevision-meteo.ch/style/images/icon/nuit-nuageuse.png'}, u'14H00': {u'WNDDIR10m': 6, u'WNDDIRCARD10': u'N', u'WNDSPD10m': 10, u'WNDGUST10m': 17, u'HGT0C': 300, u'KINDEX': 39, u'MCDC': u'0.00', u'CIN180_0': 0, u'HCDC': u'0.00', u'RH2m': 82, u'APCPsfc': 0, u'LCDC': u'93.00', u'CONDITION': u'Eclaircies', u'CAPE180_0': u'0.0000', u'ISSNOW': 1, u'WNDCHILL2m': -0.2, u'TMP2m': 2.6, u'PRMSL': 1018.5, u'DPT2m': -0.1, u'ICON': u'http://www.prevision-meteo.ch/style/images/icon/eclaircies.png'}, u'22H00': {u'WNDDIR10m': 166, u'WNDDIRCARD10': u'S', u'WNDSPD10m': 6, u'WNDGUST10m': 7, u'HGT0C': 200, u'KINDEX': 36, u'MCDC': u'0.00', u'CIN180_0': 0, u'HCDC': u'0.00', u'RH2m': 96, u'APCPsfc': 0, u'LCDC': u'47.00', u'CONDITION': u'Stratus', u'CAPE180_0': u'0.0000', u'ISSNOW': 1, u'WNDCHILL2m': -1.7, u'TMP2m': 0.3, u'PRMSL': 1018, u'DPT2m': -1.3, u'ICON': u'http://www.prevision-meteo.ch/style/images/icon/stratus.png'}, u'12H00': {u'WNDDIR10m': 2, u'WNDDIRCARD10': u'N', u'WNDSPD10m': 10, u'WNDGUST10m': 16, u'HGT0C': 200, u'KINDEX': 39, u'MCDC': u'0.00', u'CIN180_0': 0, u'HCDC': u'0.00', u'RH2m': 86, u'APCPsfc': 0, u'LCDC': u'100.00', u'CONDITION': u'Eclaircies', u'CAPE180_0': u'0.0000', u'ISSNOW': 1, u'WNDCHILL2m': -1.4, u'TMP2m': 1.6, u'PRMSL': 1020.1, u'DPT2m': -0.5, u'ICON': u'http://www.prevision-meteo.ch/style/images/icon/eclaircies.png'}, u'13H00': {u'WNDDIR10m': 4, u'WNDDIRCARD10': u'N', u'WNDSPD10m': 10, u'WNDGUST10m': 17, u'HGT0C': 200, u'KINDEX': 39, u'MCDC': u'0.00', u'CIN180_0': 0, u'HCDC': u'0.00', u'RH2m': 84, u'APCPsfc': 0, u'LCDC': u'97.00', u'CONDITION': u'Eclaircies', u'CAPE180_0': u'0.0000', u'ISSNOW': 1, u'WNDCHILL2m': -0.8, u'TMP2m': 2.1, u'PRMSL': 1019, u'DPT2m': -0.2, u'ICON': u'http://www.prevision-meteo.ch/style/images/icon/eclaircies.png'}, u'15H00': {u'WNDDIR10m': 8, u'WNDDIRCARD10': u'N', u'WNDSPD10m': 11, u'WNDGUST10m': 17, u'HGT0C': 300, u'KINDEX': 39, u'MCDC': u'0.00', u'CIN180_0': 0, u'HCDC': u'0.00', u'RH2m': 83, u'APCPsfc': 0, u'LCDC': u'99.00', u'CONDITION': u'Eclaircies', u'CAPE180_0': u'0.0000', u'ISSNOW': 1, u'WNDCHILL2m': -0.3, u'TMP2m': 2.7, u'PRMSL': 1018.5, u'DPT2m': 0.1, u'ICON': u'http://www.prevision-meteo.ch/style/images/icon/eclaircies.png'}, u'23H00': {u'WNDDIR10m': 180, u'WNDDIRCARD10': u'S', u'WNDSPD10m': 7, u'WNDGUST10m': 9, u'HGT0C': 200, u'KINDEX': 36, u'MCDC': u'0.00', u'CIN180_0': 0, u'HCDC': u'0.00', u'RH2m': 96, u'APCPsfc': 0, u'LCDC': u'49.00', u'CONDITION': u'Stratus', u'CAPE180_0': u'0.0000', u'ISSNOW': 1, u'WNDCHILL2m': -2.2, u'TMP2m': 0.2, u'PRMSL': 1017.9, u'DPT2m': -1.4, u'ICON': u'http://www.prevision-meteo.ch/style/images/icon/stratus.png'}, u'3H00': {u'WNDDIR10m': 2, u'WNDDIRCARD10': u'N', u'WNDSPD10m': 9, u'WNDGUST10m': 16, u'HGT0C': 200, u'KINDEX': 38, u'MCDC': u'0.00', u'CIN180_0': 0, u'HCDC': u'0.00', u'RH2m': 97, u'APCPsfc': 0, u'LCDC': u'100.00', u'CONDITION': u'Nuit nuageuse', u'CAPE180_0': u'0.0000', u'ISSNOW': 2, u'WNDCHILL2m': -2.6, u'TMP2m': 0.4, u'PRMSL': 1021.1, u'DPT2m': 0, u'ICON': u'http://www.prevision-meteo.ch/style/images/icon/nuit-nuageuse.png'}, u'9H00': {u'WNDDIR10m': 15, u'WNDDIRCARD10': u'N', u'WNDSPD10m': 9, u'WNDGUST10m': 14, u'HGT0C': 100, u'KINDEX': 37, u'MCDC': u'0.00', u'CIN180_0': 0, u'HCDC': u'0.00', u'RH2m': 96, u'APCPsfc': 0, u'LCDC': u'100.00', u'CONDITION': u'Stratus', u'CAPE180_0': u'0.0000', u'ISSNOW': 1, u'WNDCHILL2m': -3.5, u'TMP2m': -0.4, u'PRMSL': 1021.1, u'DPT2m': -1, u'ICON': u'http://www.prevision-meteo.ch/style/images/icon/stratus.png'}, u'19H00': {u'WNDDIR10m': 23, u'WNDDIRCARD10': u'N', u'WNDSPD10m': 5, u'WNDGUST10m': 13, u'HGT0C': 200, u'KINDEX': 38, u'MCDC': u'0.00', u'CIN180_0': 0, u'HCDC': u'0.00', u'RH2m': 93, u'APCPsfc': 0, u'LCDC': u'100.00', u'CONDITION': u'Nuit claire et stratus', u'CAPE180_0': u'0.0000', u'ISSNOW': 1, u'WNDCHILL2m': -0.6, u'TMP2m': 0.9, u'PRMSL': 1017.9, u'DPT2m': 0, u'ICON': u'http://www.prevision-meteo.ch/style/images/icon/nuit-claire-et-stratus.png'}, u'2H00': {u'WNDDIR10m': 2, u'WNDDIRCARD10': u'N', u'WNDSPD10m': 9, u'WNDGUST10m': 16, u'HGT0C': 200, u'KINDEX': 37, u'MCDC': u'0.00', u'CIN180_0': 0, u'HCDC': u'0.00', u'RH2m': 98, u'APCPsfc': 0, u'LCDC': u'100.00', u'CONDITION': u'Nuit nuageuse', u'CAPE180_0': u'0.0000', u'ISSNOW': 2, u'WNDCHILL2m': -2.2, u'TMP2m': 0.7, u'PRMSL': 1020.9, u'DPT2m': 0.3, u'ICON': u'http://www.prevision-meteo.ch/style/images/icon/nuit-nuageuse.png'}, u'10H00': {u'WNDDIR10m': 15, u'WNDDIRCARD10': u'N', u'WNDSPD10m': 9, u'WNDGUST10m': 15, u'HGT0C': 100, u'KINDEX': 38, u'MCDC': u'0.00', u'CIN180_0': 0, u'HCDC': u'0.00', u'RH2m': 94, u'APCPsfc': 0, u'LCDC': u'100.00', u'CONDITION': u'Stratus', u'CAPE180_0': u'0.0000', u'ISSNOW': 1, u'WNDCHILL2m': -2.9, u'TMP2m': 0.1, u'PRMSL': 1021.2, u'DPT2m': -0.8, u'ICON': u'http://www.prevision-meteo.ch/style/images/icon/stratus.png'}, u'4H00': {u'WNDDIR10m': 2, u'WNDDIRCARD10': u'N', u'WNDSPD10m': 9, u'WNDGUST10m': 16, u'HGT0C': 100, u'KINDEX': 37, u'MCDC': u'0.00', u'CIN180_0': 0, u'HCDC': u'0.00', u'RH2m': 97, u'APCPsfc': 0, u'LCDC': u'100.00', u'CONDITION': u'Nuit nuageuse', u'CAPE180_0': u'0.0000', u'ISSNOW': 2, u'WNDCHILL2m': -2.9, u'TMP2m': 0.1, u'PRMSL': 1021, u'DPT2m': -0.2, u'ICON': u'http://www.prevision-meteo.ch/style/images/icon/nuit-nuageuse.png'}, u'11H00': {u'WNDDIR10m': 9, u'WNDDIRCARD10': u'N', u'WNDSPD10m': 9, u'WNDGUST10m': 15, u'HGT0C': 200, u'KINDEX': 38, u'MCDC': u'0.00', u'CIN180_0': 0, u'HCDC': u'0.00', u'RH2m': 90, u'APCPsfc': 0, u'LCDC': u'100.00', u'CONDITION': u'Eclaircies', u'CAPE180_0': u'0.0000', u'ISSNOW': 1, u'WNDCHILL2m': -2.2, u'TMP2m': 0.7, u'PRMSL': 1020.9, u'DPT2m': -0.7, u'ICON': u'http://www.prevision-meteo.ch/style/images/icon/eclaircies.png'}, u'21H00': {u'WNDDIR10m': 141, u'WNDDIRCARD10': u'SE', u'WNDSPD10m': 5, u'WNDGUST10m': 8, u'HGT0C': 200, u'KINDEX': 36, u'MCDC': u'0.00', u'CIN180_0': 0, u'HCDC': u'0.00', u'RH2m': 95, u'APCPsfc': 0, u'LCDC': u'48.00', u'CONDITION': u'Stratus', u'CAPE180_0': u'0.0000', u'ISSNOW': 1, u'WNDCHILL2m': -1.1, u'TMP2m': 0.4, u'PRMSL': 1018.2, u'DPT2m': -1.2, u'ICON': u'http://www.prevision-meteo.ch/style/images/icon/stratus.png'}, u'17H00': {u'WNDDIR10m': 18, u'WNDDIRCARD10': u'N', u'WNDSPD10m': 9, u'WNDGUST10m': 17, u'HGT0C': 300, u'KINDEX': 39, u'MCDC': u'0.00', u'CIN180_0': 0, u'HCDC': u'0.00', u'RH2m': 90, u'APCPsfc': 0, u'LCDC': u'100.00', u'CONDITION': u'Nuit nuageuse', u'CAPE180_0': u'0.0000', u'ISSNOW': 1, u'WNDCHILL2m': -1.1, u'TMP2m': 1.6, u'PRMSL': 1017.8, u'DPT2m': 0.1, u'ICON': u'http://www.prevision-meteo.ch/style/images/icon/nuit-nuageuse.png'}, u'5H00': {u'WNDDIR10m': 4, u'WNDDIRCARD10': u'N', u'WNDSPD10m': 9, u'WNDGUST10m': 16, u'HGT0C': 100, u'KINDEX': 37, u'MCDC': u'0.00', u'CIN180_0': 0, u'HCDC': u'0.00', u'RH2m': 97, u'APCPsfc': 0, u'LCDC': u'100.00', u'CONDITION': u'Nuit nuageuse', u'CAPE180_0': u'0.0000', u'ISSNOW': 1, u'WNDCHILL2m': -3.2, u'TMP2m': -0.1, u'PRMSL': 1020.9, u'DPT2m': -0.5, u'ICON': u'http://www.prevision-meteo.ch/style/images/icon/nuit-nuageuse.png'}, u'20H00': {u'WNDDIR10m': 113, u'WNDDIRCARD10': u'E', u'WNDSPD10m': 5, u'WNDGUST10m': 9, u'HGT0C': 300, u'KINDEX': 36, u'MCDC': u'0.00', u'CIN180_0': 0, u'HCDC': u'0.00', u'RH2m': 95, u'APCPsfc': 0, u'LCDC': u'47.00', u'CONDITION': u'Nuit claire et stratus', u'CAPE180_0': u'0.0000', u'ISSNOW': 1, u'WNDCHILL2m': -0.9, u'TMP2m': 0.6, u'PRMSL': 1018.3, u'DPT2m': -1.1, u'ICON': u'http://www.prevision-meteo.ch/style/images/icon/nuit-claire-et-stratus.png'}, u'18H00': {u'WNDDIR10m': 28, u'WNDDIRCARD10': u'NE', u'WNDSPD10m': 8, u'WNDGUST10m': 15, u'HGT0C': 200, u'KINDEX': 39, u'MCDC': u'0.00', u'CIN180_0': 0, u'HCDC': u'0.00', u'RH2m': 92, u'APCPsfc': 0, u'LCDC': u'100.00', u'CONDITION': u'Nuit claire et stratus', u'CAPE180_0': u'0.0000', u'ISSNOW': 1, u'WNDCHILL2m': -1.3, u'TMP2m': 1.2, u'PRMSL': 1017.7, u'DPT2m': 0, u'ICON': u'http://www.prevision-meteo.ch/style/images/icon/nuit-claire-et-stratus.png'}, u'16H00': {u'WNDDIR10m': 12, u'WNDDIRCARD10': u'N', u'WNDSPD10m': 10, u'WNDGUST10m': 17, u'HGT0C': 300, u'KINDEX': 40, u'MCDC': u'0.00', u'CIN180_0': 0, u'HCDC': u'0.00', u'RH2m': 86, u'APCPsfc': 0, u'LCDC': u'100.00', u'CONDITION': u'Eclaircies', u'CAPE180_0': u'0.0000', u'ISSNOW': 1, u'WNDCHILL2m': -0.7, u'TMP2m': 2.2, u'PRMSL': 1018.1, u'DPT2m': 0.1, u'ICON': u'http://www.prevision-meteo.ch/style/images/icon/eclaircies.png'}}, u'tmin': -1, u'tmax': 3, u'day_short': u'Ven.', u'date': u'27.11.2015', u'day_long': u'Vendredi', u'icon_big': u'http://www.prevision-meteo.ch/style/images/icon/eclaircies-big.png', u'condition': u'Eclaircies', u'icon': u'http://www.prevision-meteo.ch/style/images/icon/eclaircies.png'}, u'current_condition': {u'tmp': 1, u'hour': u'01:00', u'wnd_spd': 10, u'wnd_dir': u'NO', u'humidity': 96, u'pressure': 1016.7, u'wnd_gust': 16, u'date': u'23.11.2015', u'icon_big': u'http://www.prevision-meteo.ch/style/images/icon/nuit-nuageuse-big.png', u'condition': u'Nuit nuageuse', u'icon': u'http://www.prevision-meteo.ch/style/images/icon/nuit-nuageuse.png'}, u'forecast_info': {u'latitude': u'48.5844421', u'elevation': u'131.66', u'longitude': u'7.7558331'}, u'city_info': {u'elevation': u'144', u'name': u'Strasbourg', u'longitude': u'7.7558331', u'sunset': u'16:42', u'latitude': u'48.5844421', u'sunrise': u'07:48'}}\n"
     ]
    }
   ],
   "source": [
    "print jsonfile"
   ]
  },
  {
   "cell_type": "markdown",
   "metadata": {},
   "source": [
    "On essaie de faire mieux en affichant uniquement les clés du dictionnaire :"
   ]
  },
  {
   "cell_type": "code",
   "execution_count": 4,
   "metadata": {
    "collapsed": false
   },
   "outputs": [
    {
     "name": "stdout",
     "output_type": "stream",
     "text": [
      "fcst_day_0\n",
      "fcst_day_1\n",
      "fcst_day_2\n",
      "fcst_day_3\n",
      "fcst_day_4\n",
      "current_condition\n",
      "forecast_info\n",
      "city_info\n"
     ]
    }
   ],
   "source": [
    "for k in jsonfile:\n",
    "    print k"
   ]
  },
  {
   "cell_type": "markdown",
   "metadata": {},
   "source": [
    "On est intéressé par le temps d'aujourd'hui :"
   ]
  },
  {
   "cell_type": "code",
   "execution_count": 5,
   "metadata": {
    "collapsed": false
   },
   "outputs": [
    {
     "name": "stdout",
     "output_type": "stream",
     "text": [
      "{u'hourly_data': {u'8H00': {u'WNDDIR10m': 247, u'WNDDIRCARD10': u'SO', u'WNDSPD10m': 8, u'WNDGUST10m': 16, u'HGT0C': 100, u'KINDEX': 43, u'MCDC': u'0.00', u'CIN180_0': 0, u'HCDC': u'0.00', u'RH2m': 89, u'APCPsfc': 0, u'LCDC': u'2.00', u'CONDITION': u'Stratus se dissipant', u'CAPE180_0': u'4.0000', u'ISSNOW': 1, u'WNDCHILL2m': -3, u'TMP2m': -0.2, u'PRMSL': 1022.2, u'DPT2m': -1.8, u'ICON': u'http://www.prevision-meteo.ch/style/images/icon/stratus-se-dissipant.png'}, u'7H00': {u'WNDDIR10m': 254, u'WNDDIRCARD10': u'O', u'WNDSPD10m': 12, u'WNDGUST10m': 0, u'HGT0C': 400, u'KINDEX': 42, u'MCDC': u'0.00', u'CIN180_0': 0, u'HCDC': u'0.00', u'RH2m': 85, u'APCPsfc': 0, u'LCDC': u'0.00', u'CONDITION': u'Nuit claire et stratus', u'CAPE180_0': u'1.0000', u'ISSNOW': 1, u'WNDCHILL2m': -2.3, u'TMP2m': 1.2, u'PRMSL': 1021.5, u'DPT2m': -1, u'ICON': u'http://www.prevision-meteo.ch/style/images/icon/nuit-claire-et-stratus.png'}, u'1H00': {u'WNDDIR10m': 295, u'WNDDIRCARD10': u'NO', u'WNDSPD10m': 10, u'WNDGUST10m': 16, u'HGT0C': 400, u'KINDEX': 40, u'MCDC': u'0.00', u'CIN180_0': 0, u'HCDC': u'0.00', u'RH2m': 96, u'APCPsfc': 0, u'LCDC': u'25.00', u'CONDITION': u'Nuit nuageuse', u'CAPE180_0': u'0.0000', u'ISSNOW': 1, u'WNDCHILL2m': -2.4, u'TMP2m': 0.8, u'PRMSL': 1016.7, u'DPT2m': 0.3, u'ICON': u'http://www.prevision-meteo.ch/style/images/icon/nuit-nuageuse.png'}, u'0H00': {u'WNDDIR10m': 290, u'WNDDIRCARD10': u'O', u'WNDSPD10m': 11, u'WNDGUST10m': 17, u'HGT0C': 500, u'KINDEX': 41, u'MCDC': u'78.00', u'CIN180_0': -15, u'HCDC': u'0.00', u'RH2m': 96, u'APCPsfc': 0, u'LCDC': u'84.00', u'CONDITION': u'Faiblement nuageux', u'CAPE180_0': u'5.0000', u'ISSNOW': 1, u'WNDCHILL2m': -0.9, u'TMP2m': 2.2, u'PRMSL': 1016, u'DPT2m': 1.6, u'ICON': u'http://www.prevision-meteo.ch/style/images/icon/faiblement-nuageux.png'}, u'6H00': {u'WNDDIR10m': 272, u'WNDDIRCARD10': u'O', u'WNDSPD10m': 9, u'WNDGUST10m': 14, u'HGT0C': -100, u'KINDEX': 38, u'MCDC': u'0.00', u'CIN180_0': 0, u'HCDC': u'0.00', u'RH2m': 95, u'APCPsfc': 0, u'LCDC': u'24.00', u'CONDITION': u'Nuit nuageuse', u'CAPE180_0': u'0.0000', u'ISSNOW': 1, u'WNDCHILL2m': -5.1, u'TMP2m': -1.7, u'PRMSL': 1020.3, u'DPT2m': -2.5, u'ICON': u'http://www.prevision-meteo.ch/style/images/icon/nuit-nuageuse.png'}, u'14H00': {u'WNDDIR10m': 248, u'WNDDIRCARD10': u'SO', u'WNDSPD10m': 4, u'WNDGUST10m': 6, u'HGT0C': 600, u'KINDEX': 43, u'MCDC': u'0.00', u'CIN180_0': 0, u'HCDC': u'0.00', u'RH2m': 71, u'APCPsfc': 0, u'LCDC': u'8.00', u'CONDITION': u'Eclaircies', u'CAPE180_0': u'3.0000', u'ISSNOW': 0, u'WNDCHILL2m': 5.1, u'TMP2m': 5.1, u'PRMSL': 1024.8, u'DPT2m': 0.3, u'ICON': u'http://www.prevision-meteo.ch/style/images/icon/eclaircies.png'}, u'22H00': {u'WNDDIR10m': 187, u'WNDDIRCARD10': u'S', u'WNDSPD10m': 8, u'WNDGUST10m': 14, u'HGT0C': 200, u'KINDEX': 40, u'MCDC': u'0.00', u'CIN180_0': 0, u'HCDC': u'0.00', u'RH2m': 93, u'APCPsfc': 0, u'LCDC': u'0.00', u'CONDITION': u'Stratus', u'CAPE180_0': u'0.0000', u'ISSNOW': 2, u'WNDCHILL2m': -3.1, u'TMP2m': -0.3, u'PRMSL': 1026.9, u'DPT2m': -1.3, u'ICON': u'http://www.prevision-meteo.ch/style/images/icon/stratus.png'}, u'12H00': {u'WNDDIR10m': 288, u'WNDDIRCARD10': u'O', u'WNDSPD10m': 7, u'WNDGUST10m': 15, u'HGT0C': 500, u'KINDEX': 45, u'MCDC': u'0.00', u'CIN180_0': 0, u'HCDC': u'0.00', u'RH2m': 71, u'APCPsfc': 0, u'LCDC': u'51.00', u'CONDITION': u'Eclaircies', u'CAPE180_0': u'10.0000', u'ISSNOW': 0, u'WNDCHILL2m': 2.8, u'TMP2m': 4.5, u'PRMSL': 1024.1, u'DPT2m': -0.2, u'ICON': u'http://www.prevision-meteo.ch/style/images/icon/eclaircies.png'}, u'13H00': {u'WNDDIR10m': 284, u'WNDDIRCARD10': u'O', u'WNDSPD10m': 4, u'WNDGUST10m': 10, u'HGT0C': 600, u'KINDEX': 44, u'MCDC': u'0.00', u'CIN180_0': 0, u'HCDC': u'0.00', u'RH2m': 71, u'APCPsfc': 0, u'LCDC': u'28.00', u'CONDITION': u'Eclaircies', u'CAPE180_0': u'7.0000', u'ISSNOW': 0, u'WNDCHILL2m': 5, u'TMP2m': 5, u'PRMSL': 1024.5, u'DPT2m': 0.1, u'ICON': u'http://www.prevision-meteo.ch/style/images/icon/eclaircies.png'}, u'15H00': {u'WNDDIR10m': 239, u'WNDDIRCARD10': u'SO', u'WNDSPD10m': 4, u'WNDGUST10m': 7, u'HGT0C': 600, u'KINDEX': 42, u'MCDC': u'0.00', u'CIN180_0': 0, u'HCDC': u'0.00', u'RH2m': 73, u'APCPsfc': 0, u'LCDC': u'1.00', u'CONDITION': u'Ensoleill\\xe9', u'CAPE180_0': u'1.0000', u'ISSNOW': 0, u'WNDCHILL2m': 5, u'TMP2m': 5, u'PRMSL': 1024.9, u'DPT2m': 0.6, u'ICON': u'http://www.prevision-meteo.ch/style/images/icon/ensoleille.png'}, u'23H00': {u'WNDDIR10m': 182, u'WNDDIRCARD10': u'S', u'WNDSPD10m': 8, u'WNDGUST10m': 14, u'HGT0C': 0, u'KINDEX': 40, u'MCDC': u'0.00', u'CIN180_0': 0, u'HCDC': u'0.00', u'RH2m': 95, u'APCPsfc': 0, u'LCDC': u'0.00', u'CONDITION': u'Stratus', u'CAPE180_0': u'0.0000', u'ISSNOW': 2, u'WNDCHILL2m': -4, u'TMP2m': -1.1, u'PRMSL': 1027.3, u'DPT2m': -1.8, u'ICON': u'http://www.prevision-meteo.ch/style/images/icon/stratus.png'}, u'3H00': {u'WNDDIR10m': 293, u'WNDDIRCARD10': u'O', u'WNDSPD10m': 10, u'WNDGUST10m': 16, u'HGT0C': 0, u'KINDEX': 42, u'MCDC': u'0.00', u'CIN180_0': 0, u'HCDC': u'0.00', u'RH2m': 96, u'APCPsfc': 0, u'LCDC': u'24.00', u'CONDITION': u'Stratus', u'CAPE180_0': u'0.0000', u'ISSNOW': 1, u'WNDCHILL2m': -4, u'TMP2m': -0.6, u'PRMSL': 1018.1, u'DPT2m': -1.2, u'ICON': u'http://www.prevision-meteo.ch/style/images/icon/stratus.png'}, u'9H00': {u'WNDDIR10m': 254, u'WNDDIRCARD10': u'O', u'WNDSPD10m': 7, u'WNDGUST10m': 13, u'HGT0C': 500, u'KINDEX': 45, u'MCDC': u'0.00', u'CIN180_0': 0, u'HCDC': u'0.00', u'RH2m': 87, u'APCPsfc': 0, u'LCDC': u'42.00', u'CONDITION': u'Eclaircies', u'CAPE180_0': u'23.0000', u'ISSNOW': 1, u'WNDCHILL2m': -1.1, u'TMP2m': 1.1, u'PRMSL': 1023.1, u'DPT2m': -0.9, u'ICON': u'http://www.prevision-meteo.ch/style/images/icon/eclaircies.png'}, u'19H00': {u'WNDDIR10m': 196, u'WNDDIRCARD10': u'S', u'WNDSPD10m': 7, u'WNDGUST10m': 12, u'HGT0C': 700, u'KINDEX': 40, u'MCDC': u'0.00', u'CIN180_0': 0, u'HCDC': u'0.00', u'RH2m': 84, u'APCPsfc': 0, u'LCDC': u'0.00', u'CONDITION': u'Nuit claire', u'CAPE180_0': u'0.0000', u'ISSNOW': 2, u'WNDCHILL2m': 0.3, u'TMP2m': 2.3, u'PRMSL': 1026.3, u'DPT2m': 0, u'ICON': u'http://www.prevision-meteo.ch/style/images/icon/nuit-claire.png'}, u'2H00': {u'WNDDIR10m': 294, u'WNDDIRCARD10': u'NO', u'WNDSPD10m': 10, u'WNDGUST10m': 16, u'HGT0C': 200, u'KINDEX': 40, u'MCDC': u'0.00', u'CIN180_0': 0, u'HCDC': u'0.00', u'RH2m': 96, u'APCPsfc': 0, u'LCDC': u'21.00', u'CONDITION': u'Stratus', u'CAPE180_0': u'0.0000', u'ISSNOW': 1, u'WNDCHILL2m': -3.3, u'TMP2m': 0, u'PRMSL': 1017.5, u'DPT2m': -0.6, u'ICON': u'http://www.prevision-meteo.ch/style/images/icon/stratus.png'}, u'10H00': {u'WNDDIR10m': 278, u'WNDDIRCARD10': u'O', u'WNDSPD10m': 10, u'WNDGUST10m': 14, u'HGT0C': 500, u'KINDEX': 46, u'MCDC': u'0.00', u'CIN180_0': 0, u'HCDC': u'0.00', u'RH2m': 78, u'APCPsfc': 0, u'LCDC': u'97.00', u'CONDITION': u'Eclaircies', u'CAPE180_0': u'22.0000', u'ISSNOW': 1, u'WNDCHILL2m': 0.3, u'TMP2m': 3, u'PRMSL': 1023.9, u'DPT2m': -0.4, u'ICON': u'http://www.prevision-meteo.ch/style/images/icon/eclaircies.png'}, u'4H00': {u'WNDDIR10m': 289, u'WNDDIRCARD10': u'O', u'WNDSPD10m': 10, u'WNDGUST10m': 15, u'HGT0C': 0, u'KINDEX': 42, u'MCDC': u'0.00', u'CIN180_0': 0, u'HCDC': u'0.00', u'RH2m': 96, u'APCPsfc': 0, u'LCDC': u'25.00', u'CONDITION': u'Stratus', u'CAPE180_0': u'0.0000', u'ISSNOW': 1, u'WNDCHILL2m': -4.6, u'TMP2m': -1.1, u'PRMSL': 1018.7, u'DPT2m': -1.6, u'ICON': u'http://www.prevision-meteo.ch/style/images/icon/stratus.png'}, u'11H00': {u'WNDDIR10m': 286, u'WNDDIRCARD10': u'O', u'WNDSPD10m': 9, u'WNDGUST10m': 15, u'HGT0C': 500, u'KINDEX': 46, u'MCDC': u'0.00', u'CIN180_0': 0, u'HCDC': u'0.00', u'RH2m': 74, u'APCPsfc': 0, u'LCDC': u'79.00', u'CONDITION': u'Eclaircies', u'CAPE180_0': u'15.0000', u'ISSNOW': 0, u'WNDCHILL2m': 1.6, u'TMP2m': 3.9, u'PRMSL': 1024.3, u'DPT2m': -0.3, u'ICON': u'http://www.prevision-meteo.ch/style/images/icon/eclaircies.png'}, u'21H00': {u'WNDDIR10m': 190, u'WNDDIRCARD10': u'S', u'WNDSPD10m': 8, u'WNDGUST10m': 14, u'HGT0C': 700, u'KINDEX': 40, u'MCDC': u'0.00', u'CIN180_0': 0, u'HCDC': u'0.00', u'RH2m': 90, u'APCPsfc': 0, u'LCDC': u'0.00', u'CONDITION': u'Nuit claire et stratus', u'CAPE180_0': u'0.0000', u'ISSNOW': 2, u'WNDCHILL2m': -2, u'TMP2m': 0.6, u'PRMSL': 1026.6, u'DPT2m': -0.8, u'ICON': u'http://www.prevision-meteo.ch/style/images/icon/nuit-claire-et-stratus.png'}, u'17H00': {u'WNDDIR10m': 193, u'WNDDIRCARD10': u'S', u'WNDSPD10m': 5, u'WNDGUST10m': 8, u'HGT0C': 700, u'KINDEX': 41, u'MCDC': u'0.00', u'CIN180_0': 0, u'HCDC': u'0.00', u'RH2m': 81, u'APCPsfc': 0, u'LCDC': u'0.00', u'CONDITION': u'Nuit claire', u'CAPE180_0': u'1.0000', u'ISSNOW': 0, u'WNDCHILL2m': 2.4, u'TMP2m': 3.5, u'PRMSL': 1025.2, u'DPT2m': 0.7, u'ICON': u'http://www.prevision-meteo.ch/style/images/icon/nuit-claire.png'}, u'5H00': {u'WNDDIR10m': 279, u'WNDDIRCARD10': u'O', u'WNDSPD10m': 9, u'WNDGUST10m': 14, u'HGT0C': -100, u'KINDEX': 40, u'MCDC': u'0.00', u'CIN180_0': 0, u'HCDC': u'0.00', u'RH2m': 96, u'APCPsfc': 0, u'LCDC': u'24.00', u'CONDITION': u'Stratus', u'CAPE180_0': u'0.0000', u'ISSNOW': 1, u'WNDCHILL2m': -4.7, u'TMP2m': -1.4, u'PRMSL': 1019.4, u'DPT2m': -2, u'ICON': u'http://www.prevision-meteo.ch/style/images/icon/stratus.png'}, u'20H00': {u'WNDDIR10m': 194, u'WNDDIRCARD10': u'S', u'WNDSPD10m': 7, u'WNDGUST10m': 12, u'HGT0C': 700, u'KINDEX': 40, u'MCDC': u'0.00', u'CIN180_0': 0, u'HCDC': u'0.00', u'RH2m': 87, u'APCPsfc': 0, u'LCDC': u'0.00', u'CONDITION': u'Nuit claire', u'CAPE180_0': u'0.0000', u'ISSNOW': 2, u'WNDCHILL2m': -0.5, u'TMP2m': 1.6, u'PRMSL': 1026.6, u'DPT2m': -0.3, u'ICON': u'http://www.prevision-meteo.ch/style/images/icon/nuit-claire.png'}, u'18H00': {u'WNDDIR10m': 193, u'WNDDIRCARD10': u'S', u'WNDSPD10m': 6, u'WNDGUST10m': 10, u'HGT0C': 700, u'KINDEX': 41, u'MCDC': u'0.00', u'CIN180_0': 0, u'HCDC': u'0.00', u'RH2m': 83, u'APCPsfc': 0, u'LCDC': u'0.00', u'CONDITION': u'Nuit claire', u'CAPE180_0': u'0.0000', u'ISSNOW': 2, u'WNDCHILL2m': 1.2, u'TMP2m': 2.8, u'PRMSL': 1025.6, u'DPT2m': 0.3, u'ICON': u'http://www.prevision-meteo.ch/style/images/icon/nuit-claire.png'}, u'16H00': {u'WNDDIR10m': 220, u'WNDDIRCARD10': u'SO', u'WNDSPD10m': 3, u'WNDGUST10m': 7, u'HGT0C': 700, u'KINDEX': 41, u'MCDC': u'0.00', u'CIN180_0': 0, u'HCDC': u'0.00', u'RH2m': 81, u'APCPsfc': 0, u'LCDC': u'8.00', u'CONDITION': u'Faibles passages nuageux', u'CAPE180_0': u'1.0000', u'ISSNOW': 0, u'WNDCHILL2m': 4.5, u'TMP2m': 4.5, u'PRMSL': 1025, u'DPT2m': 1.5, u'ICON': u'http://www.prevision-meteo.ch/style/images/icon/faibles-passages-nuageux.png'}}, u'tmin': -2, u'tmax': 5, u'day_short': u'Lun.', u'date': u'23.11.2015', u'day_long': u'Lundi', u'icon_big': u'http://www.prevision-meteo.ch/style/images/icon/eclaircies-big.png', u'condition': u'Eclaircies', u'icon': u'http://www.prevision-meteo.ch/style/images/icon/eclaircies.png'}\n"
     ]
    }
   ],
   "source": [
    "day = jsonfile['fcst_day_0']\n",
    "print day"
   ]
  },
  {
   "cell_type": "markdown",
   "metadata": {},
   "source": [
    "Là aussi, on cherche les clés :"
   ]
  },
  {
   "cell_type": "code",
   "execution_count": 6,
   "metadata": {
    "collapsed": false
   },
   "outputs": [
    {
     "name": "stdout",
     "output_type": "stream",
     "text": [
      "hourly_data\n",
      "tmin\n",
      "tmax\n",
      "day_short\n",
      "date\n",
      "day_long\n",
      "icon_big\n",
      "condition\n",
      "icon\n"
     ]
    }
   ],
   "source": [
    "for k in day:\n",
    "    print k"
   ]
  },
  {
   "cell_type": "markdown",
   "metadata": {},
   "source": [
    "Vérifions qu'il s'agit d'aujourd'hui :"
   ]
  },
  {
   "cell_type": "code",
   "execution_count": 7,
   "metadata": {
    "collapsed": false
   },
   "outputs": [
    {
     "name": "stdout",
     "output_type": "stream",
     "text": [
      "Lundi 23.11.2015\n"
     ]
    }
   ],
   "source": [
    "print day['day_long'], day['date']"
   ]
  },
  {
   "cell_type": "markdown",
   "metadata": {},
   "source": [
    "C'est bon !\n",
    "Maintenant, une entrée particulière nous intéresse :"
   ]
  },
  {
   "cell_type": "code",
   "execution_count": 8,
   "metadata": {
    "collapsed": false
   },
   "outputs": [
    {
     "name": "stdout",
     "output_type": "stream",
     "text": [
      "8H00\n",
      "7H00\n",
      "1H00\n",
      "0H00\n",
      "6H00\n",
      "14H00\n",
      "22H00\n",
      "12H00\n",
      "13H00\n",
      "15H00\n",
      "23H00\n",
      "3H00\n",
      "9H00\n",
      "19H00\n",
      "2H00\n",
      "10H00\n",
      "4H00\n",
      "11H00\n",
      "21H00\n",
      "17H00\n",
      "5H00\n",
      "20H00\n",
      "18H00\n",
      "16H00\n"
     ]
    }
   ],
   "source": [
    "day_hd = day['hourly_data']\n",
    "for k in day_hd:\n",
    "    print k"
   ]
  },
  {
   "cell_type": "markdown",
   "metadata": {},
   "source": [
    "Regardons ce que contient une 'hourly_data' :"
   ]
  },
  {
   "cell_type": "code",
   "execution_count": 9,
   "metadata": {
    "collapsed": false
   },
   "outputs": [
    {
     "name": "stdout",
     "output_type": "stream",
     "text": [
      "WNDDIR10m\n",
      "WNDDIRCARD10\n",
      "WNDSPD10m\n",
      "WNDGUST10m\n",
      "HGT0C\n",
      "KINDEX\n",
      "MCDC\n",
      "CIN180_0\n",
      "HCDC\n",
      "RH2m\n",
      "APCPsfc\n",
      "LCDC\n",
      "CONDITION\n",
      "CAPE180_0\n",
      "ISSNOW\n",
      "WNDCHILL2m\n",
      "TMP2m\n",
      "PRMSL\n",
      "DPT2m\n",
      "ICON\n"
     ]
    }
   ],
   "source": [
    "for k in day_hd['8H00']:\n",
    "    print k"
   ]
  },
  {
   "cell_type": "markdown",
   "metadata": {},
   "source": [
    "La clé qui nous intéresse est la chaîne ``'TMP2m'`` qui correspond à la température à 2m du sol."
   ]
  },
  {
   "cell_type": "code",
   "execution_count": 11,
   "metadata": {
    "collapsed": false
   },
   "outputs": [
    {
     "name": "stdout",
     "output_type": "stream",
     "text": [
      "Aujourd'hui à 12H00, il fera : 4.5 deg. C.\n"
     ]
    }
   ],
   "source": [
    "hour = '12H00'\n",
    "print \"Aujourd'hui à {}, il fera : {} deg. C.\".format(hour, day_hd[hour]['TMP2m'])"
   ]
  },
  {
   "cell_type": "markdown",
   "metadata": {},
   "source": [
    "Sauver ces lignes de commandes dans le fichier ``today_stras.py`` en allant de l'exécution 1 au compteur d'exécution courant indiqué dans la cellule de code ci-dessus ``In [XX]``. Dans le cas présent"
   ]
  },
  {
   "cell_type": "code",
   "execution_count": 15,
   "metadata": {
    "collapsed": false
   },
   "outputs": [
    {
     "name": "stdout",
     "output_type": "stream",
     "text": [
      "File `today_stras.py` exists. Overwrite (y/[N])?  y\n",
      "The following commands were written to file `today_stras.py`:\n",
      "import urllib2\n",
      "\n",
      "jsonfile_url = \"http://www.prevision-meteo.ch/services/json/Strasbourg\"\n",
      "f = urllib2.urlopen(jsonfile_url)  # open url\n",
      "import json\n",
      "jsonfile = json.load(f)  # Read JSON file\n",
      "    \n",
      "print jsonfile\n",
      "for k in jsonfile:\n",
      "    print k\n",
      "day = jsonfile['fcst_day_0']\n",
      "print day\n",
      "for k in day:\n",
      "    print k\n",
      "print day['day_long'], day['date']\n",
      "day_hd = day['hourly_data']\n",
      "for k in day_hd:\n",
      "    print k\n",
      "for k in day_hd['8H00']:\n",
      "    print k\n",
      "hour = '12H00'\n",
      "print \"Aujourd'hui à {}, il fera : {} deg. C.\".format(hour, day_hd[hour]['TMP2m'])\n"
     ]
    }
   ],
   "source": [
    "%save today_stras.py 1-10"
   ]
  },
  {
   "cell_type": "markdown",
   "metadata": {
    "slideshow": {
     "slide_type": "subslide"
    }
   },
   "source": [
    "1. Ouvrir le fichier ``today_stras.py`` dans Spyder et nettoyer les ``print`` inutiles.\n",
    "2. Relancer Spyder et utiliser la fenêtre \"Variable explorer\" en haut à droite pour parcourir les données de votre dictionnaire\n",
    "3. Extraire la liste des couples ``hour/temperature`` où :\n",
    "    - ``hour`` est un entier\n",
    "    - ``temperature`` est un flottant\n",
    "4. ordonner la liste selon les heures croissantes\n",
    "5. convertir la liste en un *numpy array* ``t`` avec la méthode ``numpy.array()``\n",
    "6. Transposer ``t`` pour obtenir le tableau ``[[liste of hours], [list of temperatures]]``\n",
    "7. réaliser un tracé matplotlib en suivant [ce tutoriel](http://matplotlib.org/users/pyplot_tutorial.html) ou en intégrant les lignes de code suivantes : \n"
   ]
  },
  {
   "cell_type": "code",
   "execution_count": 16,
   "metadata": {
    "collapsed": false
   },
   "outputs": [
    {
     "ename": "NameError",
     "evalue": "name 't' is not defined",
     "output_type": "error",
     "traceback": [
      "\u001b[0;31m---------------------------------------------------------------------------\u001b[0m",
      "\u001b[0;31mNameError\u001b[0m                                 Traceback (most recent call last)",
      "\u001b[0;32m<ipython-input-16-623b4df5594e>\u001b[0m in \u001b[0;36m<module>\u001b[0;34m()\u001b[0m\n\u001b[1;32m     15\u001b[0m \u001b[0max\u001b[0m\u001b[0;34m.\u001b[0m\u001b[0mset_ylabel\u001b[0m\u001b[0;34m(\u001b[0m\u001b[0;34m'Temperature [deg. C]'\u001b[0m\u001b[0;34m)\u001b[0m\u001b[0;34m\u001b[0m\u001b[0m\n\u001b[1;32m     16\u001b[0m \u001b[0;34m\u001b[0m\u001b[0m\n\u001b[0;32m---> 17\u001b[0;31m \u001b[0max\u001b[0m\u001b[0;34m.\u001b[0m\u001b[0mplot\u001b[0m\u001b[0;34m(\u001b[0m\u001b[0mt\u001b[0m\u001b[0;34m[\u001b[0m\u001b[0;36m0\u001b[0m\u001b[0;34m]\u001b[0m\u001b[0;34m,\u001b[0m \u001b[0mt\u001b[0m\u001b[0;34m[\u001b[0m\u001b[0;36m1\u001b[0m\u001b[0;34m]\u001b[0m\u001b[0;34m)\u001b[0m  \u001b[0;31m# plot t[1] (tempe) as a function of t[0] (hour)\u001b[0m\u001b[0;34m\u001b[0m\u001b[0m\n\u001b[0m",
      "\u001b[0;31mNameError\u001b[0m: name 't' is not defined"
     ]
    }
   ],
   "source": [
    "import matplotlib.pyplot as plt  # To be placed at the top of python file\n",
    "\n",
    "# [Your previous code...]\n",
    "\n",
    "# Plot T = T(hour)\n",
    "fig = plt.figure()  # initialise figure\n",
    "title = \"{} {}\".format(day_of_the_week, date_of_today)\n",
    "fig.suptitle(title, fontsize=14, fontweight='bold')\n",
    "\n",
    "ax = fig.add_subplot(111)  # initialise a plot area\n",
    "fig.subplots_adjust(top=0.85)\n",
    "ax.set_title('Day temperature')\n",
    "ax.set_xlabel('Time [h]')\n",
    "ax.set_ylabel('Temperature [deg. C]')\n",
    "\n",
    "ax.plot(t[0], t[1])  # plot t[1] (tempe) as a function of t[0] (hour)"
   ]
  },
  {
   "cell_type": "markdown",
   "metadata": {},
   "source": [
    "> **Option :** intégrer l'icone de la météo du jour en utilisant le module ``matplotlib.image``"
   ]
  },
  {
   "cell_type": "markdown",
   "metadata": {
    "slideshow": {
     "slide_type": "subslide"
    }
   },
   "source": [
    "Solution dans [exos/meteo_json.py](http://localhost:8888/edit/exos/meteo_json.py)"
   ]
  },
  {
   "cell_type": "markdown",
   "metadata": {
    "slideshow": {
     "slide_type": "-"
    }
   },
   "source": [
    "### Suite de l'exercice\n",
    "\n",
    "- Laissez libre cours à vos idées et envies, par exemple :\n",
    "    - en créant une fonction qui un des jours disponibles en argument (aujourd'hui, demain, après-demain...)\n",
    "    - en cherchant à tracer l'évolution horaire de la température dans les 5 prochains jours\n",
    "    - etc.\n",
    "\n",
    "- Dans Spyder:\n",
    "    - testez le système de debugging\n",
    "    - testez le profiler\n"
   ]
  }
 ],
 "metadata": {
  "celltoolbar": "Slideshow",
  "kernelspec": {
   "display_name": "Python 2",
   "language": "python",
   "name": "python2"
  },
  "language_info": {
   "codemirror_mode": {
    "name": "ipython",
    "version": 2
   },
   "file_extension": ".py",
   "mimetype": "text/x-python",
   "name": "python",
   "nbconvert_exporter": "python",
   "pygments_lexer": "ipython2",
   "version": "2.7.10"
  }
 },
 "nbformat": 4,
 "nbformat_minor": 0
}
